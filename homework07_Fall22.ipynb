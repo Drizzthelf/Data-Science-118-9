{
 "cells": [
  {
   "cell_type": "markdown",
   "metadata": {},
   "source": [
    "# Data 11800 - Autumn 2022\n",
    "# Homework 7: A/B testing and fuzzy matching (50 points)\n",
    "\n",
    "**Reading**: Textbook chapter [12](https://inferentialthinking.com/chapters/12/Comparing_Two_Samples.html)\n",
    "\n",
    "Please complete this notebook by filling in the cells provided. Before you begin, execute the following cell to load the needed functions. Each time you start your server, you will need to execute this cell again to load them.  \n",
    "\n",
    "Homework 7 is due Thursday, December 1 at 9:00am. Late work will not be accepted.  "
   ]
  },
  {
   "cell_type": "code",
   "execution_count": 64,
   "metadata": {},
   "outputs": [],
   "source": [
    "# Don't change this cell; just run it. \n",
    "\n",
    "import numpy as np\n",
    "import pandas as pd\n",
    "\n",
    "import matplotlib\n",
    "%matplotlib inline\n",
    "import matplotlib.pyplot as plt\n",
    "plt.style.use('fivethirtyeight')\n",
    "import warnings\n",
    "warnings.simplefilter(action=\"ignore\", category=FutureWarning)"
   ]
  },
  {
   "cell_type": "markdown",
   "metadata": {},
   "source": [
    "# 1. Possum metrology (25 points) \n",
    "\n",
    "The data for this exercise were collected in Australia and New Guinea and represent various measurements of possum dimensions of 102 animals caught at 7 locations in Victoria, New South Wales, and Queensland in October and November of 1993. Source of data: \n",
    "\n",
    "Lindenmayer, D. B., Viggers, K. L., Cunningham, R. B., and Donnelly, C. F. 1995. Morphological variation among columns of the mountain brushtail possum, Trichosurus caninus Ogilby (Phalangeridae: Marsupiala). Australian Journal of Zoology 43: 449-458. \n",
    "\n",
    "Variables in the dataset:\n",
    "\n",
    "- site: one of seven locations where possums were trapped. The sites were, in order, Cambarville, Bellbird, Whian Whian, Byrangery, Conondale, Allyn River and Bulburin\n",
    "- pop:  a factor which classifies the sites as Vic (for Victoria) and other (New South Wales or Queensland)\n",
    "- sex: a factor with levels f female, m male\n",
    "- age\n",
    "- head_l:  head length\n",
    "- skull_w:  skull width\n",
    "- total_l: total length\n",
    "- tail_l: tail length\n",
    "\n",
    "We believe that the units for `age` is  years, for `head_l`, `skull_w` and `tail_l` are mm; possums are about 20 inches long so let's assume that `total_l` is in cm.  \n"
   ]
  },
  {
   "cell_type": "code",
   "execution_count": 65,
   "metadata": {},
   "outputs": [
    {
     "data": {
      "text/html": [
       "<div>\n",
       "<style scoped>\n",
       "    .dataframe tbody tr th:only-of-type {\n",
       "        vertical-align: middle;\n",
       "    }\n",
       "\n",
       "    .dataframe tbody tr th {\n",
       "        vertical-align: top;\n",
       "    }\n",
       "\n",
       "    .dataframe thead th {\n",
       "        text-align: right;\n",
       "    }\n",
       "</style>\n",
       "<table border=\"1\" class=\"dataframe\">\n",
       "  <thead>\n",
       "    <tr style=\"text-align: right;\">\n",
       "      <th></th>\n",
       "      <th>site</th>\n",
       "      <th>pop</th>\n",
       "      <th>sex</th>\n",
       "      <th>age</th>\n",
       "      <th>head_l</th>\n",
       "      <th>skull_w</th>\n",
       "      <th>total_l</th>\n",
       "      <th>tail_l</th>\n",
       "    </tr>\n",
       "  </thead>\n",
       "  <tbody>\n",
       "    <tr>\n",
       "      <th>0</th>\n",
       "      <td>1</td>\n",
       "      <td>Vic</td>\n",
       "      <td>m</td>\n",
       "      <td>8.0</td>\n",
       "      <td>94.1</td>\n",
       "      <td>60.4</td>\n",
       "      <td>89.0</td>\n",
       "      <td>36.0</td>\n",
       "    </tr>\n",
       "    <tr>\n",
       "      <th>1</th>\n",
       "      <td>1</td>\n",
       "      <td>Vic</td>\n",
       "      <td>f</td>\n",
       "      <td>6.0</td>\n",
       "      <td>92.5</td>\n",
       "      <td>57.6</td>\n",
       "      <td>91.5</td>\n",
       "      <td>36.5</td>\n",
       "    </tr>\n",
       "    <tr>\n",
       "      <th>2</th>\n",
       "      <td>1</td>\n",
       "      <td>Vic</td>\n",
       "      <td>f</td>\n",
       "      <td>6.0</td>\n",
       "      <td>94.0</td>\n",
       "      <td>60.0</td>\n",
       "      <td>95.5</td>\n",
       "      <td>39.0</td>\n",
       "    </tr>\n",
       "    <tr>\n",
       "      <th>3</th>\n",
       "      <td>1</td>\n",
       "      <td>Vic</td>\n",
       "      <td>f</td>\n",
       "      <td>6.0</td>\n",
       "      <td>93.2</td>\n",
       "      <td>57.1</td>\n",
       "      <td>92.0</td>\n",
       "      <td>38.0</td>\n",
       "    </tr>\n",
       "    <tr>\n",
       "      <th>4</th>\n",
       "      <td>1</td>\n",
       "      <td>Vic</td>\n",
       "      <td>f</td>\n",
       "      <td>2.0</td>\n",
       "      <td>91.5</td>\n",
       "      <td>56.3</td>\n",
       "      <td>85.5</td>\n",
       "      <td>36.0</td>\n",
       "    </tr>\n",
       "  </tbody>\n",
       "</table>\n",
       "</div>"
      ],
      "text/plain": [
       "   site  pop sex  age  head_l  skull_w  total_l  tail_l\n",
       "0     1  Vic   m  8.0    94.1     60.4     89.0    36.0\n",
       "1     1  Vic   f  6.0    92.5     57.6     91.5    36.5\n",
       "2     1  Vic   f  6.0    94.0     60.0     95.5    39.0\n",
       "3     1  Vic   f  6.0    93.2     57.1     92.0    38.0\n",
       "4     1  Vic   f  2.0    91.5     56.3     85.5    36.0"
      ]
     },
     "execution_count": 65,
     "metadata": {},
     "output_type": "execute_result"
    }
   ],
   "source": [
    "# read the data\n",
    "p_df = pd.read_csv(\"possum.csv\")\n",
    "p_df.head()"
   ]
  },
  {
   "cell_type": "code",
   "execution_count": 66,
   "metadata": {
    "scrolled": true
   },
   "outputs": [
    {
     "data": {
      "text/html": [
       "<div>\n",
       "<style scoped>\n",
       "    .dataframe tbody tr th:only-of-type {\n",
       "        vertical-align: middle;\n",
       "    }\n",
       "\n",
       "    .dataframe tbody tr th {\n",
       "        vertical-align: top;\n",
       "    }\n",
       "\n",
       "    .dataframe thead th {\n",
       "        text-align: right;\n",
       "    }\n",
       "</style>\n",
       "<table border=\"1\" class=\"dataframe\">\n",
       "  <thead>\n",
       "    <tr style=\"text-align: right;\">\n",
       "      <th></th>\n",
       "      <th>site</th>\n",
       "      <th>age</th>\n",
       "      <th>head_l</th>\n",
       "      <th>skull_w</th>\n",
       "      <th>total_l</th>\n",
       "      <th>tail_l</th>\n",
       "    </tr>\n",
       "  </thead>\n",
       "  <tbody>\n",
       "    <tr>\n",
       "      <th>count</th>\n",
       "      <td>104.000000</td>\n",
       "      <td>102.000000</td>\n",
       "      <td>104.000000</td>\n",
       "      <td>104.000000</td>\n",
       "      <td>104.000000</td>\n",
       "      <td>104.000000</td>\n",
       "    </tr>\n",
       "    <tr>\n",
       "      <th>mean</th>\n",
       "      <td>3.625000</td>\n",
       "      <td>3.833333</td>\n",
       "      <td>92.602885</td>\n",
       "      <td>56.883654</td>\n",
       "      <td>87.088462</td>\n",
       "      <td>37.009615</td>\n",
       "    </tr>\n",
       "    <tr>\n",
       "      <th>std</th>\n",
       "      <td>2.349086</td>\n",
       "      <td>1.909244</td>\n",
       "      <td>3.573349</td>\n",
       "      <td>3.113426</td>\n",
       "      <td>4.310549</td>\n",
       "      <td>1.959518</td>\n",
       "    </tr>\n",
       "    <tr>\n",
       "      <th>min</th>\n",
       "      <td>1.000000</td>\n",
       "      <td>1.000000</td>\n",
       "      <td>82.500000</td>\n",
       "      <td>50.000000</td>\n",
       "      <td>75.000000</td>\n",
       "      <td>32.000000</td>\n",
       "    </tr>\n",
       "    <tr>\n",
       "      <th>25%</th>\n",
       "      <td>1.000000</td>\n",
       "      <td>2.250000</td>\n",
       "      <td>90.675000</td>\n",
       "      <td>54.975000</td>\n",
       "      <td>84.000000</td>\n",
       "      <td>35.875000</td>\n",
       "    </tr>\n",
       "    <tr>\n",
       "      <th>50%</th>\n",
       "      <td>3.000000</td>\n",
       "      <td>3.000000</td>\n",
       "      <td>92.800000</td>\n",
       "      <td>56.350000</td>\n",
       "      <td>88.000000</td>\n",
       "      <td>37.000000</td>\n",
       "    </tr>\n",
       "    <tr>\n",
       "      <th>75%</th>\n",
       "      <td>6.000000</td>\n",
       "      <td>5.000000</td>\n",
       "      <td>94.725000</td>\n",
       "      <td>58.100000</td>\n",
       "      <td>90.000000</td>\n",
       "      <td>38.000000</td>\n",
       "    </tr>\n",
       "    <tr>\n",
       "      <th>max</th>\n",
       "      <td>7.000000</td>\n",
       "      <td>9.000000</td>\n",
       "      <td>103.100000</td>\n",
       "      <td>68.600000</td>\n",
       "      <td>96.500000</td>\n",
       "      <td>43.000000</td>\n",
       "    </tr>\n",
       "  </tbody>\n",
       "</table>\n",
       "</div>"
      ],
      "text/plain": [
       "             site         age      head_l     skull_w     total_l      tail_l\n",
       "count  104.000000  102.000000  104.000000  104.000000  104.000000  104.000000\n",
       "mean     3.625000    3.833333   92.602885   56.883654   87.088462   37.009615\n",
       "std      2.349086    1.909244    3.573349    3.113426    4.310549    1.959518\n",
       "min      1.000000    1.000000   82.500000   50.000000   75.000000   32.000000\n",
       "25%      1.000000    2.250000   90.675000   54.975000   84.000000   35.875000\n",
       "50%      3.000000    3.000000   92.800000   56.350000   88.000000   37.000000\n",
       "75%      6.000000    5.000000   94.725000   58.100000   90.000000   38.000000\n",
       "max      7.000000    9.000000  103.100000   68.600000   96.500000   43.000000"
      ]
     },
     "execution_count": 66,
     "metadata": {},
     "output_type": "execute_result"
    }
   ],
   "source": [
    "# some data summaries\n",
    "p_df.describe()"
   ]
  },
  {
   "cell_type": "markdown",
   "metadata": {},
   "source": [
    "**Question 1.** Produce an adequately-labeled scatterplot of total length (y axis) vs. age (x axis). Explain why the plot has prominent vertical lines."
   ]
  },
  {
   "cell_type": "code",
   "execution_count": 67,
   "metadata": {},
   "outputs": [
    {
     "data": {
      "text/plain": [
       "Text(0.5, 1.0, 'Possum Age vs Length')"
      ]
     },
     "execution_count": 67,
     "metadata": {},
     "output_type": "execute_result"
    },
    {
     "data": {
      "image/png": "[encoded data removed]",
      "text/plain": [
       "<Figure size 432x288 with 1 Axes>"
      ]
     },
     "metadata": {},
     "output_type": "display_data"
    }
   ],
   "source": [
    "# code here\n",
    "plt.scatter(p_df['age'], p_df['total_l'])\n",
    "plt.xlabel('Age (Years)')\n",
    "plt.ylabel('Total Length (cm)')\n",
    "plt.title('Possum Age vs Length')"
   ]
  },
  {
   "cell_type": "markdown",
   "metadata": {},
   "source": [
    "*Answer:* The plot has prominent vertical lines because the x-axis records age, which is recorded as integers and possoms tha were born within the same year but in different months are treated as the same age. \n"
   ]
  },
  {
   "cell_type": "markdown",
   "metadata": {},
   "source": [
    "**Question 2.** Test for sexual dimorphism in the skull width measurement in the sampled possums.  (Do the male and female possums have different skull widths?)  This should be done using the permutation method. Display the (permutation generated) null distribution of your test statistic and the observed value of the test statistic. Report the p-value for this null hypothesis that the two sexes have the same skull width distribution."
   ]
  },
  {
   "cell_type": "code",
   "execution_count": 68,
   "metadata": {},
   "outputs": [
    {
     "name": "stdout",
     "output_type": "stream",
     "text": [
      "Difference between Male and Female Skull width means in sample:  0.503431185665228\n"
     ]
    }
   ],
   "source": [
    "#  code here\n",
    "# Test for sexual dimorphism:\n",
    "male = p_df[p_df['sex'] == 'm']\n",
    "female = p_df[p_df['sex']== 'f']\n",
    "m_width = np.mean(male['skull_w'])\n",
    "f_width = np.mean(female['skull_w'])\n",
    "dif = m_width - f_width\n",
    "print('Difference between Male and Female Skull width means in sample: ', dif)"
   ]
  },
  {
   "cell_type": "code",
   "execution_count": 2,
   "metadata": {},
   "outputs": [
    {
     "ename": "NameError",
     "evalue": "name 'pd' is not defined",
     "output_type": "error",
     "traceback": [
      "\u001b[1;31m---------------------------------------------------------------------------\u001b[0m",
      "\u001b[1;31mNameError\u001b[0m                                 Traceback (most recent call last)",
      "Input \u001b[1;32mIn [2]\u001b[0m, in \u001b[0;36m<cell line: 2>\u001b[1;34m()\u001b[0m\n\u001b[0;32m      1\u001b[0m \u001b[38;5;66;03m# permutation test\u001b[39;00m\n\u001b[1;32m----> 2\u001b[0m \u001b[43mpd\u001b[49m\u001b[38;5;241m.\u001b[39moptions\u001b[38;5;241m.\u001b[39mmode\u001b[38;5;241m.\u001b[39mchained_assignment \u001b[38;5;241m=\u001b[39m \u001b[38;5;28;01mNone\u001b[39;00m\n\u001b[0;32m      3\u001b[0m \u001b[38;5;28;01mdef\u001b[39;00m \u001b[38;5;21mpermute\u001b[39m(ntime):\n\u001b[0;32m      4\u001b[0m     things \u001b[38;5;241m=\u001b[39m []\n",
      "\u001b[1;31mNameError\u001b[0m: name 'pd' is not defined"
     ]
    }
   ],
   "source": [
    "# permutation test\n",
    "pd.options.mode.chained_assignment = None\n",
    "def permute(ntime):\n",
    "    things = []\n",
    "    for i in range(ntime):\n",
    "        df = p_df[['sex','skull_w']]\n",
    "        sample = df.sample(n = 104, replace = False)\n",
    "        vals = list(sample['sex'].values)\n",
    "#        for i in range(len(vals)):\n",
    "#            df.loc[i, 'sex2'] = vals[i]\n",
    "        df['sex2'] = vals\n",
    "        males = np.mean(df[df['sex2']=='m']['skull_w'])\n",
    "        females = np.mean(df[df['sex2']=='f']['skull_w'])\n",
    "        dif = males - females\n",
    "        things = np.append(things, dif)\n",
    "    return things\n",
    "stuff = permute(5000)\n",
    "plt.hist(stuff)\n",
    "plt.title('Permutation Test for Possum Sex vs Skull Width')\n",
    "\n",
    "#P-value calculation:\n",
    "p_val = np.count_nonzero(stuff <= dif)/len(stuff)\n",
    "print('P-value for the null hypothesis:', p_val)"
   ]
  },
  {
   "cell_type": "markdown",
   "metadata": {},
   "source": [
    "**Question 3.** Simlarly to Question 2, test the hypothesis of equality in distributions for the tail lengths of male possums sampled in Victoria (sites 1 and 2) and the tail lengths of male possums sampled outside of Victoria.\n",
    "\n",
    "This should be done using the permutation method. Display the (permutation generated) null distribution of your test statistics and the observed value of the test statistic. Report the p-value for this null hypothesis that the two groups have the same tail length distribution."
   ]
  },
  {
   "cell_type": "code",
   "execution_count": 70,
   "metadata": {},
   "outputs": [
    {
     "name": "stdout",
     "output_type": "stream",
     "text": [
      "Sample difference (Victoria - Not Victoria):  -2.2564102564102555\n"
     ]
    }
   ],
   "source": [
    "# code here\n",
    "# sample difference:\n",
    "m_tails = p_df[p_df['sex']=='m'][['site','tail_l']]\n",
    "smp_dif = np.mean(m_tails[m_tails['site'] < 3]['tail_l']) - np.mean(m_tails[m_tails['site']>2]['tail_l'])\n",
    "print('Sample difference (Victoria - Not Victoria): ', smp_dif)"
   ]
  },
  {
   "cell_type": "code",
   "execution_count": 71,
   "metadata": {},
   "outputs": [
    {
     "name": "stdout",
     "output_type": "stream",
     "text": [
      "P-value for Null Hypothesis: 0.0\n"
     ]
    },
    {
     "data": {
      "image/png": "[encoded data removed]",
      "text/plain": [
       "<Figure size 432x288 with 1 Axes>"
      ]
     },
     "metadata": {},
     "output_type": "display_data"
    }
   ],
   "source": [
    "# permutation distribution\n",
    "def perm(ntimes):\n",
    "    values = []\n",
    "    for i in range(ntimes):\n",
    "        rand = list(m_tails.sample(replace=False, n=61)['site'])\n",
    "        m_tails['samp'] = rand\n",
    "        value = np.mean(m_tails[m_tails['samp'] < 3]['tail_l']) - np.mean(m_tails[m_tails['samp']>2]['tail_l'])\n",
    "        values = np.append(values, value)\n",
    "    return values\n",
    "perms = perm(5000)\n",
    "plt.hist(perms)\n",
    "plt.title('Permutation Distribution for Male Possums Site vs Tail Length')\n",
    "#p-value calculation\n",
    "p_val = np.count_nonzero(perms <= smp_dif)/5000\n",
    "print('P-value for Null Hypothesis:', p_val)"
   ]
  },
  {
   "cell_type": "markdown",
   "metadata": {},
   "source": [
    "**Question 4.** Write code that constructs a 2x2 table that shows the counts of sex (female and male) in the two sites (Victoria and other)"
   ]
  },
  {
   "cell_type": "code",
   "execution_count": 1,
   "metadata": {
    "scrolled": true
   },
   "outputs": [
    {
     "ename": "NameError",
     "evalue": "name 'p_df' is not defined",
     "output_type": "error",
     "traceback": [
      "\u001b[1;31m---------------------------------------------------------------------------\u001b[0m",
      "\u001b[1;31mNameError\u001b[0m                                 Traceback (most recent call last)",
      "Input \u001b[1;32mIn [1]\u001b[0m, in \u001b[0;36m<cell line: 3>\u001b[1;34m()\u001b[0m\n\u001b[0;32m      1\u001b[0m \u001b[38;5;66;03m# code here\u001b[39;00m\n\u001b[0;32m      2\u001b[0m \u001b[38;5;66;03m#p_df.groupby(['sex','site']).count()\u001b[39;00m\n\u001b[1;32m----> 3\u001b[0m \u001b[43mp_df\u001b[49m\u001b[38;5;241m.\u001b[39mpivot_table(\u001b[38;5;124m'\u001b[39m\u001b[38;5;124msite\u001b[39m\u001b[38;5;124m'\u001b[39m,index \u001b[38;5;241m=\u001b[39m \u001b[38;5;124m'\u001b[39m\u001b[38;5;124msex\u001b[39m\u001b[38;5;124m'\u001b[39m, columns \u001b[38;5;241m=\u001b[39m \u001b[38;5;124m'\u001b[39m\u001b[38;5;124mpop\u001b[39m\u001b[38;5;124m'\u001b[39m, aggfunc \u001b[38;5;241m=\u001b[39m \u001b[38;5;124m'\u001b[39m\u001b[38;5;124mcount\u001b[39m\u001b[38;5;124m'\u001b[39m)\n",
      "\u001b[1;31mNameError\u001b[0m: name 'p_df' is not defined"
     ]
    }
   ],
   "source": [
    "# code here\n",
    "#p_df.groupby(['sex','site']).count()\n",
    "p_df.pivot_table('site',index = 'sex', columns = 'pop', aggfunc = 'count')"
   ]
  },
  {
   "cell_type": "markdown",
   "metadata": {},
   "source": [
    "**Question 5.** Investigate the hypothesis that the porportion of males to females is equal in the two sites (perform a hypothesis test on the table you constructed in Question 4 using the permutation method). State clearly the null and alternative hypothesis. After you perform the test and report the p-value, briefly talk about the assumptions in your test."
   ]
  },
  {
   "cell_type": "code",
   "execution_count": 73,
   "metadata": {},
   "outputs": [
    {
     "name": "stdout",
     "output_type": "stream",
     "text": [
      "Sample difference (Vic - not Vic): -1.135964912280702\n"
     ]
    },
    {
     "data": {
      "text/plain": [
       "0.006"
      ]
     },
     "execution_count": 73,
     "metadata": {},
     "output_type": "execute_result"
    }
   ],
   "source": [
    "# code here\n",
    "smp_dif = 22/24 - 39/19\n",
    "print('Sample difference (Vic - not Vic):', smp_dif)\n",
    "\n",
    "#permutation\n",
    "loc = p_df.site.values\n",
    "sex = p_df.sex.values\n",
    "\n",
    "def permute(ntimes):\n",
    "    values = []\n",
    "    for i in range(ntimes):\n",
    "        rand_loc = np.random.permutation(loc)\n",
    "        new_df = pd.DataFrame({\"site\":rand_loc, \"sex\":sex})\n",
    "        not_vic = new_df[new_df['site'] >2]\n",
    "        not_vic_dif = not_vic.groupby(['sex']).count()\n",
    "        not_vic_ratio = not_vic_dif['site']['m']/not_vic_dif['site']['f']\n",
    "        vic = new_df[new_df['site']<3]\n",
    "        vic_dif = vic.groupby(['sex']).count()\n",
    "        vic_ratio = vic_dif['site']['m']/vic_dif['site']['f']\n",
    "        perm_dif = vic_ratio - not_vic_ratio\n",
    "        values = np.append(values, perm_dif)\n",
    "    return values\n",
    "times = 1000\n",
    "iterate = permute(times)\n",
    "#p-value calculation:\n",
    "p_val = np.count_nonzero(iterate < smp_dif)/times\n",
    "p_val"
   ]
  },
  {
   "cell_type": "markdown",
   "metadata": {},
   "source": [
    "*Answer here:*  \n",
    "Null Hypothesis: The porportion of males to females is equal in the two sites  \n",
    "Alternative Hypothesis: The porportion of males to females is greater in non-Victorian sites  \n",
    "The p-value obtained is 0.011  \n",
    "Assumptions: Some of the assumptions made were that male and female possums had equally likely chances to be born in either site, that the populations of the two sites have a fixed proportion to one another, and that there was a fixed total proportion of male to female possums. "
   ]
  },
  {
   "cell_type": "markdown",
   "metadata": {},
   "source": [
    "## 2. Plagiarism detector (25 points) \n",
    "\n",
    "We will use the matching techniques discussed in Lecture 16 to construct **a naive plagiarism detector**. We modified the code from the class notebook in two ways: (i) we generalized it to q-character tokens; and (ii) we use spaces instead of #-signs to pad the ends of the strings.\n",
    "\n",
    "This code allows you to calculate the Jaccard similarity for bigrams, trigrams etc."
   ]
  },
  {
   "cell_type": "code",
   "execution_count": 74,
   "metadata": {},
   "outputs": [],
   "source": [
    "#A Function to break a string into qgrams (q-character tokens)\n",
    "#we'll pad the string with spaces on the front and end\n",
    "def qgram(str,q):\n",
    "    str = ' ' + str + ' '\n",
    "    return([str[i:i+q] for i in range(len(str)-(q-1))])\n",
    "\n",
    "#compute the jaccard similarity of two strings using qgrams\n",
    "#pass in a value for q to do anything other than bi-grams\n",
    "#call jaccard_simq with verbose set to True to see intermediate values\n",
    "\n",
    "def jaccard_simq(str1, str2,q=2,verbose=False): \n",
    "    set1 = set(qgram(str1,q)) \n",
    "    set2 = set(qgram(str2,q))\n",
    "    common_tokens = set1.intersection(set2)\n",
    "    all_tokens = set1.union(set2)\n",
    "    if verbose:\n",
    "        print('set1 =',set1)\n",
    "        print('set2 =',set2)\n",
    "        print('Intersection =',common_tokens)\n",
    "        print('Union =',all_tokens)\n",
    "        print('Common Tokens =',len(common_tokens),\n",
    "              'Total Tokens =',len(all_tokens))\n",
    "    return float(len(common_tokens) / len(all_tokens))\n"
   ]
  },
  {
   "cell_type": "code",
   "execution_count": 108,
   "metadata": {},
   "outputs": [
    {
     "name": "stdout",
     "output_type": "stream",
     "text": [
      "set1 = {'ste', 'er ', ' hi', 'pst', 'ips', 'hip', 'ter'}\n",
      "set2 = {'gst', 'ste', 'tee', 'nga', 'dne', ' as', 'eem', 'pe ', 'gap', 'egs', 'ape', 'sdn', 'mng', 'neg', 'emn', 'asd'}\n",
      "Intersection = {'ste'}\n",
      "Union = {'gst', 'ste', 'tee', 'neg', 'er ', 'eem', ' as', ' hi', 'gap', 'ape', 'ips', 'asd', 'nga', 'dne', 'pe ', 'emn', 'egs', 'pst', 'mng', 'sdn', 'hip', 'ter'}\n",
      "Common Tokens = 1 Total Tokens = 22\n"
     ]
    },
    {
     "data": {
      "text/plain": [
       "0.045454545454545456"
      ]
     },
     "execution_count": 108,
     "metadata": {},
     "output_type": "execute_result"
    }
   ],
   "source": [
    "qgram('total',4)\n",
    "jaccard_simq('hipster','asdnegsteemngape', q = 3, verbose = True)"
   ]
  },
  {
   "cell_type": "markdown",
   "metadata": {},
   "source": [
    "To familiarize yourself with the function, you should try it on several examples and with different values of q. The `verbose=True` option is useful when you want to understand what the function is doing."
   ]
  },
  {
   "cell_type": "code",
   "execution_count": 76,
   "metadata": {},
   "outputs": [
    {
     "name": "stdout",
     "output_type": "stream",
     "text": [
      "set1 = {'ui', 'n ', 'fo', 'ox', 'k ', 'th', 'e ', 'wn', 'x ', 'br', 'ro', 'ic', ' b', 'he', ' t', 'ck', ' f', 'ow', 'qu', ' q'}\n",
      "set2 = {'ui', 'n ', 'fo', 'ox', 'k ', 'th', 'e ', 'wn', 'x ', 'br', 'ro', 'ic', ' b', 'he', ' t', 'ck', ' f', 'ow', 'qu', ' q'}\n",
      "Intersection = {'ui', 'n ', 'fo', 'ox', 'k ', 'th', 'e ', 'wn', 'x ', 'br', 'ro', 'ic', ' b', 'he', ' t', 'ck', ' f', 'ow', 'qu', ' q'}\n",
      "Union = {'ui', 'n ', 'fo', 'ox', 'k ', 'th', 'e ', 'wn', 'x ', 'br', 'ro', 'ic', ' b', 'he', ' t', 'ck', ' f', 'ow', 'qu', ' q'}\n",
      "Common Tokens = 20 Total Tokens = 20\n"
     ]
    },
    {
     "data": {
      "text/plain": [
       "1.0"
      ]
     },
     "execution_count": 76,
     "metadata": {},
     "output_type": "execute_result"
    }
   ],
   "source": [
    "jaccard_simq('the quick brown fox','fox quick brown the',verbose=True)"
   ]
  },
  {
   "cell_type": "code",
   "execution_count": 107,
   "metadata": {
    "scrolled": true
   },
   "outputs": [
    {
     "data": {
      "text/plain": [
       "19"
      ]
     },
     "execution_count": 107,
     "metadata": {},
     "output_type": "execute_result"
    }
   ],
   "source": [
    "jaccard_simq('the quick brown fox','fox quick brown the')\n",
    "len('the quick brown fox')"
   ]
  },
  {
   "cell_type": "code",
   "execution_count": 78,
   "metadata": {
    "scrolled": true
   },
   "outputs": [
    {
     "name": "stdout",
     "output_type": "stream",
     "text": [
      "set1 = {'e qu', 'wn f', 'the ', ' the', 'uick', 'quic', 'he q', ' bro', ' qui', 'rown', 'fox ', 'ick ', 'n fo', ' fox', 'k br', 'own ', 'ck b', 'brow'}\n",
      "set2 = {' the', 'n th', 'uick', 'the ', 'quic', ' bro', ' qui', 'rown', 'fox ', 'ick ', ' fox', 'x qu', 'k br', 'brow', 'own ', 'wn t', 'ck b', 'ox q'}\n",
      "Intersection = {'the ', ' the', 'uick', 'quic', 'ck b', ' bro', ' qui', 'fox ', 'ick ', ' fox', 'k br', 'own ', 'rown', 'brow'}\n",
      "Union = {'e qu', ' the', 'n th', 'uick', ' bro', 'x qu', 'rown', 'wn f', 'the ', 'quic', 'he q', ' qui', 'fox ', 'ick ', 'n fo', ' fox', 'k br', 'own ', 'wn t', 'ox q', 'ck b', 'brow'}\n",
      "Common Tokens = 14 Total Tokens = 22\n"
     ]
    },
    {
     "data": {
      "text/plain": [
       "0.6363636363636364"
      ]
     },
     "execution_count": 78,
     "metadata": {},
     "output_type": "execute_result"
    }
   ],
   "source": [
    "jaccard_simq('the quick brown fox','fox quick brown the',4,True)"
   ]
  },
  {
   "cell_type": "code",
   "execution_count": 79,
   "metadata": {},
   "outputs": [
    {
     "name": "stdout",
     "output_type": "stream",
     "text": [
      "set1 = {' brown fox', 'ck brown f', 'the quick ', 'e quick br', ' the quick', ' quick bro', 'ick brown ', 'k brown fo', 'he quick b', 'uick brown', 'quick brow', 'brown fox '}\n",
      "set2 = {' fox quick', 'fox quick ', 'ck brown t', 'quick brow', ' quick bro', 'ick brown ', 'ox quick b', ' brown the', 'brown the ', 'uick brown', 'k brown th', 'x quick br'}\n",
      "Intersection = {'ick brown ', 'uick brown', ' quick bro', 'quick brow'}\n",
      "Union = {' brown fox', 'ck brown f', 'e quick br', ' the quick', 'k brown fo', 'brown the ', 'k brown th', 'quick brow', 'x quick br', 'the quick ', ' fox quick', 'fox quick ', 'ck brown t', ' quick bro', 'ick brown ', 'ox quick b', ' brown the', 'he quick b', 'uick brown', 'brown fox '}\n",
      "Common Tokens = 4 Total Tokens = 20\n"
     ]
    },
    {
     "data": {
      "text/plain": [
       "0.2"
      ]
     },
     "execution_count": 79,
     "metadata": {},
     "output_type": "execute_result"
    }
   ],
   "source": [
    "jaccard_simq('the quick brown fox','fox quick brown the',10, True)"
   ]
  },
  {
   "cell_type": "markdown",
   "metadata": {},
   "source": [
    "The goal of this exercise is to use this function to investigate possible plagiarism in a homework assignment. A homework question asked students to define PageRank. The instructors were worried that the students will copy the answer from Wikipedia, so they decided to use that as a reference. The relevant part of the Wikipedia entry is saved in the file `original.txt` and the command below reads that file into a string."
   ]
  },
  {
   "cell_type": "code",
   "execution_count": 80,
   "metadata": {
    "scrolled": true
   },
   "outputs": [
    {
     "data": {
      "text/plain": [
       "'PageRank is a link analysis algorithm used by the Google Internet search engine that assigns a numerical weighting to each element of a hyperlinked set of documents, such as the World Wide Web, with the purpose of \"measuring\" its relative importance within the set. The algorithm may be applied to any collection of entities with reciprocal quotations and references. The numerical weight that it assigns to any given element E is also called the PageRank of E and denoted by PR(E).\\nThe name \"PageRank\" is a trademark of Google, and the PageRank process has been patented (U.S. Patent 6,285,999 ). However, the patent is assigned to Stanford University and not to Google. Google has exclusive license rights on the patent from Stanford University. The university received 1.8 million shares in Google in exchange for use of the patent; the shares were sold in 2005 for $336 million.\\nGoogle describes PageRank:\\n“ \\tPageRank relies on the uniquely democratic nature of the web by using its vast link structure as an indicator of an individual page\\'s value. In essence, Google interprets a link from page A to page B as a vote, by page A, for page B. But, Google looks at more than the sheer volume of votes, or links a page receives; it also analyzes the page that casts the vote. Votes cast by pages that are themselves \"important\" weigh more heavily and help to make other pages \"important\". \\t”\\nIn other words, a PageRank results from a \"ballot\" among all the other pages on the World Wide Web about how important a page is. A hyperlink to a page counts as a vote of support. The PageRank of a page is defined recursively and depends on the number and PageRank metric of all pages that link to it (\"incoming links\"). A page that is linked to by many pages with high PageRank receives a high rank itself. If there are no links to a web page there is no support for that page.\\nGoogle assigns a numeric weighting from 0-10 for each webpage on the Internet; this PageRank denotes a site’s importance in the eyes of Google. The PageRank is derived from a theoretical probability value on a logarithmic scale like the Richter Scale. The PageRank of a particular page is roughly based upon the quantity of inbound links as well as the PageRank of the pages providing the links. It is known that other factors, e.g. relevance of search words on the page and actual visits to the page reported by the Google toolbar also influence the PageRank. In order to prevent manipulation, spoofing and Spamdexing, Google provides no specific details about how other factors influence PageRank.\\nNumerous academic papers concerning PageRank have been published since Page and Brin\\'s original paper. In practice, the PageRank concept has proven to be vulnerable to manipulation, and extensive research has been devoted to identifying falsely inflated PageRank and ways to ignore links from documents with falsely inflated PageRank.\\nOther link-based ranking algorithms for Web pages include the HITS algorithm invented by Jon Kleinberg (used by Teoma and now Ask.com), the IBM CLEVER project, and the TrustRank algorithm.\\n'"
      ]
     },
     "execution_count": 80,
     "metadata": {},
     "output_type": "execute_result"
    }
   ],
   "source": [
    "open(\"original.txt\",\"r\",encoding=\"utf8\").read()"
   ]
  },
  {
   "cell_type": "markdown",
   "metadata": {},
   "source": [
    "Files containing the answer of five students (A,B,C,D, and E) are provided. They are read as strings using the code below. "
   ]
  },
  {
   "cell_type": "code",
   "execution_count": 81,
   "metadata": {},
   "outputs": [],
   "source": [
    "original=open(\"original.txt\",\"r\",encoding=\"utf8\").read()\n",
    "studentA=open(\"studentA.txt\",\"r\",encoding='utf8').read()\n",
    "studentB=open(\"studentB.txt\",\"r\",encoding='utf8').read()\n",
    "studentC=open(\"studentC.txt\",\"r\",encoding='utf8').read()\n",
    "studentD=open(\"studentD.txt\",\"r\",encoding='utf8').read()\n",
    "studentE=open(\"studentE.txt\",\"r\",encoding='utf8').read()"
   ]
  },
  {
   "cell_type": "markdown",
   "metadata": {},
   "source": [
    "#### Question 1\n",
    "\n",
    "One decision to make is the choice of q in the Jaccard similarity (whether to use 2-character tokens, 20-character tokens etc.) \n",
    "\n",
    "Write one advantage and one disadvantage when using 2-character tokens.   \n",
    "\n",
    "Write one advantage and one disadvantage when using 20-character tokens."
   ]
  },
  {
   "cell_type": "markdown",
   "metadata": {},
   "source": [
    "Write one advantage and one disadvantage when using 2-character tokens.  \n",
    "- An advantage is a more detailed percentage of similarity between the characters used in the two texts.\n",
    "- A disadvantage is that common transition words will be flagged as the same in the texts even if they are used in completely different contexts \n",
    "\n",
    "Write one advantage and one disadvantage when using 20-character tokens.\n",
    "- An advantage of using 20-character tokens is that it will only catch phrases that both texts use, which is a more accurate portrayal of the similarity of the meaning of the two texts\n",
    "- A disadvantage is that any similar phrases that are less than 20 characters long will not be caught"
   ]
  },
  {
   "cell_type": "markdown",
   "metadata": {},
   "source": [
    "#### Question 2\n",
    "\n",
    "Calculate the Jaccard similarities between each of the five student responses and the original Wikipedia article. This should be done for all q between 2 and 20.\n",
    "\n",
    "Save the results in a dataframe with rows indexed by the values of q, and having a column for each student answer showing the similarity of that student answer and the original for each value of q.   Your dataframe should have 19 populated rows with 5 columns."
   ]
  },
  {
   "cell_type": "code",
   "execution_count": 97,
   "metadata": {},
   "outputs": [
    {
     "data": {
      "text/html": [
       "<div>\n",
       "<style scoped>\n",
       "    .dataframe tbody tr th:only-of-type {\n",
       "        vertical-align: middle;\n",
       "    }\n",
       "\n",
       "    .dataframe tbody tr th {\n",
       "        vertical-align: top;\n",
       "    }\n",
       "\n",
       "    .dataframe thead th {\n",
       "        text-align: right;\n",
       "    }\n",
       "</style>\n",
       "<table border=\"1\" class=\"dataframe\">\n",
       "  <thead>\n",
       "    <tr style=\"text-align: right;\">\n",
       "      <th></th>\n",
       "      <th>A</th>\n",
       "      <th>B</th>\n",
       "      <th>C</th>\n",
       "      <th>D</th>\n",
       "      <th>E</th>\n",
       "    </tr>\n",
       "  </thead>\n",
       "  <tbody>\n",
       "    <tr>\n",
       "      <th>2</th>\n",
       "      <td>0.713959</td>\n",
       "      <td>0.436647</td>\n",
       "      <td>0.449561</td>\n",
       "      <td>0.413242</td>\n",
       "      <td>0.454148</td>\n",
       "    </tr>\n",
       "    <tr>\n",
       "      <th>3</th>\n",
       "      <td>0.528192</td>\n",
       "      <td>0.261528</td>\n",
       "      <td>0.232156</td>\n",
       "      <td>0.244681</td>\n",
       "      <td>0.284700</td>\n",
       "    </tr>\n",
       "    <tr>\n",
       "      <th>4</th>\n",
       "      <td>0.457965</td>\n",
       "      <td>0.162698</td>\n",
       "      <td>0.128345</td>\n",
       "      <td>0.177140</td>\n",
       "      <td>0.200939</td>\n",
       "    </tr>\n",
       "    <tr>\n",
       "      <th>5</th>\n",
       "      <td>0.424920</td>\n",
       "      <td>0.108565</td>\n",
       "      <td>0.079377</td>\n",
       "      <td>0.150758</td>\n",
       "      <td>0.166093</td>\n",
       "    </tr>\n",
       "    <tr>\n",
       "      <th>6</th>\n",
       "      <td>0.402108</td>\n",
       "      <td>0.077730</td>\n",
       "      <td>0.048056</td>\n",
       "      <td>0.131777</td>\n",
       "      <td>0.147793</td>\n",
       "    </tr>\n",
       "    <tr>\n",
       "      <th>7</th>\n",
       "      <td>0.387012</td>\n",
       "      <td>0.054100</td>\n",
       "      <td>0.028373</td>\n",
       "      <td>0.118185</td>\n",
       "      <td>0.134663</td>\n",
       "    </tr>\n",
       "    <tr>\n",
       "      <th>8</th>\n",
       "      <td>0.374911</td>\n",
       "      <td>0.038706</td>\n",
       "      <td>0.015574</td>\n",
       "      <td>0.108296</td>\n",
       "      <td>0.125763</td>\n",
       "    </tr>\n",
       "    <tr>\n",
       "      <th>9</th>\n",
       "      <td>0.365854</td>\n",
       "      <td>0.026917</td>\n",
       "      <td>0.008417</td>\n",
       "      <td>0.100334</td>\n",
       "      <td>0.120944</td>\n",
       "    </tr>\n",
       "    <tr>\n",
       "      <th>10</th>\n",
       "      <td>0.358409</td>\n",
       "      <td>0.019473</td>\n",
       "      <td>0.003327</td>\n",
       "      <td>0.094076</td>\n",
       "      <td>0.117798</td>\n",
       "    </tr>\n",
       "    <tr>\n",
       "      <th>11</th>\n",
       "      <td>0.351749</td>\n",
       "      <td>0.014695</td>\n",
       "      <td>0.001004</td>\n",
       "      <td>0.088825</td>\n",
       "      <td>0.114250</td>\n",
       "    </tr>\n",
       "    <tr>\n",
       "      <th>12</th>\n",
       "      <td>0.346327</td>\n",
       "      <td>0.011391</td>\n",
       "      <td>0.000248</td>\n",
       "      <td>0.084065</td>\n",
       "      <td>0.112007</td>\n",
       "    </tr>\n",
       "    <tr>\n",
       "      <th>13</th>\n",
       "      <td>0.341518</td>\n",
       "      <td>0.008455</td>\n",
       "      <td>0.000000</td>\n",
       "      <td>0.079143</td>\n",
       "      <td>0.110290</td>\n",
       "    </tr>\n",
       "    <tr>\n",
       "      <th>14</th>\n",
       "      <td>0.336915</td>\n",
       "      <td>0.005585</td>\n",
       "      <td>0.000000</td>\n",
       "      <td>0.075077</td>\n",
       "      <td>0.109069</td>\n",
       "    </tr>\n",
       "    <tr>\n",
       "      <th>15</th>\n",
       "      <td>0.331767</td>\n",
       "      <td>0.003930</td>\n",
       "      <td>0.000000</td>\n",
       "      <td>0.071450</td>\n",
       "      <td>0.108265</td>\n",
       "    </tr>\n",
       "    <tr>\n",
       "      <th>16</th>\n",
       "      <td>0.327318</td>\n",
       "      <td>0.002529</td>\n",
       "      <td>0.000000</td>\n",
       "      <td>0.068285</td>\n",
       "      <td>0.107599</td>\n",
       "    </tr>\n",
       "    <tr>\n",
       "      <th>17</th>\n",
       "      <td>0.323229</td>\n",
       "      <td>0.001374</td>\n",
       "      <td>0.000000</td>\n",
       "      <td>0.065217</td>\n",
       "      <td>0.107035</td>\n",
       "    </tr>\n",
       "    <tr>\n",
       "      <th>18</th>\n",
       "      <td>0.319286</td>\n",
       "      <td>0.000456</td>\n",
       "      <td>0.000000</td>\n",
       "      <td>0.062181</td>\n",
       "      <td>0.106473</td>\n",
       "    </tr>\n",
       "    <tr>\n",
       "      <th>19</th>\n",
       "      <td>0.315161</td>\n",
       "      <td>0.000000</td>\n",
       "      <td>0.000000</td>\n",
       "      <td>0.059246</td>\n",
       "      <td>0.106042</td>\n",
       "    </tr>\n",
       "    <tr>\n",
       "      <th>20</th>\n",
       "      <td>0.310955</td>\n",
       "      <td>0.000000</td>\n",
       "      <td>0.000000</td>\n",
       "      <td>0.056351</td>\n",
       "      <td>0.105644</td>\n",
       "    </tr>\n",
       "  </tbody>\n",
       "</table>\n",
       "</div>"
      ],
      "text/plain": [
       "           A         B         C         D         E\n",
       "2   0.713959  0.436647  0.449561  0.413242  0.454148\n",
       "3   0.528192  0.261528  0.232156  0.244681  0.284700\n",
       "4   0.457965  0.162698  0.128345  0.177140  0.200939\n",
       "5   0.424920  0.108565  0.079377  0.150758  0.166093\n",
       "6   0.402108  0.077730  0.048056  0.131777  0.147793\n",
       "7   0.387012  0.054100  0.028373  0.118185  0.134663\n",
       "8   0.374911  0.038706  0.015574  0.108296  0.125763\n",
       "9   0.365854  0.026917  0.008417  0.100334  0.120944\n",
       "10  0.358409  0.019473  0.003327  0.094076  0.117798\n",
       "11  0.351749  0.014695  0.001004  0.088825  0.114250\n",
       "12  0.346327  0.011391  0.000248  0.084065  0.112007\n",
       "13  0.341518  0.008455  0.000000  0.079143  0.110290\n",
       "14  0.336915  0.005585  0.000000  0.075077  0.109069\n",
       "15  0.331767  0.003930  0.000000  0.071450  0.108265\n",
       "16  0.327318  0.002529  0.000000  0.068285  0.107599\n",
       "17  0.323229  0.001374  0.000000  0.065217  0.107035\n",
       "18  0.319286  0.000456  0.000000  0.062181  0.106473\n",
       "19  0.315161  0.000000  0.000000  0.059246  0.106042\n",
       "20  0.310955  0.000000  0.000000  0.056351  0.105644"
      ]
     },
     "execution_count": 97,
     "metadata": {},
     "output_type": "execute_result"
    }
   ],
   "source": [
    "# put your code to create and output the dataframe here\n",
    "q = np.arange(2,21)\n",
    "plag = pd.DataFrame(columns = ['A','B','C','D','E'])\n",
    "def detect(name, student):\n",
    "    plag[name] = [0]*19\n",
    "    for i in q:\n",
    "        plag[name][i-2] = jaccard_simq(original,student,i)\n",
    "    return\n",
    "detect('A',studentA)\n",
    "detect('B',studentB)\n",
    "detect('C',studentC)\n",
    "detect('D',studentD)\n",
    "detect('E',studentE)\n",
    "plag=plag.set_index(q)\n",
    "plag"
   ]
  },
  {
   "cell_type": "markdown",
   "metadata": {},
   "source": [
    "#### Question 3\n",
    "\n",
    "Draw a plot with five overlaid lines for the Jaccard similarities of the five texts. The plot should show the Jaccard similarities (on y-axis) against q (on x-axis). Make sure that it is clear which line corresponds to which student/answer."
   ]
  },
  {
   "cell_type": "code",
   "execution_count": 106,
   "metadata": {},
   "outputs": [
    {
     "data": {
      "text/plain": [
       "Text(0.5, 1.0, 'Jaccard Similarities of the 5 Students based on q Values from 2-20')"
      ]
     },
     "execution_count": 106,
     "metadata": {},
     "output_type": "execute_result"
    },
    {
     "data": {
      "image/png": "[encoded data removed]",
      "text/plain": [
       "<Figure size 432x288 with 1 Axes>"
      ]
     },
     "metadata": {},
     "output_type": "display_data"
    }
   ],
   "source": [
    "# the code to draw the plot\n",
    "plt.plot(plag)\n",
    "plt.xlabel('q-values')\n",
    "plt.ylabel('Jaccard Similarities')\n",
    "plt.legend(plag)\n",
    "plt.title('Jaccard Similarities of the 5 Students based on q Values from 2-20')"
   ]
  },
  {
   "cell_type": "markdown",
   "metadata": {},
   "source": [
    "#### Question 4\n",
    "\n",
    "What do the similarity values you calculated say about the five students (A,B,C, D and E)? Is there evidence for plagiarism for any of them? Write a short discussion of your findings.\n"
   ]
  },
  {
   "cell_type": "markdown",
   "metadata": {},
   "source": [
    "The Jaccard similarity values suggest that Student A may have plagiarised the Wikipedia entry on PageRank. At all q values the Jaccard similarity of Student A's handiwork is much higher than each other student. For the other students, they all have a similar Jaccard similarity of between 0.4 and 0.5, which is expected because many words (with spaces included) share 2 characters. The Jaccard similarity when q is 20 is below or close to 0.1 for these students, which is reasonable given that they are trying to describe the same subject as in the Wikipedia entry. Nevertheless, a Jaccard similarity of more than 0 for q value 20 may justify a review for plagirism. "
   ]
  },
  {
   "cell_type": "markdown",
   "metadata": {},
   "source": [
    "#### Question 5\n",
    "\n",
    "Assume that the original text is fixed, but that different amounts of it are plagiarized.  How does the length of the plagiarized text impact the Jaccard similarities? For example, would a plagiarized short paper (1-2 sentences) typically have a different Jaccard similarity than a plagiarized long paper (few paragraphs)? Is this important for our five student scenario?\n",
    "\n",
    "This is an open-ended question. You can answer it by changing the length of a plagiarized text and calculating similarities, you can argue it mathematically, or you can do some combination of these. \n",
    "\n"
   ]
  },
  {
   "cell_type": "code",
   "execution_count": 119,
   "metadata": {},
   "outputs": [
    {
     "name": "stdout",
     "output_type": "stream",
     "text": [
      "set1 = {'j ', 'bc', 'de', 'gh', 'ij', 'ef', 'fg', 'ab', 'cd', ' a', 'hi'}\n",
      "set2 = {'bc', ' a', 'ab', 'c '}\n",
      "Intersection = {'ab', ' a', 'bc'}\n",
      "Union = {'j ', 'bc', 'de', 'gh', 'ij', 'ef', 'fg', 'c ', 'ab', 'cd', ' a', 'hi'}\n",
      "Common Tokens = 3 Total Tokens = 12\n",
      "0.25\n",
      "0.3333333333333333\n",
      "0.4166666666666667\n",
      "0.5\n",
      "set1 = {'j ', 'bc', 'de', 'gh', 'ij', 'ef', 'fg', 'ab', 'cd', ' a', 'hi'}\n",
      "set2 = {'bc', 'de', 'gh', 'ef', 'fg', 'ab', 'h ', 'cd', ' a'}\n",
      "Intersection = {'bc', 'de', 'gh', 'ef', 'fg', 'ab', 'cd', ' a'}\n",
      "Union = {'j ', 'de', 'gh', 'ij', 'ef', 'fg', 'h ', ' a', 'bc', 'ab', 'cd', 'hi'}\n",
      "Common Tokens = 8 Total Tokens = 12\n",
      "0.6666666666666666\n"
     ]
    }
   ],
   "source": [
    "# if you use code to make your argument put it here\n",
    "print(jaccard_simq('abcdefghij','abc',2, True))\n",
    "print(jaccard_simq('abcdefghij','abcd',2))\n",
    "print(jaccard_simq('abcdefghij','abcde',2))\n",
    "print(jaccard_simq('abcdefghij','abcdef',2))\n",
    "print(jaccard_simq('abcdefghij','abcdefgh',2, True))"
   ]
  },
  {
   "cell_type": "markdown",
   "metadata": {},
   "source": [
    "The length of the plagiarized text does impact the Jaccard similarities. In the above microcosmic example, increasing the plagiarised characters increases the Jaccard similarity by a noticeable amount. This also makes sense mathematically because the Jaccard similarity is calculated by dividing the intersection of q-length characters between the two texts by the union. Having longer plagiarised pieces increases the intersection of q-length characters, without changing the union, meaning that the Jaccard similarity necessarily increases.  \n",
    "This is not important to our five student scenario because we were checking for evidence of plagirism and not necesarily how much was plagiarised. "
   ]
  }
 ],
 "metadata": {
  "kernelspec": {
   "display_name": "Python 3 (ipykernel)",
   "language": "python",
   "name": "python3"
  },
  "language_info": {
   "codemirror_mode": {
    "name": "ipython",
    "version": 3
   },
   "file_extension": ".py",
   "mimetype": "text/x-python",
   "name": "python",
   "nbconvert_exporter": "python",
   "pygments_lexer": "ipython3",
   "version": "3.9.12"
  }
 },
 "nbformat": 4,
 "nbformat_minor": 4
}
