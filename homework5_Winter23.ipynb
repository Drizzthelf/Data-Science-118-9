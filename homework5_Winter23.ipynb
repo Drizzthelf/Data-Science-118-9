{
 "cells": [
  {
   "cell_type": "markdown",
   "metadata": {},
   "source": [
    "# Homework 5: Classification (50 points)\n",
    "\n",
    "Please complete this notebook by filling in the cells provided. Before you begin, execute the following cell to load the needed functions. Each time you start your server, you will need to execute this cell again to load them.  \n",
    "\n",
    "Homework 5 is due on Thursday , February 9 at 9:00am. Late work will not be accepted.  "
   ]
  },
  {
   "cell_type": "code",
   "execution_count": 1,
   "metadata": {},
   "outputs": [],
   "source": [
    "# Don't change this cell; just run it. \n",
    "import pandas as pd\n",
    "import numpy as np\n",
    "import matplotlib\n",
    "%matplotlib inline\n",
    "import matplotlib.pyplot as plots\n",
    "plots.style.use('fivethirtyeight')"
   ]
  },
  {
   "cell_type": "markdown",
   "metadata": {},
   "source": [
    "## 1. Intuition on classification (16 points)\n",
    "\n",
    "#### Question 1.1 (8 points)\n",
    "You have a large dataset `breast-cancer` which has 11 columns. The first ten are attributes of the person that might be predictive of whether or not someone has breast-cancer, and the 11th column indicates whether they have it or not. 99% of the table contains examples of people who do not have breast cancer. \n",
    "\n",
    "Imagine you are trying to use a k-NN classifier to use the first ten columns to predict whether or not someone has breast cancer. You split your training and test set up as necessary, you develop a 7 Nearest Neighbors classifier, and you notice your classifier predicts every point in the test set to be a person who does not have breast cancer. Is there a problem with your code? Explain this phenomenon.   "
   ]
  },
  {
   "cell_type": "markdown",
   "metadata": {},
   "source": [
    "Yes there is a problem with using this method of analysis. Because there are so many parameters being analyzed (10) this analysis would suffer from the curse of dimensionality, which means 'nearest neighbor' essentially just gives random points. 99% of the sample contains people who do not have breast cancer and the variables being tested are not necessarily predictors, so it's highly unlikely for there to be a point that has 4/7 nearest points all be people who have breast cancer if they are randomly chosen. "
   ]
  },
  {
   "cell_type": "markdown",
   "metadata": {},
   "source": [
    "#### Question 1.2 (8 points)\n",
    "\n",
    "You have a training set of 35 examples of characteristics of fruits along with what fruit is actually being described. 25 of the examples of Apples, and 10 of the examples are Oranges. \n",
    "\n",
    "You decide to make a k-NN classifier. Give the smallest possible choice for k such that the classifier will predict Apple for every point, regardless of how the data is spread out. Explain how you picked your k. \n",
    "\n",
    "Imagine that ties are broken at random for even values of k, so there is no guarantee of what will be picked if there is a tie."
   ]
  },
  {
   "cell_type": "markdown",
   "metadata": {},
   "source": [
    "Suppose there is a point thats 10 nearest neighbors are all of the 10 orange points. Then for it to be predicted as an apple point 10 needs to be less than half the k nearest neighbors. The smallest value of k that satisfies this is 21. "
   ]
  },
  {
   "cell_type": "markdown",
   "metadata": {},
   "source": [
    "## 2. Cars classification (34 points) ##\n",
    "\n",
    "The data below contains 397 observations on the following 9 variables:\n",
    "-    mpg: miles per gallon\n",
    "\n",
    "-    cylinders: number of cylinders between 4 and 8\n",
    "\n",
    "-    displacement: engine displacement (cu. inches)\n",
    "\n",
    "-    horsepower: engine horsepower\n",
    "\n",
    "-    weight: vehicle weight (lbs.)\n",
    "\n",
    "-    acceleration: time to accelerate from 0 to 60 mph (sec.)\n",
    "\n",
    "-    year: model year (modulo 100)\n",
    "\n",
    "-    origin: origin of car (1. American, 2. European, 3. Japanese)\n",
    "\n",
    "\n"
   ]
  },
  {
   "cell_type": "code",
   "execution_count": 2,
   "metadata": {
    "scrolled": true
   },
   "outputs": [
    {
     "data": {
      "text/html": [
       "<div>\n",
       "<style scoped>\n",
       "    .dataframe tbody tr th:only-of-type {\n",
       "        vertical-align: middle;\n",
       "    }\n",
       "\n",
       "    .dataframe tbody tr th {\n",
       "        vertical-align: top;\n",
       "    }\n",
       "\n",
       "    .dataframe thead th {\n",
       "        text-align: right;\n",
       "    }\n",
       "</style>\n",
       "<table border=\"1\" class=\"dataframe\">\n",
       "  <thead>\n",
       "    <tr style=\"text-align: right;\">\n",
       "      <th></th>\n",
       "      <th>mpg</th>\n",
       "      <th>cylinders</th>\n",
       "      <th>displacement</th>\n",
       "      <th>horsepower</th>\n",
       "      <th>weight</th>\n",
       "      <th>acceleration</th>\n",
       "      <th>year</th>\n",
       "      <th>origin</th>\n",
       "      <th>name</th>\n",
       "    </tr>\n",
       "  </thead>\n",
       "  <tbody>\n",
       "    <tr>\n",
       "      <th>0</th>\n",
       "      <td>18.0</td>\n",
       "      <td>8</td>\n",
       "      <td>307.0</td>\n",
       "      <td>130.0</td>\n",
       "      <td>3504</td>\n",
       "      <td>12.0</td>\n",
       "      <td>70</td>\n",
       "      <td>1</td>\n",
       "      <td>chevrolet chevelle malibu</td>\n",
       "    </tr>\n",
       "    <tr>\n",
       "      <th>1</th>\n",
       "      <td>15.0</td>\n",
       "      <td>8</td>\n",
       "      <td>350.0</td>\n",
       "      <td>165.0</td>\n",
       "      <td>3693</td>\n",
       "      <td>11.5</td>\n",
       "      <td>70</td>\n",
       "      <td>1</td>\n",
       "      <td>buick skylark 320</td>\n",
       "    </tr>\n",
       "    <tr>\n",
       "      <th>2</th>\n",
       "      <td>18.0</td>\n",
       "      <td>8</td>\n",
       "      <td>318.0</td>\n",
       "      <td>150.0</td>\n",
       "      <td>3436</td>\n",
       "      <td>11.0</td>\n",
       "      <td>70</td>\n",
       "      <td>1</td>\n",
       "      <td>plymouth satellite</td>\n",
       "    </tr>\n",
       "    <tr>\n",
       "      <th>3</th>\n",
       "      <td>16.0</td>\n",
       "      <td>8</td>\n",
       "      <td>304.0</td>\n",
       "      <td>150.0</td>\n",
       "      <td>3433</td>\n",
       "      <td>12.0</td>\n",
       "      <td>70</td>\n",
       "      <td>1</td>\n",
       "      <td>amc rebel sst</td>\n",
       "    </tr>\n",
       "    <tr>\n",
       "      <th>4</th>\n",
       "      <td>17.0</td>\n",
       "      <td>8</td>\n",
       "      <td>302.0</td>\n",
       "      <td>140.0</td>\n",
       "      <td>3449</td>\n",
       "      <td>10.5</td>\n",
       "      <td>70</td>\n",
       "      <td>1</td>\n",
       "      <td>ford torino</td>\n",
       "    </tr>\n",
       "    <tr>\n",
       "      <th>5</th>\n",
       "      <td>15.0</td>\n",
       "      <td>8</td>\n",
       "      <td>429.0</td>\n",
       "      <td>198.0</td>\n",
       "      <td>4341</td>\n",
       "      <td>10.0</td>\n",
       "      <td>70</td>\n",
       "      <td>1</td>\n",
       "      <td>ford galaxie 500</td>\n",
       "    </tr>\n",
       "    <tr>\n",
       "      <th>6</th>\n",
       "      <td>14.0</td>\n",
       "      <td>8</td>\n",
       "      <td>454.0</td>\n",
       "      <td>220.0</td>\n",
       "      <td>4354</td>\n",
       "      <td>9.0</td>\n",
       "      <td>70</td>\n",
       "      <td>1</td>\n",
       "      <td>chevrolet impala</td>\n",
       "    </tr>\n",
       "    <tr>\n",
       "      <th>7</th>\n",
       "      <td>14.0</td>\n",
       "      <td>8</td>\n",
       "      <td>440.0</td>\n",
       "      <td>215.0</td>\n",
       "      <td>4312</td>\n",
       "      <td>8.5</td>\n",
       "      <td>70</td>\n",
       "      <td>1</td>\n",
       "      <td>plymouth fury iii</td>\n",
       "    </tr>\n",
       "    <tr>\n",
       "      <th>8</th>\n",
       "      <td>14.0</td>\n",
       "      <td>8</td>\n",
       "      <td>455.0</td>\n",
       "      <td>225.0</td>\n",
       "      <td>4425</td>\n",
       "      <td>10.0</td>\n",
       "      <td>70</td>\n",
       "      <td>1</td>\n",
       "      <td>pontiac catalina</td>\n",
       "    </tr>\n",
       "    <tr>\n",
       "      <th>9</th>\n",
       "      <td>15.0</td>\n",
       "      <td>8</td>\n",
       "      <td>390.0</td>\n",
       "      <td>190.0</td>\n",
       "      <td>3850</td>\n",
       "      <td>8.5</td>\n",
       "      <td>70</td>\n",
       "      <td>1</td>\n",
       "      <td>amc ambassador dpl</td>\n",
       "    </tr>\n",
       "  </tbody>\n",
       "</table>\n",
       "</div>"
      ],
      "text/plain": [
       "    mpg  cylinders  displacement horsepower  weight  acceleration  year  \\\n",
       "0  18.0          8         307.0      130.0    3504          12.0    70   \n",
       "1  15.0          8         350.0      165.0    3693          11.5    70   \n",
       "2  18.0          8         318.0      150.0    3436          11.0    70   \n",
       "3  16.0          8         304.0      150.0    3433          12.0    70   \n",
       "4  17.0          8         302.0      140.0    3449          10.5    70   \n",
       "5  15.0          8         429.0      198.0    4341          10.0    70   \n",
       "6  14.0          8         454.0      220.0    4354           9.0    70   \n",
       "7  14.0          8         440.0      215.0    4312           8.5    70   \n",
       "8  14.0          8         455.0      225.0    4425          10.0    70   \n",
       "9  15.0          8         390.0      190.0    3850           8.5    70   \n",
       "\n",
       "   origin                       name  \n",
       "0       1  chevrolet chevelle malibu  \n",
       "1       1          buick skylark 320  \n",
       "2       1         plymouth satellite  \n",
       "3       1              amc rebel sst  \n",
       "4       1                ford torino  \n",
       "5       1           ford galaxie 500  \n",
       "6       1           chevrolet impala  \n",
       "7       1          plymouth fury iii  \n",
       "8       1           pontiac catalina  \n",
       "9       1         amc ambassador dpl  "
      ]
     },
     "execution_count": 2,
     "metadata": {},
     "output_type": "execute_result"
    }
   ],
   "source": [
    "# this commands loads the data into a data frame\n",
    "auto_df=pd.read_csv(\"auto.csv\")\n",
    "auto_df.head(10)"
   ]
  },
  {
   "cell_type": "code",
   "execution_count": 7,
   "metadata": {},
   "outputs": [
    {
     "data": {
      "text/plain": [
       "(397, 9)"
      ]
     },
     "execution_count": 7,
     "metadata": {},
     "output_type": "execute_result"
    }
   ],
   "source": [
    "sha = auto_df.shape\n",
    "sha"
   ]
  },
  {
   "cell_type": "markdown",
   "metadata": {},
   "source": [
    "#### Question 2.1 ( Binarization, 3 points)\n",
    "\n",
    "Create a new column in the data frame containing a binary variable called **mpg_b**: it should be equal to 1 if **mpg** contains a value above its median and equal to 0 if **mpg** contains a value below its median."
   ]
  },
  {
   "cell_type": "code",
   "execution_count": 10,
   "metadata": {
    "scrolled": true
   },
   "outputs": [
    {
     "name": "stderr",
     "output_type": "stream",
     "text": [
      "C:\\Users\\ja123\\AppData\\Local\\Temp\\ipykernel_924\\134438158.py:10: SettingWithCopyWarning: \n",
      "A value is trying to be set on a copy of a slice from a DataFrame\n",
      "\n",
      "See the caveats in the documentation: https://pandas.pydata.org/pandas-docs/stable/user_guide/indexing.html#returning-a-view-versus-a-copy\n",
      "  auto_df['mpg_b'][i] = 0\n",
      "C:\\Users\\ja123\\AppData\\Local\\Temp\\ipykernel_924\\134438158.py:8: SettingWithCopyWarning: \n",
      "A value is trying to be set on a copy of a slice from a DataFrame\n",
      "\n",
      "See the caveats in the documentation: https://pandas.pydata.org/pandas-docs/stable/user_guide/indexing.html#returning-a-view-versus-a-copy\n",
      "  auto_df['mpg_b'][i] = 1\n"
     ]
    }
   ],
   "source": [
    "# code here and in additional cells if needed\n",
    "mpg_med = np.median(auto_df['mpg'])\n",
    "auto_df['mpg_b'] = np.zeros(sha[0])\n",
    "\n",
    "#let values equal to the median be considered 1\n",
    "for i in range(sha[0]):\n",
    "    if auto_df['mpg'][i] >= mpg_med:\n",
    "        auto_df['mpg_b'][i] = 1\n",
    "    else:\n",
    "        auto_df['mpg_b'][i] = 0"
   ]
  },
  {
   "cell_type": "code",
   "execution_count": 35,
   "metadata": {},
   "outputs": [
    {
     "data": {
      "text/html": [
       "<div>\n",
       "<style scoped>\n",
       "    .dataframe tbody tr th:only-of-type {\n",
       "        vertical-align: middle;\n",
       "    }\n",
       "\n",
       "    .dataframe tbody tr th {\n",
       "        vertical-align: top;\n",
       "    }\n",
       "\n",
       "    .dataframe thead th {\n",
       "        text-align: right;\n",
       "    }\n",
       "</style>\n",
       "<table border=\"1\" class=\"dataframe\">\n",
       "  <thead>\n",
       "    <tr style=\"text-align: right;\">\n",
       "      <th></th>\n",
       "      <th>mpg</th>\n",
       "      <th>cylinders</th>\n",
       "      <th>displacement</th>\n",
       "      <th>horsepower</th>\n",
       "      <th>weight</th>\n",
       "      <th>acceleration</th>\n",
       "      <th>year</th>\n",
       "      <th>origin</th>\n",
       "      <th>name</th>\n",
       "      <th>mpg_b</th>\n",
       "    </tr>\n",
       "  </thead>\n",
       "  <tbody>\n",
       "    <tr>\n",
       "      <th>0</th>\n",
       "      <td>18.0</td>\n",
       "      <td>8</td>\n",
       "      <td>307.0</td>\n",
       "      <td>130.0</td>\n",
       "      <td>3504</td>\n",
       "      <td>12.0</td>\n",
       "      <td>70</td>\n",
       "      <td>1</td>\n",
       "      <td>chevrolet chevelle malibu</td>\n",
       "      <td>0.0</td>\n",
       "    </tr>\n",
       "    <tr>\n",
       "      <th>1</th>\n",
       "      <td>15.0</td>\n",
       "      <td>8</td>\n",
       "      <td>350.0</td>\n",
       "      <td>165.0</td>\n",
       "      <td>3693</td>\n",
       "      <td>11.5</td>\n",
       "      <td>70</td>\n",
       "      <td>1</td>\n",
       "      <td>buick skylark 320</td>\n",
       "      <td>0.0</td>\n",
       "    </tr>\n",
       "    <tr>\n",
       "      <th>2</th>\n",
       "      <td>18.0</td>\n",
       "      <td>8</td>\n",
       "      <td>318.0</td>\n",
       "      <td>150.0</td>\n",
       "      <td>3436</td>\n",
       "      <td>11.0</td>\n",
       "      <td>70</td>\n",
       "      <td>1</td>\n",
       "      <td>plymouth satellite</td>\n",
       "      <td>0.0</td>\n",
       "    </tr>\n",
       "    <tr>\n",
       "      <th>3</th>\n",
       "      <td>16.0</td>\n",
       "      <td>8</td>\n",
       "      <td>304.0</td>\n",
       "      <td>150.0</td>\n",
       "      <td>3433</td>\n",
       "      <td>12.0</td>\n",
       "      <td>70</td>\n",
       "      <td>1</td>\n",
       "      <td>amc rebel sst</td>\n",
       "      <td>0.0</td>\n",
       "    </tr>\n",
       "    <tr>\n",
       "      <th>4</th>\n",
       "      <td>17.0</td>\n",
       "      <td>8</td>\n",
       "      <td>302.0</td>\n",
       "      <td>140.0</td>\n",
       "      <td>3449</td>\n",
       "      <td>10.5</td>\n",
       "      <td>70</td>\n",
       "      <td>1</td>\n",
       "      <td>ford torino</td>\n",
       "      <td>0.0</td>\n",
       "    </tr>\n",
       "  </tbody>\n",
       "</table>\n",
       "</div>"
      ],
      "text/plain": [
       "    mpg  cylinders  displacement horsepower  weight  acceleration  year  \\\n",
       "0  18.0          8         307.0      130.0    3504          12.0    70   \n",
       "1  15.0          8         350.0      165.0    3693          11.5    70   \n",
       "2  18.0          8         318.0      150.0    3436          11.0    70   \n",
       "3  16.0          8         304.0      150.0    3433          12.0    70   \n",
       "4  17.0          8         302.0      140.0    3449          10.5    70   \n",
       "\n",
       "   origin                       name  mpg_b  \n",
       "0       1  chevrolet chevelle malibu    0.0  \n",
       "1       1          buick skylark 320    0.0  \n",
       "2       1         plymouth satellite    0.0  \n",
       "3       1              amc rebel sst    0.0  \n",
       "4       1                ford torino    0.0  "
      ]
     },
     "execution_count": 35,
     "metadata": {},
     "output_type": "execute_result"
    }
   ],
   "source": [
    "auto_df.head()"
   ]
  },
  {
   "cell_type": "markdown",
   "metadata": {},
   "source": [
    "#### Question 2.2 (Numerical and graphical summaries, 7 points)\n",
    "\n",
    "Explore the data graphically (and numerically if you think it is useful) in order to investigate the association between **mpg_b** and the other features.  Which of the other features seem most likely to be useful in predicting **mpg_b**? Describe your findings.\n"
   ]
  },
  {
   "cell_type": "code",
   "execution_count": 80,
   "metadata": {},
   "outputs": [
    {
     "name": "stdout",
     "output_type": "stream",
     "text": [
      "Blue is Above Median and Red is Below Median\n"
     ]
    },
    {
     "data": {
      "image/png": "[encoded data removed]",
      "text/plain": [
       "<Figure size 1080x1080 with 7 Axes>"
      ]
     },
     "metadata": {},
     "output_type": "display_data"
    }
   ],
   "source": [
    "# code here and in additional cells if needed\n",
    "j = 1\n",
    "cols = ['cylinders','displacement','horsepower','weight','acceleration','year','origin']\n",
    "upper = auto_df[auto_df['mpg_b']==1]\n",
    "lower = auto_df[auto_df['mpg_b']==0]\n",
    "\n",
    "fig, axs = plots.subplots(2, 2, figsize=(15, 15))\n",
    "\n",
    "for i in cols:\n",
    "    plots.subplot(3,4,j)\n",
    "    plots.hist(upper[i],label = 'Above Median', alpha = 0.5)\n",
    "    plots.hist(lower[i],label = 'Below Median', alpha = 0.5)\n",
    "    plots.title(i)\n",
    "    j+=1\n",
    "print(\"Blue is Above Median and Red is Below Median\")"
   ]
  },
  {
   "cell_type": "markdown",
   "metadata": {},
   "source": [
    "The features that appear useful for predicting mpg_b appear to be cylinders, displacement,and weight because they have the least overlapped area."
   ]
  },
  {
   "cell_type": "markdown",
   "metadata": {},
   "source": [
    "#### Question 2.3 (Split the data, 3 points)\n",
    "\n",
    "Split the data into a training set and a test set. Select **randomly** 50 rows of your data frame and extract their data into a test data frame. The rest of the 347 rows should form your training data frame."
   ]
  },
  {
   "cell_type": "code",
   "execution_count": 81,
   "metadata": {},
   "outputs": [],
   "source": [
    "# code here and in additional cells if needed\n",
    "auto_permuted = auto_df.sample(frac=1)\n",
    "test = auto_permuted.iloc[0:50]\n",
    "train = auto_permuted.iloc[50:397]"
   ]
  },
  {
   "cell_type": "code",
   "execution_count": 86,
   "metadata": {},
   "outputs": [
    {
     "name": "stdout",
     "output_type": "stream",
     "text": [
      "(50, 10)\n"
     ]
    },
    {
     "data": {
      "text/html": [
       "<div>\n",
       "<style scoped>\n",
       "    .dataframe tbody tr th:only-of-type {\n",
       "        vertical-align: middle;\n",
       "    }\n",
       "\n",
       "    .dataframe tbody tr th {\n",
       "        vertical-align: top;\n",
       "    }\n",
       "\n",
       "    .dataframe thead th {\n",
       "        text-align: right;\n",
       "    }\n",
       "</style>\n",
       "<table border=\"1\" class=\"dataframe\">\n",
       "  <thead>\n",
       "    <tr style=\"text-align: right;\">\n",
       "      <th></th>\n",
       "      <th>mpg</th>\n",
       "      <th>cylinders</th>\n",
       "      <th>displacement</th>\n",
       "      <th>horsepower</th>\n",
       "      <th>weight</th>\n",
       "      <th>acceleration</th>\n",
       "      <th>year</th>\n",
       "      <th>origin</th>\n",
       "      <th>name</th>\n",
       "      <th>mpg_b</th>\n",
       "    </tr>\n",
       "  </thead>\n",
       "  <tbody>\n",
       "    <tr>\n",
       "      <th>274</th>\n",
       "      <td>20.3</td>\n",
       "      <td>5</td>\n",
       "      <td>131.0</td>\n",
       "      <td>103.0</td>\n",
       "      <td>2830</td>\n",
       "      <td>15.9</td>\n",
       "      <td>78</td>\n",
       "      <td>2</td>\n",
       "      <td>audi 5000</td>\n",
       "      <td>0.0</td>\n",
       "    </tr>\n",
       "    <tr>\n",
       "      <th>383</th>\n",
       "      <td>32.0</td>\n",
       "      <td>4</td>\n",
       "      <td>91.0</td>\n",
       "      <td>67.00</td>\n",
       "      <td>1965</td>\n",
       "      <td>15.7</td>\n",
       "      <td>82</td>\n",
       "      <td>3</td>\n",
       "      <td>honda civic (auto)</td>\n",
       "      <td>1.0</td>\n",
       "    </tr>\n",
       "    <tr>\n",
       "      <th>161</th>\n",
       "      <td>16.0</td>\n",
       "      <td>6</td>\n",
       "      <td>250.0</td>\n",
       "      <td>105.0</td>\n",
       "      <td>3897</td>\n",
       "      <td>18.5</td>\n",
       "      <td>75</td>\n",
       "      <td>1</td>\n",
       "      <td>chevroelt chevelle malibu</td>\n",
       "      <td>0.0</td>\n",
       "    </tr>\n",
       "    <tr>\n",
       "      <th>79</th>\n",
       "      <td>26.0</td>\n",
       "      <td>4</td>\n",
       "      <td>96.0</td>\n",
       "      <td>69.00</td>\n",
       "      <td>2189</td>\n",
       "      <td>18.0</td>\n",
       "      <td>72</td>\n",
       "      <td>2</td>\n",
       "      <td>renault 12 (sw)</td>\n",
       "      <td>1.0</td>\n",
       "    </tr>\n",
       "    <tr>\n",
       "      <th>71</th>\n",
       "      <td>19.0</td>\n",
       "      <td>3</td>\n",
       "      <td>70.0</td>\n",
       "      <td>97.00</td>\n",
       "      <td>2330</td>\n",
       "      <td>13.5</td>\n",
       "      <td>72</td>\n",
       "      <td>3</td>\n",
       "      <td>mazda rx2 coupe</td>\n",
       "      <td>0.0</td>\n",
       "    </tr>\n",
       "  </tbody>\n",
       "</table>\n",
       "</div>"
      ],
      "text/plain": [
       "      mpg  cylinders  displacement horsepower  weight  acceleration  year  \\\n",
       "274  20.3          5         131.0      103.0    2830          15.9    78   \n",
       "383  32.0          4          91.0      67.00    1965          15.7    82   \n",
       "161  16.0          6         250.0      105.0    3897          18.5    75   \n",
       "79   26.0          4          96.0      69.00    2189          18.0    72   \n",
       "71   19.0          3          70.0      97.00    2330          13.5    72   \n",
       "\n",
       "     origin                       name  mpg_b  \n",
       "274       2                  audi 5000    0.0  \n",
       "383       3         honda civic (auto)    1.0  \n",
       "161       1  chevroelt chevelle malibu    0.0  \n",
       "79        2            renault 12 (sw)    1.0  \n",
       "71        3            mazda rx2 coupe    0.0  "
      ]
     },
     "execution_count": 86,
     "metadata": {},
     "output_type": "execute_result"
    }
   ],
   "source": [
    "print(test.shape)\n",
    "test.head()"
   ]
  },
  {
   "cell_type": "code",
   "execution_count": 87,
   "metadata": {},
   "outputs": [
    {
     "name": "stdout",
     "output_type": "stream",
     "text": [
      "(347, 10)\n"
     ]
    },
    {
     "data": {
      "text/html": [
       "<div>\n",
       "<style scoped>\n",
       "    .dataframe tbody tr th:only-of-type {\n",
       "        vertical-align: middle;\n",
       "    }\n",
       "\n",
       "    .dataframe tbody tr th {\n",
       "        vertical-align: top;\n",
       "    }\n",
       "\n",
       "    .dataframe thead th {\n",
       "        text-align: right;\n",
       "    }\n",
       "</style>\n",
       "<table border=\"1\" class=\"dataframe\">\n",
       "  <thead>\n",
       "    <tr style=\"text-align: right;\">\n",
       "      <th></th>\n",
       "      <th>mpg</th>\n",
       "      <th>cylinders</th>\n",
       "      <th>displacement</th>\n",
       "      <th>horsepower</th>\n",
       "      <th>weight</th>\n",
       "      <th>acceleration</th>\n",
       "      <th>year</th>\n",
       "      <th>origin</th>\n",
       "      <th>name</th>\n",
       "      <th>mpg_b</th>\n",
       "    </tr>\n",
       "  </thead>\n",
       "  <tbody>\n",
       "    <tr>\n",
       "      <th>315</th>\n",
       "      <td>24.3</td>\n",
       "      <td>4</td>\n",
       "      <td>151.0</td>\n",
       "      <td>90.00</td>\n",
       "      <td>3003</td>\n",
       "      <td>20.1</td>\n",
       "      <td>80</td>\n",
       "      <td>1</td>\n",
       "      <td>amc concord</td>\n",
       "      <td>1.0</td>\n",
       "    </tr>\n",
       "    <tr>\n",
       "      <th>284</th>\n",
       "      <td>20.6</td>\n",
       "      <td>6</td>\n",
       "      <td>225.0</td>\n",
       "      <td>110.0</td>\n",
       "      <td>3360</td>\n",
       "      <td>16.6</td>\n",
       "      <td>79</td>\n",
       "      <td>1</td>\n",
       "      <td>dodge aspen 6</td>\n",
       "      <td>0.0</td>\n",
       "    </tr>\n",
       "    <tr>\n",
       "      <th>374</th>\n",
       "      <td>36.0</td>\n",
       "      <td>4</td>\n",
       "      <td>105.0</td>\n",
       "      <td>74.00</td>\n",
       "      <td>1980</td>\n",
       "      <td>15.3</td>\n",
       "      <td>82</td>\n",
       "      <td>2</td>\n",
       "      <td>volkswagen rabbit l</td>\n",
       "      <td>1.0</td>\n",
       "    </tr>\n",
       "    <tr>\n",
       "      <th>189</th>\n",
       "      <td>15.5</td>\n",
       "      <td>8</td>\n",
       "      <td>304.0</td>\n",
       "      <td>120.0</td>\n",
       "      <td>3962</td>\n",
       "      <td>13.9</td>\n",
       "      <td>76</td>\n",
       "      <td>1</td>\n",
       "      <td>amc matador</td>\n",
       "      <td>0.0</td>\n",
       "    </tr>\n",
       "    <tr>\n",
       "      <th>158</th>\n",
       "      <td>16.0</td>\n",
       "      <td>8</td>\n",
       "      <td>318.0</td>\n",
       "      <td>150.0</td>\n",
       "      <td>4498</td>\n",
       "      <td>14.5</td>\n",
       "      <td>75</td>\n",
       "      <td>1</td>\n",
       "      <td>plymouth grand fury</td>\n",
       "      <td>0.0</td>\n",
       "    </tr>\n",
       "  </tbody>\n",
       "</table>\n",
       "</div>"
      ],
      "text/plain": [
       "      mpg  cylinders  displacement horsepower  weight  acceleration  year  \\\n",
       "315  24.3          4         151.0      90.00    3003          20.1    80   \n",
       "284  20.6          6         225.0      110.0    3360          16.6    79   \n",
       "374  36.0          4         105.0      74.00    1980          15.3    82   \n",
       "189  15.5          8         304.0      120.0    3962          13.9    76   \n",
       "158  16.0          8         318.0      150.0    4498          14.5    75   \n",
       "\n",
       "     origin                 name  mpg_b  \n",
       "315       1          amc concord    1.0  \n",
       "284       1        dodge aspen 6    0.0  \n",
       "374       2  volkswagen rabbit l    1.0  \n",
       "189       1          amc matador    0.0  \n",
       "158       1  plymouth grand fury    0.0  "
      ]
     },
     "execution_count": 87,
     "metadata": {},
     "output_type": "execute_result"
    }
   ],
   "source": [
    "print(train.shape)\n",
    "train.head()"
   ]
  },
  {
   "cell_type": "markdown",
   "metadata": {},
   "source": [
    "#### Question 2.4 (kNN for mpg_b, 10 points)\n",
    "\n",
    "The goal here is to construct a kNN algorithm that has high **accuracy** (proportion of test examples labeled correctly). Recall that you have to take into consideration: (i) the type of features (categorical, quantitative); (ii) the scaling of the features; (iii) the distance you use; (iv) the features in the model; (v) the number of neighbors, k.\n",
    "\n",
    "You can choose to use only the variables that seem most asociated with **mpg_b** in Q2.2. Try several values of k, and report on your test errors. Which value of k performs best?\n",
    "\n",
    "**Note:** You need to write the code for the algorithm and not use kNN functions in Python libraries. You may use any of the functions we wrote in the lecture notebooks.\n"
   ]
  },
  {
   "cell_type": "code",
   "execution_count": 105,
   "metadata": {},
   "outputs": [],
   "source": [
    "# returns a data frame with X_test appended by a column of Class prediction\n",
    "def classify(X_train,Y_train, X_test, k):\n",
    "    \"\"\"Classify data in X_test using k-nearest neighbor classification with the given training table.\"\"\"\n",
    "    #training = X_train\n",
    "    n=X_test.shape[0] # the number of test cases\n",
    "    \n",
    "    pred_class = np.array([])\n",
    "    for i in np.arange(n):\n",
    "        topkclasses = closest(X_train,Y_train, X_test.iloc[i], k)\n",
    "        pred_class = np.append(pred_class,majority(topkclasses))\n",
    "    \n",
    "    report_df=X_test.copy()\n",
    "    report_df['Class']=pred_class\n",
    "    \n",
    "    return report_df\n",
    "\n",
    "def minmax_scaling(x):\n",
    "    \"Convert any array of numbers\"\n",
    "    return (x - np.min(x))/(np.max(x)-np.min(x))  \n",
    "\n",
    "def standard_units(x):\n",
    "    \"Convert any array of numbers to standard units.\"\n",
    "    return (x - np.average(x))/np.std(x,ddof=1)  \n",
    "\n",
    "def closest(X_train, Y_train, point, k):\n",
    "    \"\"\"A df containing the k closest rows in the training df to array 'point' \"\"\"\n",
    "    attributes=X_train.copy()\n",
    "    attributes['Distance']=all_distances(attributes, point)\n",
    "    attributes['Class']=Y_train\n",
    "    attributes=attributes.sort_values('Distance')    \n",
    "    topk = attributes.head(k)\n",
    "    return topk\n",
    "\n",
    "def all_distances(X_train, point):\n",
    "    \"\"\"The distance between point (an array of numbers) and the numbers in row i of attribute data frame.\"\"\"\n",
    "    attributes = X_train.copy()\n",
    "    def distance_from_point(row):\n",
    "        return distance(point, np.array(row))\n",
    "    return attributes.apply(distance_from_point,axis=1)\n",
    "\n",
    "def distance(pt1, pt2):\n",
    "    \"\"\"Return the distance between two points, represented as arrays\"\"\"\n",
    "    return np.sqrt(sum((pt1 - pt2)**2))\n",
    "\n",
    "def majority(topkclasses):\n",
    "    \"\"\"1 if the majority of the \"Class\" column is 1's, and 0 otherwise.\"\"\"\n",
    "    ones = topkclasses[topkclasses.Class==1].shape[0]\n",
    "    zeros = topkclasses[topkclasses.Class==0].shape[0]\n",
    "    if ones > zeros:\n",
    "        return 1\n",
    "    else:\n",
    "        return 0\n"
   ]
  },
  {
   "cell_type": "code",
   "execution_count": 98,
   "metadata": {},
   "outputs": [],
   "source": [
    "# code here and in additional cells if needed\n",
    "# features to use are cylinders, displacement, and weight\n",
    "# scaling of the features: cylinders -> minmax_scaling, displacement/weight -> standard units\n",
    "# distance used will be euclidean\n",
    "\n",
    "#Training Data\n",
    "X_train = pd.DataFrame(\n",
    "        {\"cylinders\": minmax_scaling(train.cylinders),\n",
    "         \"displacement\": standard_units(train.displacement),\n",
    "         \"weight\": standard_units(train.displacement)})\n",
    "X_test = pd.DataFrame(\n",
    "        {\"cylinders\": minmax_scaling(test.cylinders),\n",
    "         \"displacement\": standard_units(test.displacement),\n",
    "         \"weight\": standard_units(test.displacement)})\n",
    "Y_train = train.mpg_b\n",
    "Y_test = test.mpg_b"
   ]
  },
  {
   "cell_type": "code",
   "execution_count": 117,
   "metadata": {},
   "outputs": [
    {
     "data": {
      "text/plain": [
       "0.78"
      ]
     },
     "execution_count": 117,
     "metadata": {},
     "output_type": "execute_result"
    }
   ],
   "source": [
    "# k=1\n",
    "np.mean(Y_test==classify(X_train,Y_train,X_test,1).Class)"
   ]
  },
  {
   "cell_type": "code",
   "execution_count": 107,
   "metadata": {},
   "outputs": [
    {
     "data": {
      "text/plain": [
       "0.84"
      ]
     },
     "execution_count": 107,
     "metadata": {},
     "output_type": "execute_result"
    }
   ],
   "source": [
    "# k=5 \n",
    "np.mean(Y_test==classify(X_train,Y_train,X_test,5).Class)"
   ]
  },
  {
   "cell_type": "code",
   "execution_count": 115,
   "metadata": {},
   "outputs": [
    {
     "data": {
      "text/plain": [
       "0.86"
      ]
     },
     "execution_count": 115,
     "metadata": {},
     "output_type": "execute_result"
    }
   ],
   "source": [
    "# k=31\n",
    "np.mean(Y_test==classify(X_train,Y_train,X_test,31).Class)"
   ]
  },
  {
   "cell_type": "code",
   "execution_count": 116,
   "metadata": {},
   "outputs": [
    {
     "data": {
      "text/plain": [
       "0.86"
      ]
     },
     "execution_count": 116,
     "metadata": {},
     "output_type": "execute_result"
    }
   ],
   "source": [
    "# k=51\n",
    "np.mean(Y_test==classify(X_train,Y_train,X_test,51).Class)"
   ]
  },
  {
   "cell_type": "code",
   "execution_count": 118,
   "metadata": {},
   "outputs": [
    {
     "data": {
      "text/plain": [
       "0.46"
      ]
     },
     "execution_count": 118,
     "metadata": {},
     "output_type": "execute_result"
    }
   ],
   "source": [
    "#k=1000\n",
    "np.mean(Y_test==classify(X_train,Y_train,X_test,1000).Class)"
   ]
  },
  {
   "cell_type": "markdown",
   "metadata": {},
   "source": [
    "Letting k equal 1 definitely has the worst accuracy, but past 31 it becomes hard to tell if there is improvement in the accuracy. Nevertheless if we set k to be ridiculously large (and not really possible in this sample) then the accuracy falls like it should. Thus, it seems that 0.86 is close to the best accuracy that this model can produce. "
   ]
  },
  {
   "cell_type": "markdown",
   "metadata": {},
   "source": [
    "#### Question 2.5 (kNN for country of origin, 14 points)\n",
    "\n",
    "The goal here is to construct a kNN algorithm for classfication of country of origin. Instructions are similar to those in Q2.4 - the main difference is that `origin` has 3 labels so you need to modify your code to account for that. This is an example of **multiclass classification**.\n",
    "\n",
    "Issues to consider:\n",
    "- as before, you need training and testing data\n",
    "- try several values of k \n",
    "- feature selection, scaling, distance are important\n",
    "- are the three groups balanced?\n",
    "- how do you break ties?\n",
    "\n",
    "**Hints (on tie breaking)**: (i) random selection between tied labels; (ii) use the distances when tied (closer neighbors are more relevant)."
   ]
  },
  {
   "cell_type": "code",
   "execution_count": 124,
   "metadata": {},
   "outputs": [
    {
     "name": "stdout",
     "output_type": "stream",
     "text": [
      "Blue is C1, Red is C2, Green is C3\n"
     ]
    },
    {
     "data": {
      "image/png": "[encoded data removed]",
      "text/plain": [
       "<Figure size 1080x1080 with 7 Axes>"
      ]
     },
     "metadata": {},
     "output_type": "display_data"
    }
   ],
   "source": [
    "# code here and in additional cells if needed\n",
    "# features to use are: \n",
    "o1 = auto_df[auto_df['origin']==1]\n",
    "o2 = auto_df[auto_df['origin']==2]\n",
    "o3 = auto_df[auto_df['origin']==3]\n",
    "\n",
    "cols = ['mpg','cylinders','displacement','horsepower','weight','acceleration','year']\n",
    "\n",
    "fig, axs = plots.subplots(2, 2, figsize=(15, 15))\n",
    "j = 1\n",
    "for i in cols:\n",
    "    plots.subplot(3,4,j)\n",
    "    plots.hist(o1[i],label = 'country1', alpha = 0.5)\n",
    "    plots.hist(o2[i],label = 'country2', alpha = 0.5, color = 'Red')\n",
    "    plots.hist(o3[i],label = 'country3', alpha = 0.5, color = 'Green')\n",
    "    plots.title(i)\n",
    "    j+=1\n",
    "print(\"Blue is C1, Red is C2, Green is C3\")"
   ]
  },
  {
   "cell_type": "code",
   "execution_count": 144,
   "metadata": {},
   "outputs": [],
   "source": [
    "#Needed changes to accomdate multiclass classification:\n",
    "def majority(topkclasses):\n",
    "    \"\"\"1 if the majority of the \"Class\" column is 1's, and 0 otherwise.\"\"\"\n",
    "    ones = topkclasses[topkclasses.Class==1].shape[0]\n",
    "    twos = topkclasses[topkclasses.Class==2].shape[0]\n",
    "    threes = topkclasses[topkclasses.Class==3].shape[0]\n",
    "    big = max(ones,twos,threes)\n",
    "    if threes == big:\n",
    "        return 3\n",
    "    elif twos == big:\n",
    "        return 2\n",
    "    else:\n",
    "        return 1\n",
    "    \n",
    "#We'll try using features: mpg and displacement\n",
    "#scaling of features: mpg/displacement -> standard units, equally weighted\n",
    "#Euclidean Distance\n",
    "#Training Data\n",
    "X_train = pd.DataFrame(\n",
    "        {\"mpg\": standard_units(train.mpg),\n",
    "         \"displacement\": standard_units(train.displacement)})\n",
    "X_test = pd.DataFrame(\n",
    "        {\"mpg\": standard_units(test.mpg),\n",
    "         \"displacement\": standard_units(test.displacement)})\n",
    "Y_train = train.origin\n",
    "Y_test = test.origin"
   ]
  },
  {
   "cell_type": "code",
   "execution_count": 153,
   "metadata": {},
   "outputs": [
    {
     "data": {
      "text/plain": [
       "0.68"
      ]
     },
     "execution_count": 153,
     "metadata": {},
     "output_type": "execute_result"
    }
   ],
   "source": [
    "# k=3\n",
    "np.mean(Y_test==classify(X_train,Y_train,X_test,3).Class)"
   ]
  },
  {
   "cell_type": "code",
   "execution_count": 150,
   "metadata": {},
   "outputs": [
    {
     "data": {
      "text/plain": [
       "0.7"
      ]
     },
     "execution_count": 150,
     "metadata": {},
     "output_type": "execute_result"
    }
   ],
   "source": [
    "# k=5\n",
    "np.mean(Y_test==classify(X_train,Y_train,X_test,5).Class)"
   ]
  },
  {
   "cell_type": "code",
   "execution_count": 154,
   "metadata": {},
   "outputs": [
    {
     "data": {
      "text/plain": [
       "0.62"
      ]
     },
     "execution_count": 154,
     "metadata": {},
     "output_type": "execute_result"
    }
   ],
   "source": [
    "# k=9\n",
    "np.mean(Y_test==classify(X_train,Y_train,X_test,9).Class)"
   ]
  },
  {
   "cell_type": "markdown",
   "metadata": {},
   "source": [
    "The three groups are definitely not balanced. There are many more samples that have an origin value of 1 than the other two groups. Because of the low sample counts for groups 2 and 3 I broke ties always in the favor of the group 3 and then in favor of group 2. The displacement and mpg data were pretty variable so I do not expect there to be many tie scenarios however. Having k=5 closest neighbors seemed to return the best accuracy. Going to k=9 drastically drops the accuracy. "
   ]
  }
 ],
 "metadata": {
  "kernelspec": {
   "display_name": "Python 3 (ipykernel)",
   "language": "python",
   "name": "python3"
  },
  "language_info": {
   "codemirror_mode": {
    "name": "ipython",
    "version": 3
   },
   "file_extension": ".py",
   "mimetype": "text/x-python",
   "name": "python",
   "nbconvert_exporter": "python",
   "pygments_lexer": "ipython3",
   "version": "3.9.12"
  }
 },
 "nbformat": 4,
 "nbformat_minor": 2
}
