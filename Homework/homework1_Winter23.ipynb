{
 "cells": [
  {
   "cell_type": "markdown",
   "metadata": {},
   "source": [
    "# Homework 1: Dependence and Regression (50 points)\n",
    "\n",
    "**Reading**: Data8 textbook chapter [15](https://www.inferentialthinking.com/chapters/15/Prediction).\n",
    "\n",
    "Please complete this notebook by filling in the cells provided. Before you begin, execute the following cell to load the needed functions. Each time you start your server, you will need to execute this cell again to load them.  \n",
    "\n",
    "Directly sharing answers is not okay, but discussing problems with the course staff or with other students is encouraged.\n",
    " \n",
    "Homework 1 is due **Thursday, 1/12 at 9:00am**. Late work will not be accepted.  You should start early so that you have time to get help if you're stuck. "
   ]
  },
  {
   "cell_type": "code",
   "execution_count": 3,
   "metadata": {},
   "outputs": [],
   "source": [
    "# Don't change this cell; just run it. \n",
    "import numpy as np\n",
    "import pandas as pd\n",
    "import matplotlib\n",
    "%matplotlib inline\n",
    "import matplotlib.pyplot as plt\n",
    "plt.style.use('fivethirtyeight')"
   ]
  },
  {
   "cell_type": "markdown",
   "metadata": {},
   "source": [
    "## 1. Restaurant Data (9 points) \n",
    "\n",
    "The data below represent average ratings for 15 restaurants different aspects (ambience, food, service, and overall rating) as provided by previous customers. We want to investigate the importance of ambience, food, and service to the overall rating.\n"
   ]
  },
  {
   "cell_type": "code",
   "execution_count": 4,
   "metadata": {
    "scrolled": true
   },
   "outputs": [
    {
     "data": {
      "text/html": [
       "<div>\n",
       "<style scoped>\n",
       "    .dataframe tbody tr th:only-of-type {\n",
       "        vertical-align: middle;\n",
       "    }\n",
       "\n",
       "    .dataframe tbody tr th {\n",
       "        vertical-align: top;\n",
       "    }\n",
       "\n",
       "    .dataframe thead th {\n",
       "        text-align: right;\n",
       "    }\n",
       "</style>\n",
       "<table border=\"1\" class=\"dataframe\">\n",
       "  <thead>\n",
       "    <tr style=\"text-align: right;\">\n",
       "      <th></th>\n",
       "      <th>restaurant</th>\n",
       "      <th>food</th>\n",
       "      <th>ambience</th>\n",
       "      <th>service</th>\n",
       "      <th>rating</th>\n",
       "    </tr>\n",
       "  </thead>\n",
       "  <tbody>\n",
       "    <tr>\n",
       "      <th>0</th>\n",
       "      <td>1</td>\n",
       "      <td>85</td>\n",
       "      <td>82</td>\n",
       "      <td>89</td>\n",
       "      <td>78</td>\n",
       "    </tr>\n",
       "    <tr>\n",
       "      <th>1</th>\n",
       "      <td>2</td>\n",
       "      <td>80</td>\n",
       "      <td>90</td>\n",
       "      <td>80</td>\n",
       "      <td>85</td>\n",
       "    </tr>\n",
       "    <tr>\n",
       "      <th>2</th>\n",
       "      <td>3</td>\n",
       "      <td>83</td>\n",
       "      <td>86</td>\n",
       "      <td>83</td>\n",
       "      <td>85</td>\n",
       "    </tr>\n",
       "    <tr>\n",
       "      <th>3</th>\n",
       "      <td>4</td>\n",
       "      <td>70</td>\n",
       "      <td>96</td>\n",
       "      <td>75</td>\n",
       "      <td>72</td>\n",
       "    </tr>\n",
       "    <tr>\n",
       "      <th>4</th>\n",
       "      <td>5</td>\n",
       "      <td>68</td>\n",
       "      <td>80</td>\n",
       "      <td>78</td>\n",
       "      <td>75</td>\n",
       "    </tr>\n",
       "    <tr>\n",
       "      <th>5</th>\n",
       "      <td>6</td>\n",
       "      <td>65</td>\n",
       "      <td>70</td>\n",
       "      <td>56</td>\n",
       "      <td>54</td>\n",
       "    </tr>\n",
       "    <tr>\n",
       "      <th>6</th>\n",
       "      <td>7</td>\n",
       "      <td>64</td>\n",
       "      <td>68</td>\n",
       "      <td>61</td>\n",
       "      <td>62</td>\n",
       "    </tr>\n",
       "    <tr>\n",
       "      <th>7</th>\n",
       "      <td>8</td>\n",
       "      <td>72</td>\n",
       "      <td>95</td>\n",
       "      <td>72</td>\n",
       "      <td>73</td>\n",
       "    </tr>\n",
       "    <tr>\n",
       "      <th>8</th>\n",
       "      <td>9</td>\n",
       "      <td>69</td>\n",
       "      <td>70</td>\n",
       "      <td>78</td>\n",
       "      <td>70</td>\n",
       "    </tr>\n",
       "    <tr>\n",
       "      <th>9</th>\n",
       "      <td>10</td>\n",
       "      <td>75</td>\n",
       "      <td>80</td>\n",
       "      <td>75</td>\n",
       "      <td>77</td>\n",
       "    </tr>\n",
       "    <tr>\n",
       "      <th>10</th>\n",
       "      <td>11</td>\n",
       "      <td>75</td>\n",
       "      <td>70</td>\n",
       "      <td>75</td>\n",
       "      <td>74</td>\n",
       "    </tr>\n",
       "    <tr>\n",
       "      <th>11</th>\n",
       "      <td>12</td>\n",
       "      <td>72</td>\n",
       "      <td>90</td>\n",
       "      <td>78</td>\n",
       "      <td>76</td>\n",
       "    </tr>\n",
       "    <tr>\n",
       "      <th>12</th>\n",
       "      <td>13</td>\n",
       "      <td>81</td>\n",
       "      <td>72</td>\n",
       "      <td>78</td>\n",
       "      <td>80</td>\n",
       "    </tr>\n",
       "    <tr>\n",
       "      <th>13</th>\n",
       "      <td>14</td>\n",
       "      <td>71</td>\n",
       "      <td>91</td>\n",
       "      <td>71</td>\n",
       "      <td>71</td>\n",
       "    </tr>\n",
       "    <tr>\n",
       "      <th>14</th>\n",
       "      <td>15</td>\n",
       "      <td>67</td>\n",
       "      <td>86</td>\n",
       "      <td>78</td>\n",
       "      <td>64</td>\n",
       "    </tr>\n",
       "  </tbody>\n",
       "</table>\n",
       "</div>"
      ],
      "text/plain": [
       "    restaurant  food  ambience  service  rating\n",
       "0            1    85        82       89      78\n",
       "1            2    80        90       80      85\n",
       "2            3    83        86       83      85\n",
       "3            4    70        96       75      72\n",
       "4            5    68        80       78      75\n",
       "5            6    65        70       56      54\n",
       "6            7    64        68       61      62\n",
       "7            8    72        95       72      73\n",
       "8            9    69        70       78      70\n",
       "9           10    75        80       75      77\n",
       "10          11    75        70       75      74\n",
       "11          12    72        90       78      76\n",
       "12          13    81        72       78      80\n",
       "13          14    71        91       71      71\n",
       "14          15    67        86       78      64"
      ]
     },
     "execution_count": 4,
     "metadata": {},
     "output_type": "execute_result"
    }
   ],
   "source": [
    "ratings_df=pd.read_csv(\"ratings.csv\")\n",
    "ratings_df"
   ]
  },
  {
   "cell_type": "markdown",
   "metadata": {},
   "source": [
    "#### Question 1\n",
    "\n",
    "Draw three scatter plots of: rating versus ambience (rating is on the y axis), rating versus food and rating versus service. Use more than one cell if needed."
   ]
  },
  {
   "cell_type": "code",
   "execution_count": 5,
   "metadata": {
    "scrolled": true
   },
   "outputs": [
    {
     "data": {
      "text/plain": [
       "Text(0.5, 1.0, 'Restaurant Service VS Rating')"
      ]
     },
     "execution_count": 5,
     "metadata": {},
     "output_type": "execute_result"
    },
    {
     "data": {
      "image/png": "[encoded data removed]",
      "text/plain": [
       "<Figure size 432x288 with 1 Axes>"
      ]
     },
     "metadata": {},
     "output_type": "display_data"
    },
    {
     "data": {
      "image/png": "[encoded data removed]",
      "text/plain": [
       "<Figure size 432x288 with 1 Axes>"
      ]
     },
     "metadata": {},
     "output_type": "display_data"
    },
    {
     "data": {
      "image/png": "[encoded data removed]",
      "text/plain": [
       "<Figure size 432x288 with 1 Axes>"
      ]
     },
     "metadata": {},
     "output_type": "display_data"
    }
   ],
   "source": [
    "# code here and in additional cells if needed\n",
    "ratings_df.plot.scatter('ambience','rating')\n",
    "plt.title('Restaurant Ambience VS Rating')\n",
    "ratings_df.plot.scatter('food','rating')\n",
    "plt.title('Restaurant Food VS Rating')\n",
    "ratings_df.plot.scatter('service','rating')\n",
    "plt.title('Restaurant Service VS Rating')"
   ]
  },
  {
   "cell_type": "markdown",
   "metadata": {},
   "source": [
    "#### Question 2\n",
    "\n",
    "Calculate the regression (least squares) lines for: (i) rating versus ambience (rating  is the response variable, denoted by Y in class notes); (ii) rating versus food; and (iii) rating versus service.  Interpret the slopes in terms of the problem."
   ]
  },
  {
   "cell_type": "code",
   "execution_count": 149,
   "metadata": {},
   "outputs": [],
   "source": [
    "# code here and in additional cells if needed\n",
    "def line_mse(x,y):\n",
    "    if len(x)!=len(y):\n",
    "        raise ValueError('arrays are of different lengths')\n",
    "    def mse(a):\n",
    "        estimate = a[0]*x + a[1]\n",
    "        return (np.mean((y - estimate) ** 2)) \n",
    "    return minimize(mse,x0=[0,0],method=\"Powell\") \n",
    "\n",
    "from scipy.optimize import minimize"
   ]
  },
  {
   "cell_type": "code",
   "execution_count": 41,
   "metadata": {},
   "outputs": [
    {
     "data": {
      "text/plain": [
       "array([ 0.43786981, 49.73964592])"
      ]
     },
     "execution_count": 41,
     "metadata": {},
     "output_type": "execute_result"
    }
   ],
   "source": [
    "#ratings vs ambience\n",
    "line_mse(ratings_df['rating'],ratings_df['ambience']).x"
   ]
  },
  {
   "cell_type": "code",
   "execution_count": 40,
   "metadata": {},
   "outputs": [
    {
     "data": {
      "text/plain": [
       "array([ 0.66141461, 24.8059722 ])"
      ]
     },
     "execution_count": 40,
     "metadata": {},
     "output_type": "execute_result"
    }
   ],
   "source": [
    "#ratings vs food\n",
    "line_mse(ratings_df['rating'],ratings_df['food']).x"
   ]
  },
  {
   "cell_type": "code",
   "execution_count": 43,
   "metadata": {},
   "outputs": [
    {
     "data": {
      "text/plain": [
       "array([ 0.77287739, 18.66175867])"
      ]
     },
     "execution_count": 43,
     "metadata": {},
     "output_type": "execute_result"
    }
   ],
   "source": [
    "#ratings vs service\n",
    "line_mse(ratings_df['rating'],ratings_df['service']).x"
   ]
  },
  {
   "cell_type": "markdown",
   "metadata": {},
   "source": [
    "The slopes are all positive, which makes sense because higher ratings in any of the categories correlate to higher overall ratings. The slopes in order from largest to smallest belong to service, food, and then ambience. This suggests that a high rating is more strongly correlated to service than food or ambience. "
   ]
  },
  {
   "cell_type": "markdown",
   "metadata": {},
   "source": [
    "#### Question 3\n",
    "On the basis of these data, do you feel that linear models are a good choice for understanding the relationships between these variables?"
   ]
  },
  {
   "cell_type": "markdown",
   "metadata": {},
   "source": [
    "No. Ideally the overall rating would not place more emphasis on one category over the others. Also, the x-intercept of each linear model suggests that a rating of 0 still correlates to positive ratings in each category. While this might make sense for a heavy critic, it still doesn't make sense for a restaurant rated 0 to have an ambience rated at 50. "
   ]
  },
  {
   "cell_type": "markdown",
   "metadata": {},
   "source": [
    "## 2. Triple Jump Distances vs. Vertical Jump Heights (12 points)\n",
    "\n",
    "Does skill in one sport imply skill in a related sport?  The answer might be different for different activities.  Let us find out whether it's true for the [triple jump](https://en.wikipedia.org/wiki/Triple_jump) (an horizontal jump similar to a long jump) and the vertical jump.  Since we're learning about linear regression, we will look specifically for a *linear* association between skill in the two sports.\n",
    "\n",
    "The following data was collected by observing 40 collegiate level soccer players.  Each athlete's distances in both jump activities were measured in centimeters. Run the cell below to load the data into a pandas data frame.\n"
   ]
  },
  {
   "cell_type": "code",
   "execution_count": 3,
   "metadata": {},
   "outputs": [
    {
     "data": {
      "text/html": [
       "<div>\n",
       "<style scoped>\n",
       "    .dataframe tbody tr th:only-of-type {\n",
       "        vertical-align: middle;\n",
       "    }\n",
       "\n",
       "    .dataframe tbody tr th {\n",
       "        vertical-align: top;\n",
       "    }\n",
       "\n",
       "    .dataframe thead th {\n",
       "        text-align: right;\n",
       "    }\n",
       "</style>\n",
       "<table border=\"1\" class=\"dataframe\">\n",
       "  <thead>\n",
       "    <tr style=\"text-align: right;\">\n",
       "      <th></th>\n",
       "      <th>triple</th>\n",
       "      <th>vertical</th>\n",
       "    </tr>\n",
       "  </thead>\n",
       "  <tbody>\n",
       "    <tr>\n",
       "      <th>0</th>\n",
       "      <td>383.00</td>\n",
       "      <td>33.00</td>\n",
       "    </tr>\n",
       "    <tr>\n",
       "      <th>1</th>\n",
       "      <td>781.00</td>\n",
       "      <td>71.10</td>\n",
       "    </tr>\n",
       "    <tr>\n",
       "      <th>2</th>\n",
       "      <td>561.62</td>\n",
       "      <td>62.25</td>\n",
       "    </tr>\n",
       "    <tr>\n",
       "      <th>3</th>\n",
       "      <td>624.52</td>\n",
       "      <td>61.33</td>\n",
       "    </tr>\n",
       "    <tr>\n",
       "      <th>4</th>\n",
       "      <td>446.24</td>\n",
       "      <td>40.19</td>\n",
       "    </tr>\n",
       "  </tbody>\n",
       "</table>\n",
       "</div>"
      ],
      "text/plain": [
       "   triple  vertical\n",
       "0  383.00     33.00\n",
       "1  781.00     71.10\n",
       "2  561.62     62.25\n",
       "3  624.52     61.33\n",
       "4  446.24     40.19"
      ]
     },
     "execution_count": 3,
     "metadata": {},
     "output_type": "execute_result"
    }
   ],
   "source": [
    "jumps_df = pd.read_csv('triple_vertical.csv')\n",
    "jumps_df.head(5)"
   ]
  },
  {
   "cell_type": "markdown",
   "metadata": {},
   "source": [
    "#### Question 1\n",
    "Before running a regression, it's important to see what the data look like, because our eyes are good at picking out unusual patterns in data.  Draw a scatter plot with the triple jump distances on the horizontal axis and the vertical jump heights on vertical axis **that also shows: (i) the least squares line; and (ii) the least absolute deviations line (minimizing MAE)**.  "
   ]
  },
  {
   "cell_type": "code",
   "execution_count": 150,
   "metadata": {},
   "outputs": [
    {
     "data": {
      "text/plain": [
       "<matplotlib.legend.Legend at 0x2087fc640a0>"
      ]
     },
     "execution_count": 150,
     "metadata": {},
     "output_type": "execute_result"
    },
    {
     "data": {
      "image/png": "[encoded data removed]",
      "text/plain": [
       "<Figure size 432x288 with 1 Axes>"
      ]
     },
     "metadata": {},
     "output_type": "display_data"
    }
   ],
   "source": [
    "# answer to Question 1 here and in additional cells if needed\n",
    "def line_mae(x,y):\n",
    "    if len(x)!=len(y):\n",
    "        raise ValueError('arrays are of different lengths')\n",
    "    def mae(a):\n",
    "        estimate = a[0]*x + a[1]\n",
    "        return (np.mean(abs(y - estimate))) \n",
    "    return minimize(mae,x0=[0,0],method=\"Powell\") \n",
    "\n",
    "jumps_df.plot.scatter('triple','vertical',title='Triple Jump VS Long Jump')\n",
    "\n",
    "def jump_mse(a):\n",
    "    estimate = a[0]*jumps_df['triple'] + a[1]\n",
    "    return (np.mean((jumps_df['vertical']-estimate) ** 2))\n",
    "mse = minimize(jump_mse, x0=[0,0], method=\"Powell\").x\n",
    "x = np.arange(350,800)\n",
    "y = mse[0]*x + mse[1]\n",
    "line1, = plt.plot(x,y, linewidth=1.5)\n",
    "\n",
    "def housing_mae(a):\n",
    "    x = jumps_df['triple']\n",
    "    y = jumps_df['vertical']\n",
    "    estimate = a[0]*x + a[1]\n",
    "    return (np.mean(abs(y - estimate))) \n",
    "\n",
    "mae = minimize(housing_mae, x0=[0,0], method=\"Powell\").x\n",
    "y = mae[0]*x + mae[1]\n",
    "line2, = plt.plot(x,y, linewidth=1.5)\n",
    "plt.legend([line1,line2],['MSE','MAE'])"
   ]
  },
  {
   "cell_type": "markdown",
   "metadata": {},
   "source": [
    "#### Question 2\n",
    "Based on the scatterplot, does the correlation coefficient `r` look closest to 0, .5, or -.5? Explain. "
   ]
  },
  {
   "cell_type": "markdown",
   "metadata": {},
   "source": [
    "The correlation coefficient r looks closest to 0.5. Both the MSA and MSE lines suggest a positive correlation between the triple jump distance and the vertical jump distance. Furthermore, the majority of the points appear to be close to the best fit lines so a correlation between the two variables likely exists. "
   ]
  },
  {
   "cell_type": "markdown",
   "metadata": {},
   "source": [
    "#### Question 3\n",
    "Create a function called `regression_parameters`. It takes as its argument a data frame with two columns.  The first column is the predictor (x-variable), and the second column is the response variable (y-variable). It should compute the correlation between the two columns, then compute the slope and intercept of the regression line that predicts the second column from the first, in original units (centimeters).  It should return an array with three elements: the correlation coefficient of the two columns, the slope of the regression line, and the intercept of the regression line."
   ]
  },
  {
   "cell_type": "code",
   "execution_count": 168,
   "metadata": {},
   "outputs": [
    {
     "name": "stdout",
     "output_type": "stream",
     "text": [
      "r: 0.8343076972837594 ; slope: 0.09082004246076382 ; intercept: -0.28371358941200886\n"
     ]
    }
   ],
   "source": [
    "def standard_units(x):\n",
    "    \"Convert any array of numbers to standard units.\"\n",
    "    return (x - np.average(x))/np.std(x,ddof=1)  \n",
    "\n",
    "def correlation(x, y):\n",
    "    \"Calculate the correlation between two arrays of real numbers.\"\n",
    "    x_in_standard_units = standard_units(x)\n",
    "    y_in_standard_units = standard_units(y)\n",
    "    if len(x)!=len(y):\n",
    "        raise ValueError('arrays are of different lengths')\n",
    "    return sum(x_in_standard_units * y_in_standard_units)/(len(x)-1)\n",
    "\n",
    "def regression_parameters(df):\n",
    "    def mse(a):\n",
    "        estimate = a[0]*df.iloc[:,0] + a[1]\n",
    "        return (np.mean((df.iloc[:,1]-estimate) ** 2))\n",
    "    mse = minimize(mse, x0=[0,0], method=\"Powell\").x\n",
    "    # Our solution had 4 lines above this one; you may use more or less than that\n",
    "    r = correlation(df.iloc[:,0],df.iloc[:,1])\n",
    "    slope = mse[0]\n",
    "    intercept = mse[1]\n",
    "    return np.array([r, slope, intercept])\n",
    "\n",
    "# When your function is finished, the next lines should\n",
    "# compute the regression line predicting vertical jump \n",
    "# distances from triple jump distances. Set parameters\n",
    "# to be the result of calling regression_parameters appropriately.\n",
    "parameters = regression_parameters(jumps_df)\n",
    "print('r:', parameters.item(0), '; slope:', parameters.item(1), '; intercept:', parameters.item(2))"
   ]
  },
  {
   "cell_type": "markdown",
   "metadata": {},
   "source": [
    "r: 0.8343076972837594 ; slope: 0.09082004246076382 ; intercept: -0.28371358941200886"
   ]
  },
  {
   "cell_type": "markdown",
   "metadata": {},
   "source": [
    "#### Question 4\n",
    "Let's use `parameters` to predict what certain athletes' vertical jump heights would be given their triple jump distances.\n",
    "\n",
    "The world record for the triple jump distance is 18.29 *meters* by Johnathan Edwards. What's our prediction for what Edwards' vertical jump would be?"
   ]
  },
  {
   "cell_type": "code",
   "execution_count": 170,
   "metadata": {},
   "outputs": [
    {
     "name": "stdout",
     "output_type": "stream",
     "text": [
      "Predicted vertical jump distance: 165.826144 centimeters\n"
     ]
    }
   ],
   "source": [
    "triple_record_vert_est = parameters[2]+parameters[1]*1829\n",
    "print(\"Predicted vertical jump distance: {:f} centimeters\".format(triple_record_vert_est))"
   ]
  },
  {
   "cell_type": "markdown",
   "metadata": {},
   "source": [
    "#### Question 5\n",
    "Do you expect this estimate to be accurate within a few centimeters? Why or why not?"
   ]
  },
  {
   "cell_type": "markdown",
   "metadata": {},
   "source": [
    "Not really. Even though the correlation coefficient calculated for the fomula (0.834) is close to 1 indicating that there is a somewhat strong positive linear correlation between vertical and triple jump distances the highest triple jump value recorded in the table is 781 cm or 7.81 meters, which is less than half of the jump by Johnathan Edwards. Thus this estimate of Edwards vertical jump is largely dependent on extrapolated data, which may not be accurate. "
   ]
  },
  {
   "cell_type": "markdown",
   "metadata": {},
   "source": [
    "## 3. Cryptocurrencies (14 points)\n",
    "\n",
    "Imagine you're an investor in December 2017. Cryptocurrencies, online currencies backed by secure software, are becoming extremely valuable, and you want in on the action!\n",
    "\n",
    "The two most valuable crpytocurrencies are Bitcoin (BTC) and Ethereum (ETH). Each one has a dollar price attatched to it at any given moment in time. For example, on December 1st, 2017, one BTC costs $\\$$10859.56 and one ETH costs $\\$$424.64. \n",
    "\n",
    "**You want to predict the price of ETH at some point in time based on the price of BTC.** \n",
    "\n",
    "There is a larger datset on [Kaggle](https://www.kaggle.com/jessevent/all-crypto-currencies/data) from which we obtained two tables called `btc` and `eth`. Each has 5 columns:\n",
    "* `date`, the date\n",
    "* `open`, the value of the currency at the beginning of the day\n",
    "* `close`, the value of the currency at the end of the day\n",
    "* `market`, the market cap or total dollar value invested in the currency\n",
    "* `day`, the number of days since the start of our data"
   ]
  },
  {
   "cell_type": "code",
   "execution_count": 106,
   "metadata": {
    "scrolled": true
   },
   "outputs": [
    {
     "name": "stdout",
     "output_type": "stream",
     "text": [
      "         date    open   close      market  day\n",
      "0  2015-09-29  239.02  236.69  3505090000    1\n",
      "1  2015-09-30  236.64  236.06  3471280000    2\n",
      "2  2015-10-01  236.00  237.55  3462800000    3\n",
      "3  2015-10-02  237.26  237.29  3482190000    4\n",
      "4  2015-10-03  237.20  238.73  3482100000    5\n",
      "5  2015-10-04  238.53  238.26  3502460000    6\n",
      "6  2015-10-05  238.15  240.38  3497740000    7\n",
      "7  2015-10-06  240.36  246.06  3531230000    8\n",
      "8  2015-10-07  246.17  242.97  3617400000    9\n",
      "9  2015-10-08  243.07  242.30  3572730000   10\n"
     ]
    },
    {
     "data": {
      "text/html": [
       "<div>\n",
       "<style scoped>\n",
       "    .dataframe tbody tr th:only-of-type {\n",
       "        vertical-align: middle;\n",
       "    }\n",
       "\n",
       "    .dataframe tbody tr th {\n",
       "        vertical-align: top;\n",
       "    }\n",
       "\n",
       "    .dataframe thead th {\n",
       "        text-align: right;\n",
       "    }\n",
       "</style>\n",
       "<table border=\"1\" class=\"dataframe\">\n",
       "  <thead>\n",
       "    <tr style=\"text-align: right;\">\n",
       "      <th></th>\n",
       "      <th>date</th>\n",
       "      <th>open</th>\n",
       "      <th>close</th>\n",
       "      <th>market</th>\n",
       "      <th>day</th>\n",
       "    </tr>\n",
       "  </thead>\n",
       "  <tbody>\n",
       "    <tr>\n",
       "      <th>825</th>\n",
       "      <td>2018-01-01</td>\n",
       "      <td>14112.2</td>\n",
       "      <td>13657.2</td>\n",
       "      <td>236725000000</td>\n",
       "      <td>826</td>\n",
       "    </tr>\n",
       "    <tr>\n",
       "      <th>826</th>\n",
       "      <td>2018-01-02</td>\n",
       "      <td>13625.0</td>\n",
       "      <td>14982.1</td>\n",
       "      <td>228579000000</td>\n",
       "      <td>827</td>\n",
       "    </tr>\n",
       "    <tr>\n",
       "      <th>827</th>\n",
       "      <td>2018-01-03</td>\n",
       "      <td>14978.2</td>\n",
       "      <td>15201.0</td>\n",
       "      <td>251312000000</td>\n",
       "      <td>828</td>\n",
       "    </tr>\n",
       "    <tr>\n",
       "      <th>828</th>\n",
       "      <td>2018-01-04</td>\n",
       "      <td>15270.7</td>\n",
       "      <td>15599.2</td>\n",
       "      <td>256250000000</td>\n",
       "      <td>829</td>\n",
       "    </tr>\n",
       "    <tr>\n",
       "      <th>829</th>\n",
       "      <td>2018-01-05</td>\n",
       "      <td>15477.2</td>\n",
       "      <td>17429.5</td>\n",
       "      <td>259748000000</td>\n",
       "      <td>830</td>\n",
       "    </tr>\n",
       "    <tr>\n",
       "      <th>830</th>\n",
       "      <td>2018-01-06</td>\n",
       "      <td>17462.1</td>\n",
       "      <td>17527.0</td>\n",
       "      <td>293091000000</td>\n",
       "      <td>831</td>\n",
       "    </tr>\n",
       "    <tr>\n",
       "      <th>831</th>\n",
       "      <td>2018-01-07</td>\n",
       "      <td>17527.3</td>\n",
       "      <td>16477.6</td>\n",
       "      <td>294222000000</td>\n",
       "      <td>832</td>\n",
       "    </tr>\n",
       "    <tr>\n",
       "      <th>832</th>\n",
       "      <td>2018-01-08</td>\n",
       "      <td>16476.2</td>\n",
       "      <td>15170.1</td>\n",
       "      <td>276612000000</td>\n",
       "      <td>833</td>\n",
       "    </tr>\n",
       "    <tr>\n",
       "      <th>833</th>\n",
       "      <td>2018-01-09</td>\n",
       "      <td>15123.7</td>\n",
       "      <td>14595.4</td>\n",
       "      <td>253935000000</td>\n",
       "      <td>834</td>\n",
       "    </tr>\n",
       "    <tr>\n",
       "      <th>834</th>\n",
       "      <td>2018-01-10</td>\n",
       "      <td>14588.5</td>\n",
       "      <td>14973.3</td>\n",
       "      <td>244981000000</td>\n",
       "      <td>835</td>\n",
       "    </tr>\n",
       "  </tbody>\n",
       "</table>\n",
       "</div>"
      ],
      "text/plain": [
       "           date     open    close        market  day\n",
       "825  2018-01-01  14112.2  13657.2  236725000000  826\n",
       "826  2018-01-02  13625.0  14982.1  228579000000  827\n",
       "827  2018-01-03  14978.2  15201.0  251312000000  828\n",
       "828  2018-01-04  15270.7  15599.2  256250000000  829\n",
       "829  2018-01-05  15477.2  17429.5  259748000000  830\n",
       "830  2018-01-06  17462.1  17527.0  293091000000  831\n",
       "831  2018-01-07  17527.3  16477.6  294222000000  832\n",
       "832  2018-01-08  16476.2  15170.1  276612000000  833\n",
       "833  2018-01-09  15123.7  14595.4  253935000000  834\n",
       "834  2018-01-10  14588.5  14973.3  244981000000  835"
      ]
     },
     "execution_count": 106,
     "metadata": {},
     "output_type": "execute_result"
    }
   ],
   "source": [
    "btc_df=pd.read_csv('btc.csv')\n",
    "print(btc_df.head(10))\n",
    "btc_df.tail(10)"
   ]
  },
  {
   "cell_type": "code",
   "execution_count": 80,
   "metadata": {},
   "outputs": [
    {
     "data": {
      "text/html": [
       "<div>\n",
       "<style scoped>\n",
       "    .dataframe tbody tr th:only-of-type {\n",
       "        vertical-align: middle;\n",
       "    }\n",
       "\n",
       "    .dataframe tbody tr th {\n",
       "        vertical-align: top;\n",
       "    }\n",
       "\n",
       "    .dataframe thead th {\n",
       "        text-align: right;\n",
       "    }\n",
       "</style>\n",
       "<table border=\"1\" class=\"dataframe\">\n",
       "  <thead>\n",
       "    <tr style=\"text-align: right;\">\n",
       "      <th></th>\n",
       "      <th>date</th>\n",
       "      <th>open</th>\n",
       "      <th>close</th>\n",
       "      <th>market</th>\n",
       "      <th>day</th>\n",
       "    </tr>\n",
       "  </thead>\n",
       "  <tbody>\n",
       "    <tr>\n",
       "      <th>825</th>\n",
       "      <td>2018-01-01</td>\n",
       "      <td>755.76</td>\n",
       "      <td>772.64</td>\n",
       "      <td>73075800000</td>\n",
       "      <td>826</td>\n",
       "    </tr>\n",
       "    <tr>\n",
       "      <th>826</th>\n",
       "      <td>2018-01-02</td>\n",
       "      <td>772.35</td>\n",
       "      <td>884.44</td>\n",
       "      <td>74695700000</td>\n",
       "      <td>827</td>\n",
       "    </tr>\n",
       "    <tr>\n",
       "      <th>827</th>\n",
       "      <td>2018-01-03</td>\n",
       "      <td>886.00</td>\n",
       "      <td>962.72</td>\n",
       "      <td>85703500000</td>\n",
       "      <td>828</td>\n",
       "    </tr>\n",
       "    <tr>\n",
       "      <th>828</th>\n",
       "      <td>2018-01-04</td>\n",
       "      <td>961.71</td>\n",
       "      <td>980.92</td>\n",
       "      <td>93049400000</td>\n",
       "      <td>829</td>\n",
       "    </tr>\n",
       "    <tr>\n",
       "      <th>829</th>\n",
       "      <td>2018-01-05</td>\n",
       "      <td>975.75</td>\n",
       "      <td>997.72</td>\n",
       "      <td>94423900000</td>\n",
       "      <td>830</td>\n",
       "    </tr>\n",
       "    <tr>\n",
       "      <th>830</th>\n",
       "      <td>2018-01-06</td>\n",
       "      <td>995.15</td>\n",
       "      <td>1041.68</td>\n",
       "      <td>96326500000</td>\n",
       "      <td>831</td>\n",
       "    </tr>\n",
       "    <tr>\n",
       "      <th>831</th>\n",
       "      <td>2018-01-07</td>\n",
       "      <td>1043.01</td>\n",
       "      <td>1153.17</td>\n",
       "      <td>100981000000</td>\n",
       "      <td>832</td>\n",
       "    </tr>\n",
       "    <tr>\n",
       "      <th>832</th>\n",
       "      <td>2018-01-08</td>\n",
       "      <td>1158.26</td>\n",
       "      <td>1148.53</td>\n",
       "      <td>112164000000</td>\n",
       "      <td>833</td>\n",
       "    </tr>\n",
       "    <tr>\n",
       "      <th>833</th>\n",
       "      <td>2018-01-09</td>\n",
       "      <td>1146.00</td>\n",
       "      <td>1299.74</td>\n",
       "      <td>110999000000</td>\n",
       "      <td>834</td>\n",
       "    </tr>\n",
       "    <tr>\n",
       "      <th>834</th>\n",
       "      <td>2018-01-10</td>\n",
       "      <td>1300.34</td>\n",
       "      <td>1255.82</td>\n",
       "      <td>125976000000</td>\n",
       "      <td>835</td>\n",
       "    </tr>\n",
       "  </tbody>\n",
       "</table>\n",
       "</div>"
      ],
      "text/plain": [
       "           date     open    close        market  day\n",
       "825  2018-01-01   755.76   772.64   73075800000  826\n",
       "826  2018-01-02   772.35   884.44   74695700000  827\n",
       "827  2018-01-03   886.00   962.72   85703500000  828\n",
       "828  2018-01-04   961.71   980.92   93049400000  829\n",
       "829  2018-01-05   975.75   997.72   94423900000  830\n",
       "830  2018-01-06   995.15  1041.68   96326500000  831\n",
       "831  2018-01-07  1043.01  1153.17  100981000000  832\n",
       "832  2018-01-08  1158.26  1148.53  112164000000  833\n",
       "833  2018-01-09  1146.00  1299.74  110999000000  834\n",
       "834  2018-01-10  1300.34  1255.82  125976000000  835"
      ]
     },
     "execution_count": 80,
     "metadata": {},
     "output_type": "execute_result"
    }
   ],
   "source": [
    "eth_df=pd.read_csv('eth.csv')\n",
    "eth_df.head(10)\n",
    "eth_df.tail(10)"
   ]
  },
  {
   "cell_type": "markdown",
   "metadata": {},
   "source": [
    "#### Question 1\n",
    "\n",
    "In some of the questions below, we will need to pair the daily 'btc' and 'eth' price data. A simple way is to use the corresponding columns in the two data frames (assuming that they correspond to the same dates). Verify that the rows in the two data frames correspond to the same dates. You can see this for the first 10 observations by looking at the date columns above.\n",
    "\n"
   ]
  },
  {
   "cell_type": "code",
   "execution_count": 85,
   "metadata": {},
   "outputs": [
    {
     "name": "stdout",
     "output_type": "stream",
     "text": [
      "Dates look good!\n"
     ]
    }
   ],
   "source": [
    "k = 'Dates look good!'\n",
    "for i in range(0,835):\n",
    "    if btc_df['date'][i]!=eth_df['date'][i]:\n",
    "        k = 'Dates do not line up!'\n",
    "print(k)"
   ]
  },
  {
   "cell_type": "markdown",
   "metadata": {},
   "source": [
    "\n",
    "#### Question 2\n",
    "\n",
    "In the cell below, make one or two plots to investigate the opening prices of BTC and ETH as a function of time. Then comment on whether you think the values are correlated."
   ]
  },
  {
   "cell_type": "code",
   "execution_count": 147,
   "metadata": {},
   "outputs": [
    {
     "data": {
      "text/plain": [
       "Text(0, 0.5, 'Open Price in $')"
      ]
     },
     "execution_count": 147,
     "metadata": {},
     "output_type": "execute_result"
    },
    {
     "data": {
      "image/png": "[encoded data removed]",
      "text/plain": [
       "<Figure size 432x288 with 1 Axes>"
      ]
     },
     "metadata": {},
     "output_type": "display_data"
    }
   ],
   "source": [
    "btc_df.plot('day','open', label = 'BTC', linewidth = 1.5)\n",
    "plt.plot(eth_df['day'],eth_df['open'], label = 'ETH', linewidth = 1.5)\n",
    "plt.title('Bitcoin & Etherium Open Prices')\n",
    "plt.legend()\n",
    "plt.xlabel('Days since September 28th, 2015')\n",
    "plt.ylabel('Open Price in $')"
   ]
  },
  {
   "cell_type": "markdown",
   "metadata": {},
   "source": [
    "The daily opening values of Bitcoin and Etherium do not appear to be correlated. The graph for Bitcoin is close to exponential in nature past the 400 day mark, while the graph for Etherium displays much less rapid growth. "
   ]
  },
  {
   "cell_type": "markdown",
   "metadata": {},
   "source": [
    "#### Question 3\n",
    "\n",
    "Now, calculate the correlation coefficient between the opening prices of BTC and ETH."
   ]
  },
  {
   "cell_type": "code",
   "execution_count": 152,
   "metadata": {},
   "outputs": [
    {
     "data": {
      "text/plain": [
       "0.9250325764148283"
      ]
     },
     "execution_count": 152,
     "metadata": {},
     "output_type": "execute_result"
    }
   ],
   "source": [
    "correlation(btc_df['open'],eth_df['open'])"
   ]
  },
  {
   "cell_type": "markdown",
   "metadata": {},
   "source": [
    "#### Question 4\n",
    "Regardless of your conclusions above, write a function `eth_predictor` which takes an opening BTC price and predicts the price of ETH. Again, it will be helpful to use the function `regression_parameters` that you defined earlier in this homework."
   ]
  },
  {
   "cell_type": "code",
   "execution_count": 175,
   "metadata": {},
   "outputs": [],
   "source": [
    "crypair = pd.DataFrame()\n",
    "crypair['btc'] = btc_df['open']\n",
    "crypair['eth'] = eth_df['open']\n",
    "\n",
    "def eth_predictor(btc_price):\n",
    "    parameters = regression_parameters(crypair)\n",
    "    slope = parameters[1]\n",
    "    intercept = parameters[2]\n",
    "    return intercept + slope*btc_price\n"
   ]
  },
  {
   "cell_type": "markdown",
   "metadata": {},
   "source": [
    "#### Question 5\n",
    "\n",
    "Now, using the `eth_predictor` you defined in the previous question, make a scatter plot with BTC prices along the x-axis and both real and predicted ETH prices along the y-axis. The color of the dots for the real ETH prices should be different from the color for the predicted ETH prices.\n",
    "\n",
    "Hints:\n",
    "* An example of such a scatter plot is generated <a href= \"https://inferentialthinking.com/chapters/15/2/Regression_Line.html\"> here. </a>\n",
    "* Think about the table or data frame that must be produced and used to generate this scatter plot. What data should the columns represent? Based on the data that you need, how many columns should be present? Also, what should each row represent? Constructing the table or data frame will be the main part of this question; once you have this, generating the scatter plot should be straightforward as usual."
   ]
  },
  {
   "cell_type": "code",
   "execution_count": 176,
   "metadata": {},
   "outputs": [
    {
     "data": {
      "text/plain": [
       "Text(0.5, 1.0, 'Estimated BTC VS ETH and Actual BTC VS ETH')"
      ]
     },
     "execution_count": 176,
     "metadata": {},
     "output_type": "execute_result"
    },
    {
     "data": {
      "image/png": "[encoded data removed]",
      "text/plain": [
       "<Figure size 432x288 with 1 Axes>"
      ]
     },
     "metadata": {},
     "output_type": "display_data"
    }
   ],
   "source": [
    "crypair['predicted open'] = eth_predictor(crypair['btc'])\n",
    "crypair.plot.scatter('btc','eth', label = 'Actual ETH')\n",
    "plt.scatter(crypair['btc'],crypair['predicted open'], color = 'green', label = 'Predicted ETH')\n",
    "plt.legend()\n",
    "plt.xlabel('Bitcoin in $')\n",
    "plt.ylabel('Etherium in $')\n",
    "plt.title('Estimated BTC VS ETH and Actual BTC VS ETH')"
   ]
  },
  {
   "cell_type": "markdown",
   "metadata": {},
   "source": [
    "#### Question 6\n",
    "For what values of BTC should you be more confident of your predictions? Considering the shape of the scatter plot of the true data, is the model we used reasonable? If so, what features make this model reasonable? If not, what features make it unreasonable?"
   ]
  },
  {
   "cell_type": "markdown",
   "metadata": {},
   "source": [
    "For small values of opening Bitcoin prices I would be more confident in the predictions because the values are closer to the predicted values. For larger values of Bitcoin prices, the actual values of Etherium are further from the predicted values. The model we used does not seem reasonable because we predicted a linear relationship between Bitcoin and Etherium opening prices in out model, but for high values of Bitcoin the relationship is clearly not linear. "
   ]
  },
  {
   "cell_type": "markdown",
   "metadata": {},
   "source": [
    "#### Question 7\n",
    "\n",
    "Now suppose you want to go the other way: to predict a BTC  price given an ETH price. What would the regression parameters of this linear model be? How do they compare to the regression parameters from the model where you were predicting ETH price given a BTC price? Set `regression_changes` to an array of 3 elements, with each element corresponding to whether or not the corresponding item returned by `regression_parameters` changes when switching BTC and ETH as $x$ and $y$. For example, if r changes, the slope changes, but the intercept wouldn't change, the array would be `[True, True, False]`"
   ]
  },
  {
   "cell_type": "code",
   "execution_count": 185,
   "metadata": {},
   "outputs": [
    {
     "name": "stdout",
     "output_type": "stream",
     "text": [
      "[0.92503258 0.05037151 2.13844063]\n",
      "[  0.92503258  16.98748337 282.30888737]\n"
     ]
    },
    {
     "data": {
      "text/plain": [
       "[False, True, True]"
      ]
     },
     "execution_count": 185,
     "metadata": {},
     "output_type": "execute_result"
    }
   ],
   "source": [
    "param = regression_parameters(crypair)\n",
    "print(param)\n",
    "switch = pd.DataFrame()\n",
    "switch['eth'] = eth_df['open']\n",
    "switch['btc'] = btc_df['open']\n",
    "switch_param = regression_parameters(switch)\n",
    "print(switch_param)\n",
    "regression_changes = [0,1,4]\n",
    "i = 0\n",
    "for i in range(3):\n",
    "    regression_changes[i] = param[i]!=switch_param[i]\n",
    "regression_changes"
   ]
  },
  {
   "cell_type": "markdown",
   "metadata": {},
   "source": [
    "## 4. k nearest neighbors algorithm (15 points)\n",
    "\n",
    "In this exercise we will construct a prediction algorithm based on the k nearest neighbors (for example, k=5). It is similar to the one we constructed in class - the difference is that here we use a fixed number of neighbors (in class we used a fixed window).\n",
    "\n",
    "We will illustrate it on simulated data.\n",
    "\n",
    "The following cells generate two datasets of sample size n=100 (similar to plots we showed in the notebook for Lecture 1). The two datasets show a non-linear trend, and so linear models are not useful for prediction."
   ]
  },
  {
   "cell_type": "code",
   "execution_count": 186,
   "metadata": {},
   "outputs": [
    {
     "data": {
      "image/png": "[encoded data removed]",
      "text/plain": [
       "<Figure size 432x288 with 1 Axes>"
      ]
     },
     "metadata": {},
     "output_type": "display_data"
    }
   ],
   "source": [
    "# run this cell\n",
    "# the first simulated data set\n",
    "x=np.random.uniform(0,1,100)*2-1\n",
    "\n",
    "sim1_df = pd.DataFrame()\n",
    "sim1_df['X'] = x\n",
    "sim1_df['Y'] = -x**2+np.random.normal(0, 0.05, 100)\n",
    "\n",
    "plt.scatter(sim1_df.X, sim1_df.Y, s=10,c='darkblue')\n",
    "plt.xlabel(\"X\")\n",
    "plt.ylabel(\"Y\");"
   ]
  },
  {
   "cell_type": "code",
   "execution_count": 187,
   "metadata": {},
   "outputs": [
    {
     "data": {
      "image/png": "[encoded data removed]",
      "text/plain": [
       "<Figure size 432x288 with 1 Axes>"
      ]
     },
     "metadata": {},
     "output_type": "display_data"
    }
   ],
   "source": [
    "# run this cell\n",
    "# the second simulated data set\n",
    "x=np.random.uniform(0,1,100)*2-1\n",
    "\n",
    "sim2_df = pd.DataFrame()\n",
    "sim2_df['X'] = x\n",
    "sim2_df['Y'] = -x**2+np.random.normal(0, 0.4, 100)\n",
    "\n",
    "plt.scatter(sim2_df.X, sim2_df.Y, s=10,c='darkblue')\n",
    "plt.xlabel(\"X\")\n",
    "plt.ylabel(\"Y\");"
   ]
  },
  {
   "cell_type": "markdown",
   "metadata": {},
   "source": [
    "#### Question 1\n",
    "\n",
    "Similarly to what we did in Lecture 1 demos, write a function that takes as input: (i) the numbers of neighbors used for prediction (let's call it `k`); (ii)  a data frame (`df`); (iii) a string that is the label of the predictor column (let's call it `X`); (iv)  a string that is the label of the column of interest (variable of interest, let's call it `Y`); and (v)  a float (the value for which we want a prediction, call it `newx`). Look at the cells below for a better understanding of the input for this function.\n",
    "\n",
    "The function should return a float that is your prediction according to these rules:\n",
    "- find the k closest rows in `df` to `newx`(close according to the values in the `X` labeled column)\n",
    "- the prediction is the average of the `Y` values in these k rows.\n"
   ]
  },
  {
   "cell_type": "code",
   "execution_count": 274,
   "metadata": {},
   "outputs": [],
   "source": [
    "# use this cell to define your function\n",
    "\n",
    "def knn(k, df, label1, label2, newx):\n",
    "    df = df.sort_values(by= label1)\n",
    "    x_values = list(df[label1])\n",
    "    y_values = list(df[label2])\n",
    "    index = 0\n",
    "    \n",
    "    for i in range(len(x_values)):\n",
    "        if newx<=x_values[i]:\n",
    "            index = i\n",
    "            break\n",
    "\n",
    "    sum = y_values[index]\n",
    "    for i in range(k-1):\n",
    "        if index == len(x_values)-1:\n",
    "            sum+=y_values[index]\n",
    "        elif x_values[index+1]<=x_values[index-1]:\n",
    "            sum+=y_values[index+1]\n",
    "            x_values.pop(index+1)\n",
    "            y_values.pop(index+1)\n",
    "        else:\n",
    "            sum+=y_values[index-1]\n",
    "            x_values.pop(index-1)\n",
    "            y_values.pop(index-1)\n",
    "        i+=1\n",
    "    return sum/(k)"
   ]
  },
  {
   "cell_type": "code",
   "execution_count": 275,
   "metadata": {},
   "outputs": [
    {
     "data": {
      "text/plain": [
       "[0.0031621451832658893, 0.15150481036836497]"
      ]
     },
     "execution_count": 275,
     "metadata": {},
     "output_type": "execute_result"
    }
   ],
   "source": [
    "# run this cell to get predictions in the two datasets\n",
    "\n",
    "[knn(5, sim1_df,'X','Y',0.1), knn(11, sim2_df,'X','Y',-0.3)]"
   ]
  },
  {
   "cell_type": "markdown",
   "metadata": {},
   "source": [
    "#### Question 2\n",
    "\n",
    "For the first simulated dataset, `sim1_df`, add a column called `Prediction5` that contains the predictions based on the function you wrote with k=5 (the predictions are for the values in the `X` column). \n",
    "\n",
    "Construct a plot that starts with the scatter plot we show above for `sim1_df` to which you add the points corresponding to the predictions (use a different color for these points). Please note that we constructed a similar plot for the height data in class.\n",
    "\n",
    "Repeat this for the second simulated dataset."
   ]
  },
  {
   "cell_type": "code",
   "execution_count": 288,
   "metadata": {},
   "outputs": [
    {
     "data": {
      "text/plain": [
       "Text(0.5, 1.0, 'Sim1 Actuals vs Predictions')"
      ]
     },
     "execution_count": 288,
     "metadata": {},
     "output_type": "execute_result"
    },
    {
     "data": {
      "image/png": "[encoded data removed]",
      "text/plain": [
       "<Figure size 432x288 with 1 Axes>"
      ]
     },
     "metadata": {},
     "output_type": "display_data"
    }
   ],
   "source": [
    "# code here\n",
    "sim1_df['Prediction5'] = np.zeros(len(sim1_df['X']))\n",
    "for i in range(len(sim1_df['Prediction5'])):\n",
    "    sim1_df['Prediction5'][i] = knn(5,sim1_df,'X','Y',sim1_df['X'][i])\n",
    "    j+=1\n",
    "\n",
    "plt.scatter(sim1_df.X, sim1_df.Y, s=10,c='darkblue', label = 'Actuals')\n",
    "plt.xlabel(\"X\")\n",
    "plt.ylabel(\"Y\")\n",
    "plt.scatter(sim1_df.X,sim1_df.Prediction5, s=10, c='red',label='Predictions')\n",
    "plt.legend()\n",
    "plt.title('Sim1 Actuals vs Predictions')"
   ]
  },
  {
   "cell_type": "code",
   "execution_count": 287,
   "metadata": {},
   "outputs": [
    {
     "data": {
      "text/plain": [
       "Text(0.5, 1.0, 'Sim2 Actuals vs Predictions')"
      ]
     },
     "execution_count": 287,
     "metadata": {},
     "output_type": "execute_result"
    },
    {
     "data": {
      "image/png": "[encoded data removed]",
      "text/plain": [
       "<Figure size 432x288 with 1 Axes>"
      ]
     },
     "metadata": {},
     "output_type": "display_data"
    }
   ],
   "source": [
    "sim2_df['Prediction5'] = np.zeros(len(sim2_df['X']))\n",
    "for i in range(len(sim2_df['Prediction5'])):\n",
    "    sim2_df['Prediction5'][i] = knn(5,sim2_df,'X','Y',sim2_df['X'][i])\n",
    "    j+=1\n",
    "\n",
    "plt.scatter(sim2_df.X, sim2_df.Y, s=10,c='darkblue', label = 'Actuals')\n",
    "plt.xlabel(\"X\")\n",
    "plt.ylabel(\"Y\")\n",
    "plt.scatter(sim2_df.X,sim2_df.Prediction5, s=10, c='red',label='Predictions')\n",
    "plt.legend()\n",
    "plt.title('Sim2 Actuals vs Predictions')"
   ]
  },
  {
   "cell_type": "markdown",
   "metadata": {},
   "source": [
    "#### Question 3\n",
    "\n",
    "Calculate the following measure of dependence for both datasets, `sim1_df` and `sim2_df`: \n",
    "$$1-\\frac{sd(e)}{sd(Y)}$$\n",
    "where:\n",
    "- the prediction errors, $e$, are calcuated as the difference between the true values (column `Y`) and the predicted values (column `Prediction5`) \n",
    "- $sd(e)$ is the sample standard deviation of these prediction errors\n",
    "- $sd(Y)$ is the sample standard deviation of the values in `Y`.\n",
    "\n",
    "Write a short justification for this measure of dependence. Hint: when is this measure close to 1 and when is it close to 0? What are the correlations between X and Y in the two datasets?"
   ]
  },
  {
   "cell_type": "code",
   "execution_count": 296,
   "metadata": {},
   "outputs": [
    {
     "name": "stdout",
     "output_type": "stream",
     "text": [
      "The measure of dependence for sim1 is: 0.8648566754311524\n",
      "The measure of dependence for sim2 is: 0.36728066150472305\n"
     ]
    }
   ],
   "source": [
    "# calculate \n",
    "#sim1:\n",
    "dif1 = sim1_df['Y']- sim1_df['Prediction5']\n",
    "out = 1-(np.std(dif1)/np.std(sim1_df['Y']))\n",
    "print('The measure of dependence for sim1 is:',out)\n",
    "\n",
    "#sim2:\n",
    "dif2 = sim2_df['Y']- sim2_df['Prediction5']\n",
    "out = 1-(np.std(dif2)/np.std(sim2_df['Y']))\n",
    "print('The measure of dependence for sim2 is:',out)"
   ]
  },
  {
   "cell_type": "markdown",
   "metadata": {},
   "source": [
    "*Answer here:*  \n",
    "This measure of indenpendence is close to 1 when the standard deviation of the predicted values is much smaller than the standard deviation of the actual values. It is close to 0 when the standard deviations of the predicted values and the standard deviations of the actual values are close to eachother. This works as a measure of dependence because if the ratio of the standard deviations is closer to 0 it indicates that the predicted values have a similar spread to the actual values. "
   ]
  }
 ],
 "metadata": {
  "kernelspec": {
   "display_name": "Python 3 (ipykernel)",
   "language": "python",
   "name": "python3"
  },
  "language_info": {
   "codemirror_mode": {
    "name": "ipython",
    "version": 3
   },
   "file_extension": ".py",
   "mimetype": "text/x-python",
   "name": "python",
   "nbconvert_exporter": "python",
   "pygments_lexer": "ipython3",
   "version": "3.9.12"
  }
 },
 "nbformat": 4,
 "nbformat_minor": 2
}
