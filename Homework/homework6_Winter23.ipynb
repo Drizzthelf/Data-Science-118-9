{
 "cells": [
  {
   "cell_type": "markdown",
   "metadata": {},
   "source": [
    "# Homework 6: Clustering (50 points)\n",
    "\n",
    "\n",
    "Please complete this notebook by filling in the cells provided. Before you begin, execute the following cell to load the needed functions. Each time you start your server, you will need to execute this cell again to load them.  \n",
    "\n",
    "Homework 6 is due on **Thursday, February 16 at 9:00am**. Late work will not be accepted.  "
   ]
  },
  {
   "cell_type": "code",
   "execution_count": 1,
   "metadata": {},
   "outputs": [],
   "source": [
    "# Don't change this cell; just run it. \n",
    "import pandas as pd\n",
    "import numpy as np\n",
    "import matplotlib\n",
    "%matplotlib inline\n",
    "import matplotlib.pyplot as plots\n",
    "plots.style.use('fivethirtyeight')"
   ]
  },
  {
   "cell_type": "markdown",
   "metadata": {},
   "source": [
    "## 1. Clustering: Crime Rates (20 points) \n",
    "\n",
    "The data below contains statistics, in arrests per 100,000 residents for assault, murder, and rape in each of the 50 US states in 1973. Also given is the percent of the population living in urban area:\n",
    "\n",
    "-    Murder: \t \tMurder arrests (per 100,000)\n",
    "- \tAssault: \t \tAssault arrests (per 100,000)\n",
    "- \tUrbanPop: \t \tPercent urban population\n",
    "- \tRape: \t \tRape arrests (per 100,000) \n",
    "\n"
   ]
  },
  {
   "cell_type": "code",
   "execution_count": 8,
   "metadata": {
    "scrolled": true
   },
   "outputs": [
    {
     "name": "stdout",
     "output_type": "stream",
     "text": [
      "(50, 5)\n"
     ]
    },
    {
     "data": {
      "text/html": [
       "<div>\n",
       "<style scoped>\n",
       "    .dataframe tbody tr th:only-of-type {\n",
       "        vertical-align: middle;\n",
       "    }\n",
       "\n",
       "    .dataframe tbody tr th {\n",
       "        vertical-align: top;\n",
       "    }\n",
       "\n",
       "    .dataframe thead th {\n",
       "        text-align: right;\n",
       "    }\n",
       "</style>\n",
       "<table border=\"1\" class=\"dataframe\">\n",
       "  <thead>\n",
       "    <tr style=\"text-align: right;\">\n",
       "      <th></th>\n",
       "      <th>State</th>\n",
       "      <th>Murder</th>\n",
       "      <th>Assault</th>\n",
       "      <th>UrbanPop</th>\n",
       "      <th>Rape</th>\n",
       "    </tr>\n",
       "  </thead>\n",
       "  <tbody>\n",
       "    <tr>\n",
       "      <th>0</th>\n",
       "      <td>Alabama</td>\n",
       "      <td>13.2</td>\n",
       "      <td>236</td>\n",
       "      <td>58</td>\n",
       "      <td>21.2</td>\n",
       "    </tr>\n",
       "    <tr>\n",
       "      <th>1</th>\n",
       "      <td>Alaska</td>\n",
       "      <td>10.0</td>\n",
       "      <td>263</td>\n",
       "      <td>48</td>\n",
       "      <td>44.5</td>\n",
       "    </tr>\n",
       "    <tr>\n",
       "      <th>2</th>\n",
       "      <td>Arizona</td>\n",
       "      <td>8.1</td>\n",
       "      <td>294</td>\n",
       "      <td>80</td>\n",
       "      <td>31.0</td>\n",
       "    </tr>\n",
       "    <tr>\n",
       "      <th>3</th>\n",
       "      <td>Arkansas</td>\n",
       "      <td>8.8</td>\n",
       "      <td>190</td>\n",
       "      <td>50</td>\n",
       "      <td>19.5</td>\n",
       "    </tr>\n",
       "    <tr>\n",
       "      <th>4</th>\n",
       "      <td>California</td>\n",
       "      <td>9.0</td>\n",
       "      <td>276</td>\n",
       "      <td>91</td>\n",
       "      <td>40.6</td>\n",
       "    </tr>\n",
       "    <tr>\n",
       "      <th>5</th>\n",
       "      <td>Colorado</td>\n",
       "      <td>7.9</td>\n",
       "      <td>204</td>\n",
       "      <td>78</td>\n",
       "      <td>38.7</td>\n",
       "    </tr>\n",
       "    <tr>\n",
       "      <th>6</th>\n",
       "      <td>Connecticut</td>\n",
       "      <td>3.3</td>\n",
       "      <td>110</td>\n",
       "      <td>77</td>\n",
       "      <td>11.1</td>\n",
       "    </tr>\n",
       "    <tr>\n",
       "      <th>7</th>\n",
       "      <td>Delaware</td>\n",
       "      <td>5.9</td>\n",
       "      <td>238</td>\n",
       "      <td>72</td>\n",
       "      <td>15.8</td>\n",
       "    </tr>\n",
       "    <tr>\n",
       "      <th>8</th>\n",
       "      <td>Florida</td>\n",
       "      <td>15.4</td>\n",
       "      <td>335</td>\n",
       "      <td>80</td>\n",
       "      <td>31.9</td>\n",
       "    </tr>\n",
       "    <tr>\n",
       "      <th>9</th>\n",
       "      <td>Georgia</td>\n",
       "      <td>17.4</td>\n",
       "      <td>211</td>\n",
       "      <td>60</td>\n",
       "      <td>25.8</td>\n",
       "    </tr>\n",
       "  </tbody>\n",
       "</table>\n",
       "</div>"
      ],
      "text/plain": [
       "         State  Murder  Assault  UrbanPop  Rape\n",
       "0      Alabama    13.2      236        58  21.2\n",
       "1       Alaska    10.0      263        48  44.5\n",
       "2      Arizona     8.1      294        80  31.0\n",
       "3     Arkansas     8.8      190        50  19.5\n",
       "4   California     9.0      276        91  40.6\n",
       "5     Colorado     7.9      204        78  38.7\n",
       "6  Connecticut     3.3      110        77  11.1\n",
       "7     Delaware     5.9      238        72  15.8\n",
       "8      Florida    15.4      335        80  31.9\n",
       "9      Georgia    17.4      211        60  25.8"
      ]
     },
     "execution_count": 8,
     "metadata": {},
     "output_type": "execute_result"
    }
   ],
   "source": [
    "# this commands loads the data into a data frame\n",
    "crime_df=pd.read_csv(\"crime_rates.csv\")\n",
    "print(np.shape(crime_df))\n",
    "crime_df.head(10)"
   ]
  },
  {
   "cell_type": "code",
   "execution_count": 11,
   "metadata": {},
   "outputs": [
    {
     "data": {
      "text/html": [
       "<div>\n",
       "<style scoped>\n",
       "    .dataframe tbody tr th:only-of-type {\n",
       "        vertical-align: middle;\n",
       "    }\n",
       "\n",
       "    .dataframe tbody tr th {\n",
       "        vertical-align: top;\n",
       "    }\n",
       "\n",
       "    .dataframe thead th {\n",
       "        text-align: right;\n",
       "    }\n",
       "</style>\n",
       "<table border=\"1\" class=\"dataframe\">\n",
       "  <thead>\n",
       "    <tr style=\"text-align: right;\">\n",
       "      <th></th>\n",
       "      <th>Murder</th>\n",
       "      <th>Assault</th>\n",
       "      <th>UrbanPop</th>\n",
       "      <th>Rape</th>\n",
       "    </tr>\n",
       "    <tr>\n",
       "      <th>State</th>\n",
       "      <th></th>\n",
       "      <th></th>\n",
       "      <th></th>\n",
       "      <th></th>\n",
       "    </tr>\n",
       "  </thead>\n",
       "  <tbody>\n",
       "    <tr>\n",
       "      <th>Alabama</th>\n",
       "      <td>13.2</td>\n",
       "      <td>236</td>\n",
       "      <td>58</td>\n",
       "      <td>21.2</td>\n",
       "    </tr>\n",
       "    <tr>\n",
       "      <th>Alaska</th>\n",
       "      <td>10.0</td>\n",
       "      <td>263</td>\n",
       "      <td>48</td>\n",
       "      <td>44.5</td>\n",
       "    </tr>\n",
       "    <tr>\n",
       "      <th>Arizona</th>\n",
       "      <td>8.1</td>\n",
       "      <td>294</td>\n",
       "      <td>80</td>\n",
       "      <td>31.0</td>\n",
       "    </tr>\n",
       "    <tr>\n",
       "      <th>Arkansas</th>\n",
       "      <td>8.8</td>\n",
       "      <td>190</td>\n",
       "      <td>50</td>\n",
       "      <td>19.5</td>\n",
       "    </tr>\n",
       "    <tr>\n",
       "      <th>California</th>\n",
       "      <td>9.0</td>\n",
       "      <td>276</td>\n",
       "      <td>91</td>\n",
       "      <td>40.6</td>\n",
       "    </tr>\n",
       "  </tbody>\n",
       "</table>\n",
       "</div>"
      ],
      "text/plain": [
       "            Murder  Assault  UrbanPop  Rape\n",
       "State                                      \n",
       "Alabama       13.2      236        58  21.2\n",
       "Alaska        10.0      263        48  44.5\n",
       "Arizona        8.1      294        80  31.0\n",
       "Arkansas       8.8      190        50  19.5\n",
       "California     9.0      276        91  40.6"
      ]
     },
     "execution_count": 11,
     "metadata": {},
     "output_type": "execute_result"
    }
   ],
   "source": [
    "by_state = crime_df.groupby('State').sum()\n",
    "by_state.head()"
   ]
  },
  {
   "cell_type": "markdown",
   "metadata": {},
   "source": [
    "#### Question 1.1 ( Complete linkage, 5 points)\n",
    "\n",
    "Using the original data and hierarchical clustering with complete linkage and Euclidean distance, cluster the states. Cut the dendogram at a height that results in three distinct clusters. Which states belong to which clusters?"
   ]
  },
  {
   "cell_type": "code",
   "execution_count": 6,
   "metadata": {},
   "outputs": [],
   "source": [
    "from scipy.cluster.hierarchy import dendrogram, linkage, fcluster"
   ]
  },
  {
   "cell_type": "code",
   "execution_count": 29,
   "metadata": {
    "scrolled": true
   },
   "outputs": [
    {
     "data": {
      "image/png": "[encoded data removed]",
      "text/plain": [
       "<Figure size 720x504 with 1 Axes>"
      ]
     },
     "metadata": {},
     "output_type": "display_data"
    }
   ],
   "source": [
    "clust1 = linkage(by_state, 'complete')\n",
    "plots.figure(figsize=(10, 7))  \n",
    "dendrogram(clust1,  \n",
    "            orientation='top',\n",
    "            labels=list(crime_df['State']),\n",
    "            distance_sort='descending')\n",
    "plots.axhline(y = 120, color = 'green', linestyle = '-')\n",
    "plots.show()  "
   ]
  },
  {
   "cell_type": "code",
   "execution_count": 22,
   "metadata": {},
   "outputs": [
    {
     "data": {
      "text/plain": [
       "array([[ 14.        ,  28.        ,   2.29128785,   2.        ],\n",
       "       [ 16.        ,  25.        ,   3.8340579 ,   2.        ],\n",
       "       [ 13.        ,  15.        ,   3.92937654,   2.        ],\n",
       "       [ 12.        ,  31.        ,   6.23698645,   2.        ],\n",
       "       [ 34.        ,  43.        ,   6.63777071,   2.        ],\n",
       "       [ 35.        ,  45.        ,   7.35527022,   2.        ],\n",
       "       [  6.        ,  37.        ,   8.0274529 ,   2.        ],\n",
       "       [ 18.        ,  40.        ,   8.53756406,   2.        ],\n",
       "       [ 48.        ,  50.        ,  10.86001842,   3.        ],\n",
       "       [ 20.        ,  29.        ,  11.45643924,   2.        ],\n",
       "       [ 36.        ,  55.        ,  12.42497485,   3.        ],\n",
       "       [  3.        ,  41.        ,  12.61427762,   2.        ],\n",
       "       [ 47.        ,  57.        ,  12.77536692,   3.        ],\n",
       "       [ 33.        ,  44.        ,  13.04492238,   2.        ],\n",
       "       [ 21.        ,  27.        ,  13.29736816,   2.        ],\n",
       "       [ 26.        ,  51.        ,  13.34915728,   3.        ],\n",
       "       [  2.        ,  30.        ,  13.8960426 ,   2.        ],\n",
       "       [  5.        ,  42.        ,  14.50103445,   2.        ],\n",
       "       [ 11.        ,  52.        ,  15.40779024,   3.        ],\n",
       "       [  0.        ,  17.        ,  15.4544492 ,   2.        ],\n",
       "       [ 49.        ,  60.        ,  15.63009917,   4.        ],\n",
       "       [ 19.        ,  66.        ,  15.89024858,   3.        ],\n",
       "       [  7.        ,  69.        ,  16.97674881,   3.        ],\n",
       "       [ 54.        ,  56.        ,  18.26499384,   4.        ],\n",
       "       [ 22.        ,  58.        ,  19.43759244,   4.        ],\n",
       "       [ 65.        ,  68.        ,  19.9042709 ,   6.        ],\n",
       "       [ 23.        ,  39.        ,  21.16719159,   2.        ],\n",
       "       [ 53.        ,  64.        ,  22.36604569,   4.        ],\n",
       "       [ 46.        ,  59.        ,  22.76664226,   3.        ],\n",
       "       [ 24.        ,  61.        ,  24.89437688,   3.        ],\n",
       "       [  9.        ,  67.        ,  25.09302692,   3.        ],\n",
       "       [  1.        ,  76.        ,  28.6351183 ,   3.        ],\n",
       "       [ 70.        ,  78.        ,  29.25064102,   7.        ],\n",
       "       [ 73.        ,  75.        ,  31.47713456,  10.        ],\n",
       "       [ 10.        ,  74.        ,  31.6204048 ,   5.        ],\n",
       "       [  4.        ,  77.        ,  32.71880193,   5.        ],\n",
       "       [ 79.        ,  80.        ,  36.73486083,   6.        ],\n",
       "       [ 38.        ,  82.        ,  36.84793074,   8.        ],\n",
       "       [  8.        ,  32.        ,  38.52791196,   2.        ],\n",
       "       [ 62.        ,  63.        ,  41.48795006,   5.        ],\n",
       "       [ 72.        ,  81.        ,  48.72514751,   6.        ],\n",
       "       [ 71.        ,  85.        ,  53.59337646,   8.        ],\n",
       "       [ 84.        ,  89.        ,  57.27102234,  10.        ],\n",
       "       [ 90.        ,  91.        ,  64.99361507,  14.        ],\n",
       "       [ 86.        ,  87.        ,  68.76227163,  14.        ],\n",
       "       [ 83.        ,  92.        ,  87.32634196,  20.        ],\n",
       "       [ 88.        ,  93.        , 102.86155744,  16.        ],\n",
       "       [ 94.        ,  95.        , 168.61141717,  34.        ],\n",
       "       [ 96.        ,  97.        , 293.62275116,  50.        ]])"
      ]
     },
     "execution_count": 22,
     "metadata": {},
     "output_type": "execute_result"
    }
   ],
   "source": [
    "clust1"
   ]
  },
  {
   "cell_type": "markdown",
   "metadata": {},
   "source": [
    "The states in each cluster can be shown in the x-axis of the dendrogram. The clusters are the right branch of the red lines, the left branch of red, and the yellow branch. "
   ]
  },
  {
   "cell_type": "markdown",
   "metadata": {},
   "source": [
    "#### Question 1.2 (Standard units, 5 points)\n",
    "\n",
    "Using hierarchical clustering with complete linkage and Euclidean distance, cluster the states **after standardizing the four variables.** What effect does standardization have on the clustering obtained? Should the variables be standardized before the clustering? Justify your answer.\n"
   ]
  },
  {
   "cell_type": "code",
   "execution_count": 28,
   "metadata": {},
   "outputs": [
    {
     "data": {
      "text/html": [
       "<div>\n",
       "<style scoped>\n",
       "    .dataframe tbody tr th:only-of-type {\n",
       "        vertical-align: middle;\n",
       "    }\n",
       "\n",
       "    .dataframe tbody tr th {\n",
       "        vertical-align: top;\n",
       "    }\n",
       "\n",
       "    .dataframe thead th {\n",
       "        text-align: right;\n",
       "    }\n",
       "</style>\n",
       "<table border=\"1\" class=\"dataframe\">\n",
       "  <thead>\n",
       "    <tr style=\"text-align: right;\">\n",
       "      <th></th>\n",
       "      <th>State</th>\n",
       "      <th>Murder</th>\n",
       "      <th>Assault</th>\n",
       "      <th>UrbanPop</th>\n",
       "      <th>Rape</th>\n",
       "    </tr>\n",
       "  </thead>\n",
       "  <tbody>\n",
       "    <tr>\n",
       "      <th>0</th>\n",
       "      <td>Alabama</td>\n",
       "      <td>1.242564</td>\n",
       "      <td>0.782839</td>\n",
       "      <td>-0.520907</td>\n",
       "      <td>-0.003416</td>\n",
       "    </tr>\n",
       "    <tr>\n",
       "      <th>1</th>\n",
       "      <td>Alaska</td>\n",
       "      <td>0.507862</td>\n",
       "      <td>1.106823</td>\n",
       "      <td>-1.211764</td>\n",
       "      <td>2.484203</td>\n",
       "    </tr>\n",
       "    <tr>\n",
       "      <th>2</th>\n",
       "      <td>Arizona</td>\n",
       "      <td>0.071633</td>\n",
       "      <td>1.478803</td>\n",
       "      <td>0.998980</td>\n",
       "      <td>1.042878</td>\n",
       "    </tr>\n",
       "    <tr>\n",
       "      <th>3</th>\n",
       "      <td>Arkansas</td>\n",
       "      <td>0.232349</td>\n",
       "      <td>0.230868</td>\n",
       "      <td>-1.073593</td>\n",
       "      <td>-0.184917</td>\n",
       "    </tr>\n",
       "    <tr>\n",
       "      <th>4</th>\n",
       "      <td>California</td>\n",
       "      <td>0.278268</td>\n",
       "      <td>1.262814</td>\n",
       "      <td>1.758923</td>\n",
       "      <td>2.067820</td>\n",
       "    </tr>\n",
       "  </tbody>\n",
       "</table>\n",
       "</div>"
      ],
      "text/plain": [
       "        State    Murder   Assault  UrbanPop      Rape\n",
       "0     Alabama  1.242564  0.782839 -0.520907 -0.003416\n",
       "1      Alaska  0.507862  1.106823 -1.211764  2.484203\n",
       "2     Arizona  0.071633  1.478803  0.998980  1.042878\n",
       "3    Arkansas  0.232349  0.230868 -1.073593 -0.184917\n",
       "4  California  0.278268  1.262814  1.758923  2.067820"
      ]
     },
     "execution_count": 28,
     "metadata": {},
     "output_type": "execute_result"
    }
   ],
   "source": [
    "# code here and in additional cells if needed\n",
    "# work with standard units\n",
    "def standard_units(x):\n",
    "    \"Convert any array of numbers to standard units.\"\n",
    "    return (x - np.average(x))/np.std(x,ddof=1)  \n",
    "\n",
    "crime_norm_df=pd.DataFrame(\n",
    "        {\"State\":crime_df.State,\n",
    "         \"Murder\": standard_units(crime_df.Murder),\n",
    "         \"Assault\": standard_units(crime_df.Assault),\n",
    "         \"UrbanPop\": standard_units(crime_df.UrbanPop),\n",
    "         \"Rape\": standard_units(crime_df.Rape)})\n",
    "         \n",
    "crime_norm_df.head(5)"
   ]
  },
  {
   "cell_type": "code",
   "execution_count": 31,
   "metadata": {},
   "outputs": [],
   "source": [
    "norm_by_state = crime_norm_df.groupby('State').sum()"
   ]
  },
  {
   "cell_type": "code",
   "execution_count": 33,
   "metadata": {},
   "outputs": [
    {
     "data": {
      "image/png": "[encoded data removed]",
      "text/plain": [
       "<Figure size 720x504 with 1 Axes>"
      ]
     },
     "metadata": {},
     "output_type": "display_data"
    }
   ],
   "source": [
    "clust1 = linkage(norm_by_state, 'complete')\n",
    "plots.figure(figsize=(10, 7))  \n",
    "dendrogram(clust1,  \n",
    "            orientation='top',\n",
    "            labels=list(crime_df['State']),\n",
    "            distance_sort='descending')\n",
    "plots.show()  "
   ]
  },
  {
   "cell_type": "markdown",
   "metadata": {},
   "source": [
    "After standardizing there are four clusters (under the line y=4) instead of the previous three as indicated by the 4 different colorings of groupings. In regards to this data standardizing does not entirely make sense. If we are trying to group the various states by safety level, then "
   ]
  },
  {
   "cell_type": "markdown",
   "metadata": {},
   "source": [
    "#### Question 1.3 (K-means, 5 points)\n",
    "\n",
    "Perform K-means on the standardized data. The goal here is to determine a reasonable K using the **elbow plot** argument we discussed in class. For K=1,2,...,10 calculate the objective function (sum of squared deviations) at the step where the K-means algorithm converges and plot it against K. Discuss which K you would choose to perform K-means.\n"
   ]
  },
  {
   "cell_type": "code",
   "execution_count": 25,
   "metadata": {},
   "outputs": [],
   "source": [
    "# code here and in additional cells if needed\n"
   ]
  },
  {
   "cell_type": "code",
   "execution_count": null,
   "metadata": {},
   "outputs": [],
   "source": []
  },
  {
   "cell_type": "markdown",
   "metadata": {},
   "source": [
    "*Write your answer here, replacing this text.*"
   ]
  },
  {
   "cell_type": "markdown",
   "metadata": {},
   "source": [
    "#### Question 1.4 (K-means clusters, 5 points)\n",
    "\n",
    "Perform K-means on the standardized data with the K you proposed in Q1.3. How do the clusters compare to what you discovered using hierarchical clustering?\n"
   ]
  },
  {
   "cell_type": "code",
   "execution_count": null,
   "metadata": {},
   "outputs": [],
   "source": [
    "# code here and in additional cells if needed\n",
    "..."
   ]
  },
  {
   "cell_type": "markdown",
   "metadata": {},
   "source": [
    "*Write your answer here, replacing this text.*"
   ]
  },
  {
   "cell_type": "markdown",
   "metadata": {},
   "source": [
    "## 2. State voting (30 points) \n",
    "\n",
    "We look here at how states voted in presidential elections between 1972 and 2020. We would like to identify clusters showing groups of states that vote similarly.\n",
    "\n",
    "We downloaded the data from Wikipedia: https://en.wikipedia.org/wiki/List_of_United_States_presidential_election_results_by_state.\n",
    "\n",
    "The first table on that page was saved in a file called `presidential_elections.csv`. Run the cells below to upload the data and see some info on it."
   ]
  },
  {
   "cell_type": "code",
   "execution_count": 3,
   "metadata": {
    "scrolled": true
   },
   "outputs": [
    {
     "data": {
      "text/plain": [
       "(53, 67)"
      ]
     },
     "execution_count": 3,
     "metadata": {},
     "output_type": "execute_result"
    }
   ],
   "source": [
    "df = pd.read_csv(\"presidential_elections.csv\")\n",
    "df.shape"
   ]
  },
  {
   "cell_type": "code",
   "execution_count": null,
   "metadata": {},
   "outputs": [],
   "source": [
    "df.head(5)"
   ]
  },
  {
   "cell_type": "markdown",
   "metadata": {},
   "source": [
    "#### Question 2.1 ( Data cleaning, 10 points)\n",
    "\n",
    "The data in this table is messy. Create a clean version of this table called `df_1972_2020_clean`. It should contain exactly 51 rows (corresponding to the 50 states plus Washington DC) and 13 columns (one for each of the election years from 1972 to 2020).\n",
    "\n",
    "Also create an array with the state names, `states`, that has length 51 and contains the states in the order corresponding to the rows of the data frame.\n",
    "\n",
    "Hint. The following panda functions are useful: iloc, drop, rename.\n",
    "\n",
    "**Notes**: \n",
    "- Feel free to open your csv file in Excel or Google Sheets to explore the data if you find that easier. **However, we require that you do your actual data cleaning in pandas, i.e. don't just delete and rename columns in Excel.**\n",
    "- In your projects, it is sometimes more convenient to manually do your data cleaning using Excel or other tools. The downside of doing this is that you have no record of what you did, and if you have to redownload the data, you have to redo the manual data cleaning process."
   ]
  },
  {
   "cell_type": "code",
   "execution_count": null,
   "metadata": {},
   "outputs": [],
   "source": [
    "# code here and in additional cells if needed\n",
    "..."
   ]
  },
  {
   "cell_type": "markdown",
   "metadata": {},
   "source": [
    "#### Question 2.2 ( Numerical results, 4 points)\n",
    "\n",
    "To perform clustering, we need to convert our data into being numerical. To do this, replace all of the \"D\" characters with the number 0, and all of the \"R\" characters with the number 1. Assign the resulting table to `df_1972_2020_numerical`."
   ]
  },
  {
   "cell_type": "code",
   "execution_count": null,
   "metadata": {},
   "outputs": [],
   "source": [
    "# code here and in additional cells if needed\n",
    "..."
   ]
  },
  {
   "cell_type": "markdown",
   "metadata": {},
   "source": [
    "#### Question 2.3 (Similar states , 6 points)\n",
    "\n",
    "As you might expect, some states voted exactly alike in these elections. This question asks you to find:\n",
    "1. The list of states that voted only Republican over this time period.\n",
    "2. The list of states that voted only Democratic over this time period.\n",
    "3. The list of states that voted exactly the same as Illinois over this time period.\n",
    "\n",
    "Comment briefly on your findings (were you surprised by the IL list?).\n"
   ]
  },
  {
   "cell_type": "code",
   "execution_count": null,
   "metadata": {},
   "outputs": [],
   "source": [
    "# code here and in additional cells if needed\n",
    "..."
   ]
  },
  {
   "cell_type": "markdown",
   "metadata": {},
   "source": [
    "*Write your answer here, replacing this text.*"
   ]
  },
  {
   "cell_type": "markdown",
   "metadata": {},
   "source": [
    "#### Question 2.4 ( State clustering, 10 points)\n",
    "\n",
    "You are asked here to cluster states according to their voting record and write a short description of your findings. \n",
    "\n",
    "You need to decide on the method of clustering and on the best way to present your results. "
   ]
  },
  {
   "cell_type": "code",
   "execution_count": null,
   "metadata": {},
   "outputs": [],
   "source": [
    "# code here and in additional cells if needed\n",
    "..."
   ]
  },
  {
   "cell_type": "markdown",
   "metadata": {},
   "source": [
    "*Write your answer here, replacing this text.*"
   ]
  },
  {
   "cell_type": "code",
   "execution_count": null,
   "metadata": {},
   "outputs": [],
   "source": []
  }
 ],
 "metadata": {
  "kernelspec": {
   "display_name": "Python 3 (ipykernel)",
   "language": "python",
   "name": "python3"
  },
  "language_info": {
   "codemirror_mode": {
    "name": "ipython",
    "version": 3
   },
   "file_extension": ".py",
   "mimetype": "text/x-python",
   "name": "python",
   "nbconvert_exporter": "python",
   "pygments_lexer": "ipython3",
   "version": "3.9.12"
  }
 },
 "nbformat": 4,
 "nbformat_minor": 2
}
