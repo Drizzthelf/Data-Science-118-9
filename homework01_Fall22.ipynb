{
 "cells": [
  {
   "cell_type": "markdown",
   "metadata": {},
   "source": [
    "## Data 118, Fall 2022, University of Chicago\n",
    "# Homework 1: Strings, Expressions and Arrays (50 points)\n",
    "\n",
    "Please complete this notebook by filling in the cells provided. The solved homework should be uploaded to Canvas.   Please do not put your answers in more than one file unless you want the TAs to miss some of your answers."
   ]
  },
  {
   "cell_type": "markdown",
   "metadata": {},
   "source": [
    "#### Reading:\n",
    "- Data8 Textbook chapters  [3.1-3.3](http://www.inferentialthinking.com/chapters/03/programming-in-python.html) (Programming in Python),\n",
    "[4](https://www.inferentialthinking.com/chapters/04/Data_Types) (Data Types) and [5](https://www.inferentialthinking.com/chapters/05/Sequences.html) (Sequences).\n",
    "\n",
    "#### Deadline:\n",
    "\n",
    "This assignment is due on **Friday, October 7 at 9:00am**. Late work will not be accepted unless you have made special arrangements with the instructors.\n",
    "\n",
    "Directly sharing answers is not okay, but discussing problems with the course staff is encouraged, and with other students is allowed. \n",
    "\n",
    "You should start early so that you have time to get help if you're stuck. "
   ]
  },
  {
   "cell_type": "code",
   "execution_count": 97,
   "metadata": {},
   "outputs": [],
   "source": [
    "# Don't change this cell; just run it. \n",
    "\n",
    "import numpy as np\n",
    "import pandas as pd\n",
    "\n",
    "import warnings\n",
    "warnings.simplefilter('ignore', FutureWarning)\n",
    "\n",
    "%matplotlib inline\n",
    "import matplotlib.pyplot as plots\n",
    "plots.style.use('fivethirtyeight')"
   ]
  },
  {
   "cell_type": "markdown",
   "metadata": {},
   "source": [
    "## 1. Strings (9 points)"
   ]
  },
  {
   "cell_type": "markdown",
   "metadata": {},
   "source": [
    "Run the following cell. Before running try to guess the answer. Explain why the output of that command is the integer you obtain."
   ]
  },
  {
   "cell_type": "code",
   "execution_count": 3,
   "metadata": {},
   "outputs": [
    {
     "data": {
      "text/plain": [
       "6"
      ]
     },
     "execution_count": 3,
     "metadata": {},
     "output_type": "execute_result"
    }
   ],
   "source": [
    "len('U of C')"
   ]
  },
  {
   "cell_type": "markdown",
   "metadata": {},
   "source": [
    "**Question 1.**  Explain why the above cell gives the answer it does.\n"
   ]
  },
  {
   "cell_type": "markdown",
   "metadata": {},
   "source": [
    "**It is returning the length of the text between the apostrophes including the spaces That would be 6 characters.**"
   ]
  },
  {
   "cell_type": "markdown",
   "metadata": {},
   "source": [
    "Here is a short paragraph from Rachel Carson's book Silent Spring, which first appeared in the New Yorker in 1962.\n",
    "Note that the string 'spring' contains newline characters, which we would like to get rid of."
   ]
  },
  {
   "cell_type": "code",
   "execution_count": 29,
   "metadata": {},
   "outputs": [],
   "source": [
    "spring = '''THE HISTORY OF LIFE on earth has been a history of\n",
    "interaction between living things and their \n",
    "surroundings. To a large extent, the physical form and \n",
    "the habits of the earth's vegetation and its animal life\n",
    "have been molded by the environment. Considering \n",
    "the whole span of earthly time, the opposite effect, in \n",
    "which life actually modifies its surroundings, has been \n",
    "relatively slight. Only within the moment of time \n",
    "represented by the present century has one species—\n",
    "man—acquired significant power to alter the nature of \n",
    "his world.'''"
   ]
  },
  {
   "cell_type": "markdown",
   "metadata": {},
   "source": [
    "**Question 2.** Using `str.replace()`, create a string called `stanza_oneline` with all the newlines replaced by spaces. An example of using `str.replace()` is in the first cell code of Question 4."
   ]
  },
  {
   "cell_type": "code",
   "execution_count": 33,
   "metadata": {},
   "outputs": [
    {
     "data": {
      "text/plain": [
       "\"THE HISTORY OF LIFE on earth has been a history of interaction between living things and their  surroundings. To a large extent, the physical form and  the habits of the earth's vegetation and its animal life have been molded by the environment. Considering  the whole span of earthly time, the opposite effect, in  which life actually modifies its surroundings, has been  relatively slight. Only within the moment of time  represented by the present century has one species— man—acquired significant power to alter the nature of  his world.\""
      ]
     },
     "execution_count": 33,
     "metadata": {},
     "output_type": "execute_result"
    }
   ],
   "source": [
    "#Q2 Answer \n",
    "stanza_oneline = spring.replace('\\n',' ')\n",
    "stanza_oneline"
   ]
  },
  {
   "cell_type": "markdown",
   "metadata": {},
   "source": [
    "**Question 3.**  Write python expressions that count the number of words and the number of sentences in this paragraph.  (**Hint**:  Check your answer. If your expression gives the wrong answer, fix your expression.) "
   ]
  },
  {
   "cell_type": "code",
   "execution_count": 36,
   "metadata": {},
   "outputs": [
    {
     "data": {
      "text/plain": [
       "88"
      ]
     },
     "execution_count": 36,
     "metadata": {},
     "output_type": "execute_result"
    }
   ],
   "source": [
    "#Q3 Answer part 1\n",
    "fix1 = stanza_oneline.replace('—',' ')\n",
    "fix2 = fix1.replace('  ',' ')\n",
    "number_words = np.char.count(fix2,' ') + 1\n",
    "number_words"
   ]
  },
  {
   "cell_type": "code",
   "execution_count": 17,
   "metadata": {},
   "outputs": [
    {
     "data": {
      "text/plain": [
       "array(4)"
      ]
     },
     "execution_count": 17,
     "metadata": {},
     "output_type": "execute_result"
    }
   ],
   "source": [
    "#Q3 Answer part 2\n",
    "number_sentences = np.char.count(spring, '.')\n",
    "number_sentences"
   ]
  },
  {
   "cell_type": "markdown",
   "metadata": {},
   "source": [
    "**Question 4.** Use the *replace* function for strings to change the string *'machine learning'* into the string *'learning machine'*. You must do everything into one line of code and you can only replace one full word with a different full word. An example of using *replace* twice in one line of code is below. [Note: the output should be a string of the same length as the one you started with; no extra spaces etc.] "
   ]
  },
  {
   "cell_type": "code",
   "execution_count": 38,
   "metadata": {},
   "outputs": [
    {
     "data": {
      "text/plain": [
       "'happy place'"
      ]
     },
     "execution_count": 38,
     "metadata": {},
     "output_type": "execute_result"
    }
   ],
   "source": [
    "# this cell illustrates the use of .replace\n",
    "'on campus'.replace('on','happy').replace('campus','place')"
   ]
  },
  {
   "cell_type": "code",
   "execution_count": 40,
   "metadata": {},
   "outputs": [
    {
     "data": {
      "text/plain": [
       "'learning machine'"
      ]
     },
     "execution_count": 40,
     "metadata": {},
     "output_type": "execute_result"
    }
   ],
   "source": [
    "#Q4 answer here\n",
    "'machine learning'.replace('machine','learning').replace(' learning',' machine')"
   ]
  },
  {
   "cell_type": "markdown",
   "metadata": {},
   "source": [
    "The *split* command breaks a string into a list a strings by a specified separator. Also recall that numbers in square braces access elements in a list \"slicing\" by number.  Below is an example of using the `split()` command, list slicing, and the string concatenation using + to execute the following: from the string *'learning is done by machine'* obtain the string '*machine learning'*."
   ]
  },
  {
   "cell_type": "code",
   "execution_count": 41,
   "metadata": {},
   "outputs": [
    {
     "data": {
      "text/plain": [
       "'machine learning'"
      ]
     },
     "execution_count": 41,
     "metadata": {},
     "output_type": "execute_result"
    }
   ],
   "source": [
    "mystring = \"learning is done by machine\"\n",
    "mynewstring = mystring.split()[4] + \" \" + mystring.split()[0]\n",
    "mynewstring"
   ]
  },
  {
   "cell_type": "code",
   "execution_count": 42,
   "metadata": {},
   "outputs": [],
   "source": [
    "mystring1 = 'Why do we have to do this? Is this going to be on the test?'\n"
   ]
  },
  {
   "cell_type": "markdown",
   "metadata": {},
   "source": [
    "**Question 5.**  The string `mystring1` is introduced in the cell above. Build the string \"we have to do this\" from the parts of `mystring1.split()`, and remove the question marks as needed.  \n"
   ]
  },
  {
   "cell_type": "code",
   "execution_count": 50,
   "metadata": {},
   "outputs": [
    {
     "data": {
      "text/plain": [
       "'we have to do this'"
      ]
     },
     "execution_count": 50,
     "metadata": {},
     "output_type": "execute_result"
    }
   ],
   "source": [
    "# Q5 answer here\n",
    "split1 = mystring1.split()\n",
    "answer5 = split1[2] + \" \" + split1[3] + \" \" + split1[4] + \" \" + split1[5] + \" \" + split1[8]\n",
    "answer5"
   ]
  },
  {
   "cell_type": "markdown",
   "metadata": {},
   "source": [
    "## 2. Names and Assignment Statements (9 points)"
   ]
  },
  {
   "cell_type": "markdown",
   "metadata": {},
   "source": [
    "Python sometimes gives you difficult-to-get-used-to error messages. "
   ]
  },
  {
   "cell_type": "code",
   "execution_count": 56,
   "metadata": {},
   "outputs": [],
   "source": [
    "# assign four new variables with unsurprising values\n",
    "one, two, three, four = 1,2,3,4"
   ]
  },
  {
   "cell_type": "markdown",
   "metadata": {},
   "source": [
    "**Question 6.** \n",
    "What happens when we run this expression?  (You may want to check the python documentation under the heading \"Operator precedence\" https://docs.python.org/3/reference/expressions.html#operator-precedence for the order-of-operations hierarchy in python.)"
   ]
  },
  {
   "cell_type": "code",
   "execution_count": 57,
   "metadata": {},
   "outputs": [],
   "source": [
    "result = 4 + two == 6"
   ]
  },
  {
   "cell_type": "markdown",
   "metadata": {},
   "source": [
    "Choose the best explanation of what this cell does and put your answer (a, b, c, or d) in the cell below.\n",
    "\n",
    "&emsp;a. Add 4 and two, store the result in 'result' and compare this to the value 6\n",
    "\n",
    "&emsp;b. Compare two and 6 (False), add 4, and store the sum in 'result'\n",
    "\n",
    "&emsp;c. Add 4 and two, compare to 6, and store the comparison in 'result'\n",
    "\n",
    "&emsp;d. Generates an error because 'result' is not defined."
   ]
  },
  {
   "cell_type": "markdown",
   "metadata": {},
   "source": [
    "Answer to Q6 is: c"
   ]
  },
  {
   "cell_type": "markdown",
   "metadata": {},
   "source": [
    "**Question 7.**  "
   ]
  },
  {
   "cell_type": "code",
   "execution_count": 58,
   "metadata": {},
   "outputs": [
    {
     "ename": "SyntaxError",
     "evalue": "invalid syntax (3432669223.py, line 1)",
     "output_type": "error",
     "traceback": [
      "\u001b[1;36m  Input \u001b[1;32mIn [58]\u001b[1;36m\u001b[0m\n\u001b[1;33m    four = two plus two\u001b[0m\n\u001b[1;37m               ^\u001b[0m\n\u001b[1;31mSyntaxError\u001b[0m\u001b[1;31m:\u001b[0m invalid syntax\n"
     ]
    }
   ],
   "source": [
    "four = two plus two"
   ]
  },
  {
   "cell_type": "markdown",
   "metadata": {},
   "source": [
    "Choose the best explanation of what this cell does and put your answer (a, b, c, or d) in the cell below.\n",
    "\n",
    "&emsp;a. The `plus` operation only applies to numbers, not the word \"two\".\n",
    "\n",
    "&emsp;b. `plus` is not defined.\n",
    "\n",
    "&emsp;c. \"=\" is the assignment operator, not the test-for-equality operator, which is \"==\".\n",
    "\n",
    "&emsp;d. `plus` is not a binary operator."
   ]
  },
  {
   "cell_type": "markdown",
   "metadata": {},
   "source": [
    "Answer to Q7 is: d"
   ]
  },
  {
   "cell_type": "markdown",
   "metadata": {},
   "source": [
    "**Question 8.** Choose the best explanation of what's wrong with the code in the cell below and put your answer (a, b, c, or d) in the cell below that.\n",
    "\n",
    "&emsp;a. The + operation only applies to numbers, not the word `six`.\n",
    "\n",
    "&emsp;b. `six` is not defined.\n",
    "\n",
    "&emsp;c. \"=\" is the assignment operator, not the test-for-equality operator, which is \"==\".\n",
    "\n",
    "&emsp;d. `+` is not a binary operator."
   ]
  },
  {
   "cell_type": "code",
   "execution_count": 60,
   "metadata": {},
   "outputs": [
    {
     "ename": "NameError",
     "evalue": "name 'six' is not defined",
     "output_type": "error",
     "traceback": [
      "\u001b[1;31m---------------------------------------------------------------------------\u001b[0m",
      "\u001b[1;31mNameError\u001b[0m                                 Traceback (most recent call last)",
      "Input \u001b[1;32mIn [60]\u001b[0m, in \u001b[0;36m<cell line: 1>\u001b[1;34m()\u001b[0m\n\u001b[1;32m----> 1\u001b[0m number \u001b[38;5;241m=\u001b[39m \u001b[38;5;241m2\u001b[39m \u001b[38;5;241m+\u001b[39m \u001b[43msix\u001b[49m\n",
      "\u001b[1;31mNameError\u001b[0m: name 'six' is not defined"
     ]
    }
   ],
   "source": [
    "number = 2 + six "
   ]
  },
  {
   "cell_type": "markdown",
   "metadata": {},
   "source": [
    "Answer to Q8 is: b"
   ]
  },
  {
   "cell_type": "markdown",
   "metadata": {},
   "source": [
    "<img width=150 src=https://upload.wikimedia.org/wikipedia/commons/1/13/Partially-reflected-plutonium-sphere.jpeg>"
   ]
  },
  {
   "cell_type": "markdown",
   "metadata": {},
   "source": [
    "**Question 9. Doing polynomial math.** A certain device was made by casting and machining 6.46 kg of plutonium alloy into the shape of a sphere.  The alloy has a density of 15.6 g / cm$^3$, and the volume of a sphere is $V = 4 \\pi r^2 / 3$.  What is the diameter of the sphere if the sphere is solid? "
   ]
  },
  {
   "cell_type": "markdown",
   "metadata": {},
   "source": [
    "**Hint:** use algebra to find `r` as a function of `V`, then implement your expression in python."
   ]
  },
  {
   "cell_type": "markdown",
   "metadata": {},
   "source": [
    "**Hint:** The `**` operator takes a number to a power. See the examples in the cell below.\n",
    "\n",
    "**Hint:** A photograph of the sphere is above with a ruler in inches nearby; image is at https://upload.wikimedia.org/wikipedia/commons/1/13/Partially-reflected-plutonium-sphere.jpeg "
   ]
  },
  {
   "cell_type": "code",
   "execution_count": 92,
   "metadata": {},
   "outputs": [
    {
     "name": "stdout",
     "output_type": "stream",
     "text": [
      "The square root of 81 is 9.0\n",
      "The fourth root of 81 is 3.0\n",
      "The third root of 27 is  3.0\n"
     ]
    }
   ],
   "source": [
    "print(\"The square root of 81 is\", 81 **(0.5) )\n",
    "print(\"The fourth root of 81 is\", 81 **(0.25) )"
   ]
  },
  {
   "cell_type": "code",
   "execution_count": 131,
   "metadata": {},
   "outputs": [
    {
     "name": "stdout",
     "output_type": "stream",
     "text": [
      "0.09247757490131363 m\n"
     ]
    }
   ],
   "source": [
    "#Q9 Answer code\n",
    "diameter = 2*((3*6.46/(4*15600*np.pi))**(1/3))# wrong if does not include correct units!\n",
    "print(str(diameter) + ' m')"
   ]
  },
  {
   "cell_type": "markdown",
   "metadata": {},
   "source": [
    "## 3. Creating Arrays (15 points)\n",
    "\n",
    "**Question 10.** Make a python list or tuple containing the names of the Laurentian Great Lakes: Ontario, Erie, Huron, Michigan, and Superior."
   ]
  },
  {
   "cell_type": "code",
   "execution_count": 69,
   "metadata": {},
   "outputs": [],
   "source": [
    "# Q10 Answer code\n",
    "Greatlakes = [\"Ontario\",\"Erie\",\"Huron\",\"Michigan\",\"Superior\"]"
   ]
  },
  {
   "cell_type": "markdown",
   "metadata": {},
   "source": [
    "**Question 11.** Build the string \"Ontario, Erie, Huron, Michigan, and Superior\" from the above list or tuple and other ingredients you have in your kitchen."
   ]
  },
  {
   "cell_type": "markdown",
   "metadata": {},
   "source": [
    "**Advanced Hint**:Strings have a method called `join`.  `join` takes one argument, a list or tuple of strings.  It returns a single string.  Specifically, the value of `a_string.join(a_list)` is a single string that's the [concatenation](https://en.wikipedia.org/wiki/Concatenation) (\"putting together\") of all the strings in `a_list`, with the string `a_string` inserted in between each of the strings.\n"
   ]
  },
  {
   "cell_type": "code",
   "execution_count": 76,
   "metadata": {},
   "outputs": [
    {
     "data": {
      "text/plain": [
       "'Ontario, Erie, Huron, Michigan, and Superior'"
      ]
     },
     "execution_count": 76,
     "metadata": {},
     "output_type": "execute_result"
    }
   ],
   "source": [
    "# Q11 Answer code\n",
    "Greatstring = ', '.join(Greatlakes)\n",
    "Greatstring = Greatstring.replace(\"Superior\",\"and Superior\")\n",
    "Greatstring"
   ]
  },
  {
   "cell_type": "markdown",
   "metadata": {},
   "source": [
    "## 4.  Arrays Indexing and Arithmetic (9 points)\n",
    "\n",
    "These exercises give you practice accessing individual elements of arrays.  In Python (and in many programming languages), elements are accessed by *index*, so the first element is the element at index 0.  \n",
    "\n",
    "**Question 12.** The cell below creates an array of some numbers.  Set `third_element` to the third element of `some_numbers`."
   ]
  },
  {
   "cell_type": "code",
   "execution_count": 77,
   "metadata": {},
   "outputs": [
    {
     "data": {
      "text/plain": [
       "2"
      ]
     },
     "execution_count": 77,
     "metadata": {},
     "output_type": "execute_result"
    }
   ],
   "source": [
    "#Q12 Answer code\n",
    "some_numbers = np.array([1,1,2,3,5,8,13,21])\n",
    "\n",
    "third_element = some_numbers[2]\n",
    "third_element"
   ]
  },
  {
   "cell_type": "markdown",
   "metadata": {},
   "source": [
    "**Question 13.** Multiply the numbers 243, 569, 577, 577, and 600 by 0.3048.  For this question, **don't** use arrays."
   ]
  },
  {
   "cell_type": "code",
   "execution_count": 79,
   "metadata": {},
   "outputs": [
    {
     "name": "stdout",
     "output_type": "stream",
     "text": [
      "74.0664 173.43120000000002 175.86960000000002 175.86960000000002 182.88\n"
     ]
    }
   ],
   "source": [
    "#Q13 Answer code \n",
    "first_product = 243*0.3048\n",
    "second_product = 569*0.3048\n",
    "third_product = 577*0.3048\n",
    "fourth_product = 577*0.3048\n",
    "fifth_product = 600*0.3048\n",
    "\n",
    "print(first_product, second_product, third_product, fourth_product, fifth_product)"
   ]
  },
  {
   "cell_type": "markdown",
   "metadata": {},
   "source": [
    "**Question 14.** Now, do the same calculation, but using an array called `elevations_ft` (that will contain the numbers above) and only a single multiplication (`*`) operator.  Store the 4 results in an array named `elevations_m`.  **Hint:**  you should use `np.array()` "
   ]
  },
  {
   "cell_type": "code",
   "execution_count": 95,
   "metadata": {},
   "outputs": [
    {
     "name": "stdout",
     "output_type": "stream",
     "text": [
      "[243 569 577 577 600]\n"
     ]
    },
    {
     "data": {
      "text/plain": [
       "array([ 74.0664, 173.4312, 175.8696, 175.8696, 182.88  ])"
      ]
     },
     "execution_count": 95,
     "metadata": {},
     "output_type": "execute_result"
    }
   ],
   "source": [
    "#Q14 answer code\n",
    "elevations_ft = np.array([243,569,577,577,600])\n",
    "elevations_m = elevations_ft*0.3048"
   ]
  },
  {
   "cell_type": "markdown",
   "metadata": {},
   "source": [
    "## 5. Lake level diffs (8 points)\n",
    "\n",
    "The cell below loads monthly measurements of the level of Lake Michigan above sea level (in feet) for a ten-year period.\n",
    "\n",
    "The next cell loads the data into a pandas dataframe."
   ]
  },
  {
   "cell_type": "code",
   "execution_count": 121,
   "metadata": {
    "scrolled": true
   },
   "outputs": [
    {
     "data": {
      "text/html": [
       "<div>\n",
       "<style scoped>\n",
       "    .dataframe tbody tr th:only-of-type {\n",
       "        vertical-align: middle;\n",
       "    }\n",
       "\n",
       "    .dataframe tbody tr th {\n",
       "        vertical-align: top;\n",
       "    }\n",
       "\n",
       "    .dataframe thead th {\n",
       "        text-align: right;\n",
       "    }\n",
       "</style>\n",
       "<table border=\"1\" class=\"dataframe\">\n",
       "  <thead>\n",
       "    <tr style=\"text-align: right;\">\n",
       "      <th></th>\n",
       "      <th>Date</th>\n",
       "      <th>MSL (ft)</th>\n",
       "    </tr>\n",
       "  </thead>\n",
       "  <tbody>\n",
       "    <tr>\n",
       "      <th>0</th>\n",
       "      <td>1992/01/01</td>\n",
       "      <td>578.671</td>\n",
       "    </tr>\n",
       "    <tr>\n",
       "      <th>1</th>\n",
       "      <td>1992/02/01</td>\n",
       "      <td>578.727</td>\n",
       "    </tr>\n",
       "    <tr>\n",
       "      <th>2</th>\n",
       "      <td>1992/03/01</td>\n",
       "      <td>578.920</td>\n",
       "    </tr>\n",
       "    <tr>\n",
       "      <th>3</th>\n",
       "      <td>1992/04/01</td>\n",
       "      <td>579.041</td>\n",
       "    </tr>\n",
       "  </tbody>\n",
       "</table>\n",
       "</div>"
      ],
      "text/plain": [
       "         Date  MSL (ft)\n",
       "0  1992/01/01   578.671\n",
       "1  1992/02/01   578.727\n",
       "2  1992/03/01   578.920\n",
       "3  1992/04/01   579.041"
      ]
     },
     "execution_count": 121,
     "metadata": {},
     "output_type": "execute_result"
    }
   ],
   "source": [
    "# read the data into a pandas dataframe\n",
    "# make sure you specify the correct path to your data file\n",
    "lake = pd.read_csv(r\"C:\\Users\\ja123\\Downloads\\LAKELEVEL_30years.csv\")[['Date', 'MSL (ft)']]\n",
    "\n",
    "# this shows the first 4 rows of the table\n",
    "lake.head(4)"
   ]
  },
  {
   "cell_type": "markdown",
   "metadata": {},
   "source": [
    "In the next cell, the name `population` is assigned to an **array** of population estimates."
   ]
  },
  {
   "cell_type": "code",
   "execution_count": 122,
   "metadata": {},
   "outputs": [
    {
     "data": {
      "text/plain": [
       "array([578.671, 578.727, 578.92 , 579.041, 579.304, 579.285, 579.319,\n",
       "       579.237, 579.077, 579.026, 579.274, 579.088, 579.298, 579.275,\n",
       "       579.259, 579.705, 579.833, 580.177, 580.394, 580.328, 580.108,\n",
       "       579.82 , 579.678, 579.491, 579.4  , 579.383, 579.436, 579.57 ,\n",
       "       579.78 , 579.915, 580.118, 580.095, 579.977, 579.688, 579.455,\n",
       "       579.367, 579.183, 579.072, 579.088, 579.219, 579.462, 579.675,\n",
       "       579.469, 579.606, 579.314, 578.825, 578.865, 578.734, 578.72 ,\n",
       "       578.779, 578.926, 579.112, 579.53 , 580.066, 580.236, 580.252,\n",
       "       580.302, 580.053, 579.962, 579.968, 579.994, 580.168, 580.426,\n",
       "       580.576, 581.02 , 581.242, 581.415, 581.385, 581.214, 580.759,\n",
       "       580.386, 580.055, 579.962, 580.01 , 580.111, 580.555, 580.586,\n",
       "       580.44 , 580.37 , 580.09 , 579.667, 579.274, 578.776, 578.444,\n",
       "       578.407, 578.369, 578.365, 578.556, 578.491, 578.635, 578.696,\n",
       "       578.733, 578.288, 577.886, 577.52 , 577.297, 577.216, 577.079,\n",
       "       577.252, 577.412, 577.564, 577.794, 578.019, 577.957, 577.798,\n",
       "       577.465, 577.066, 576.882, 576.674, 576.729, 576.929, 577.071,\n",
       "       577.471, 577.747, 577.755, 577.656, 577.647, 577.478, 577.575,\n",
       "       577.497, 577.334, 577.3  , 577.521, 577.738, 578.217, 578.516,\n",
       "       578.622, 578.51 , 578.271, 577.989, 577.563, 577.08 , 576.857,\n",
       "       576.803, 576.74 , 577.226, 577.439, 577.581, 577.632, 577.696,\n",
       "       577.218, 577.071, 577.091, 577.137, 577.137, 577.   , 577.236,\n",
       "       577.591, 578.043, 578.6  , 578.842, 578.64 , 578.426, 577.984,\n",
       "       577.855, 577.734, 577.892, 577.924, 578.   , 578.199, 578.245,\n",
       "       578.236, 578.241, 578.104, 577.781, 577.601, 577.185, 577.054,\n",
       "       577.202, 577.277, 577.386, 577.715, 577.904, 578.064, 577.933,\n",
       "       578.04 , 577.794, 577.453, 577.424, 577.323, 577.411, 577.283,\n",
       "       577.415, 577.742, 577.875, 577.832, 577.738, 577.609, 577.299,\n",
       "       577.118, 576.673, 576.456, 576.418, 576.825, 576.98 , 577.414,\n",
       "       577.8  , 578.055, 578.281, 578.371, 578.245, 577.889, 577.52 ,\n",
       "       577.338, 577.565, 577.665, 578.014, 578.393, 578.704, 579.041,\n",
       "       578.962, 578.9  , 578.885, 578.586, 578.484, 578.276, 578.1  ,\n",
       "       578.131, 578.091, 578.064, 578.118, 578.292, 578.334, 578.243,\n",
       "       577.98 , 577.759, 577.357, 577.188, 576.986, 576.886, 577.171,\n",
       "       577.449, 578.132, 578.346, 578.398, 578.373, 578.179, 577.971,\n",
       "       577.756, 577.59 , 577.473, 577.427, 577.606, 577.796, 577.845,\n",
       "       577.776, 577.762, 577.46 , 577.063, 576.704, 576.449, 576.405,\n",
       "       575.982, 576.398, 576.516, 576.844, 577.567, 577.88 , 577.924,\n",
       "       577.802, 577.774, 577.539, 577.407, 577.47 , 577.293, 577.389,\n",
       "       577.531, 577.926, 578.559, 578.949, 579.091, 579.275, 579.283,\n",
       "       579.433, 579.229, 579.305, 579.164, 579.348, 579.156, 579.435,\n",
       "       579.589, 579.963, 580.003, 579.865, 579.883, 579.568, 579.214,\n",
       "       579.348, 579.36 , 579.48 , 579.701, 580.333, 580.381, 580.42 ,\n",
       "       580.299, 580.233, 580.144, 579.892, 579.432, 578.957, 579.075,\n",
       "       579.098, 579.442, 579.944, 580.348, 580.449, 580.883, 580.906,\n",
       "       580.705, 580.367, 580.253, 580.089, 579.925, 579.997, 580.305,\n",
       "       580.361, 580.712, 580.971, 580.886, 580.699, 580.781, 580.541,\n",
       "       580.44 , 580.361, 580.289, 580.341, 580.433, 580.886, 581.604,\n",
       "       582.018, 582.106, 581.952, 581.742, 581.821, 581.66 , 581.644,\n",
       "       581.709, 581.663, 581.663, 581.946, 582.26 , 582.388, 582.385,\n",
       "       582.303, 581.962, 581.68 , 581.348, 581.293, 581.148, 580.902,\n",
       "       580.755, 580.794, 580.797, 580.65 , 581.004, 580.932, 580.702,\n",
       "       580.669, 580.023])"
      ]
     },
     "execution_count": 122,
     "metadata": {},
     "output_type": "execute_result"
    }
   ],
   "source": [
    "# And this cell puts the numbers in a numpy array called `lakelevel`.\n",
    "lakelevel = lake[\"MSL (ft)\"].values\n",
    "lakelevel"
   ]
  },
  {
   "cell_type": "markdown",
   "metadata": {},
   "source": [
    "In the following questions, you will apply some built-in Numpy functions to this array.\n",
    "\n",
    "The difference function `np.diff` subtracts each element in an array by the element that preceeds it. As a result, the length of the array `np.diff` returns will always be one less than the length of the input array.\n",
    "\n",
    "The cumulative sum function `np.cumsum` outputs an array of partial sums. For example, the third element in the output array corresponds to the sum of the first, second, and third elements."
   ]
  },
  {
   "cell_type": "code",
   "execution_count": 126,
   "metadata": {},
   "outputs": [
    {
     "data": {
      "text/plain": [
       "array([1, 0, 1, 1, 2, 3])"
      ]
     },
     "execution_count": 126,
     "metadata": {},
     "output_type": "execute_result"
    }
   ],
   "source": [
    "#example of np.diff\n",
    "temp_array = np.array([0,1,1,2,3,5,8])\n",
    "np.diff(temp_array)"
   ]
  },
  {
   "cell_type": "code",
   "execution_count": 124,
   "metadata": {},
   "outputs": [
    {
     "data": {
      "text/plain": [
       "array([ 0,  1,  2,  4,  7, 12, 20], dtype=int32)"
      ]
     },
     "execution_count": 124,
     "metadata": {},
     "output_type": "execute_result"
    }
   ],
   "source": [
    "#example of cumsum\n",
    "np.cumsum(temp_array)"
   ]
  },
  {
   "cell_type": "markdown",
   "metadata": {},
   "source": [
    "**Question 15.** Often we are interested understanding how values change with time. Use `np.diff` and `np.max` (or just `max`) to calculate the largest  change in lake level between two consecutive months."
   ]
  },
  {
   "cell_type": "code",
   "execution_count": 128,
   "metadata": {},
   "outputs": [
    {
     "data": {
      "text/plain": [
       "0.7229999999999563"
      ]
     },
     "execution_count": 128,
     "metadata": {},
     "output_type": "execute_result"
    }
   ],
   "source": [
    "# Q15 answer code\n",
    "max(np.diff(lakelevel))"
   ]
  },
  {
   "cell_type": "markdown",
   "metadata": {},
   "source": [
    "**Question 16.** Describe in words the result of the following expression. What do the values in the resulting array represent? "
   ]
  },
  {
   "cell_type": "code",
   "execution_count": null,
   "metadata": {},
   "outputs": [],
   "source": [
    "np.cumsum(np.diff(lakelevel))"
   ]
  },
  {
   "cell_type": "markdown",
   "metadata": {},
   "source": [
    "*Q16 Answer here:* The cumulative change in the lakelevel of Lake Michigan over the 10 year period. "
   ]
  },
  {
   "cell_type": "markdown",
   "metadata": {},
   "source": [
    "**Question 17**  These two expressions give different answers.  Why is that?"
   ]
  },
  {
   "cell_type": "code",
   "execution_count": 129,
   "metadata": {},
   "outputs": [
    {
     "data": {
      "text/plain": [
       "(358, 359)"
      ]
     },
     "execution_count": 129,
     "metadata": {},
     "output_type": "execute_result"
    }
   ],
   "source": [
    "len(np.cumsum(np.diff(lakelevel))), len(lakelevel)"
   ]
  },
  {
   "cell_type": "markdown",
   "metadata": {},
   "source": [
    "*Q17 Answer here:* Because the np.diff function returns an array of length 1 less. It takes the difference between two values, and there are arraylength-1 differences. "
   ]
  },
  {
   "cell_type": "code",
   "execution_count": null,
   "metadata": {},
   "outputs": [],
   "source": []
  }
 ],
 "metadata": {
  "kernelspec": {
   "display_name": "Python 3 (ipykernel)",
   "language": "python",
   "name": "python3"
  },
  "language_info": {
   "codemirror_mode": {
    "name": "ipython",
    "version": 3
   },
   "file_extension": ".py",
   "mimetype": "text/x-python",
   "name": "python",
   "nbconvert_exporter": "python",
   "pygments_lexer": "ipython3",
   "version": "3.9.12"
  }
 },
 "nbformat": 4,
 "nbformat_minor": 4
}
